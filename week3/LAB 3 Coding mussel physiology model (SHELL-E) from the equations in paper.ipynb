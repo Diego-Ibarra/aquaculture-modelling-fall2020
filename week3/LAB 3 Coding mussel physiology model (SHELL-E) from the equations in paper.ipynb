{
 "cells": [
  {
   "cell_type": "code",
   "execution_count": 57,
   "metadata": {},
   "outputs": [],
   "source": [
    "%matplotlib inline"
   ]
  },
  {
   "cell_type": "markdown",
   "metadata": {},
   "source": [
    "# LAB 3 - Coding mussel physiology model (SHELL-E) from the equations in paper\n",
    "\n",
    "MARI4600/BIO5600: Ecosystem Modelling for Aquaculture (Dalhousie University)\n",
    "\n",
    "--------------------------------------------------\n",
    "\n",
    "\n",
    "--------------------------------------------------\n",
    "\n",
    "In this lab we will take the equations from the paper <a href=\"http://www.cmep.ca/jcullen/publications/2014/Ibarra_etal_2014_Ecol_Modelling_with_Supplementary.pdf\" target=\"__blank\">Ibarra_etal_2014_Ecol_Modelling_with_Supplementary.pdf</a> and turned them into Python code. Note that here we will only code the \"physiology\" sub-model, however the full model also contains sub-models of hydrodynamics, sediments, planktonic ecosystem, and mussel population dynamics. \n",
    "\n",
    "<img src=\"./diagram.png\" width=\"500px\">\n",
    "\n",
    "_**Reference:** Ibarra DA, Fennel K, Cullen JJ (2014) Coupling 3-D Eulerian bio-physics (ROMS) with individual-based shellfish ecophysiology (SHELL-E): A hybrid model for carrying capacity and environmental impacts of bivalve aquaculture. Ecological Modelling. 273:63-78._\n",
    "\n",
    "------------------\n"
   ]
  },
  {
   "cell_type": "markdown",
   "metadata": {},
   "source": [
    "## The \"skeleton\"\n",
    "\n",
    "Once you code a model and got it working, you really want to \"leave it alone\". You want to be able to run your model without having to modify your model code, because this may result in you making a mistake and breaking the model. Therefore you want to write your code **inside functions** that you can then call from a different file (i.e. leaving your source code untouched and safe). Here, we'll split our code into 3 functions, `load_defaults`, `run` and `plot`, so that later you can execute the different parts of your code independently (e.g. you can run your model with out making plots).\n",
    "\n",
    "The code below is the \"skeleton\" of our code. It consists on 3 \"empty\" functions plus an `if __name__ == \"__main__\":` statement that will help us to execute our functions during development by simply running the file.\n",
    "\n",
    "In **Spyder**, open a new empty file and save it as <span class='file'>model_SHELLE.py</span>\n",
    "\n",
    "Copy-paste the following in <span class='file'>model_SHELLE.py</span> and click <span class='run'></span>"
   ]
  },
  {
   "cell_type": "code",
   "execution_count": 58,
   "metadata": {},
   "outputs": [
    {
     "name": "stdout",
     "output_type": "stream",
     "text": [
      "Running my_module.py\n",
      "--------------------\n",
      "--------------------\n"
     ]
    }
   ],
   "source": [
    "def load_defaults():\n",
    "    return\n",
    "    \n",
    "def run():\n",
    "    return\n",
    "\n",
    "def plot():\n",
    "    return\n",
    "\n",
    "if __name__ == \"__main__\":\n",
    "    print('Running my_module.py')\n",
    "    print('--------------------')\n",
    "    print('--------------------')"
   ]
  },
  {
   "cell_type": "markdown",
   "metadata": {},
   "source": [
    "Note that the contents of the `if __name__ == \"__main__\":` will only be executed if you run the <span class='file'>model_SHELLE.py</span> file, and will not be executed if you import the module and use the functions from another file.\n",
    "\n",
    "Now, lets ad some \"flesh \" to the \"skeleton\"... "
   ]
  },
  {
   "cell_type": "markdown",
   "metadata": {},
   "source": [
    "-----------------------\n",
    "\n",
    "## THE TEMPLATE\n",
    "\n",
    "The code below has the \"backbone\" of a empty model. It contains the same 3 functions described above, but also contains elements that are used in all models. Therefore, **if later you need to code a physiology model from a paper, you can start from this template**. The contents of the template are explained below. \n",
    "\n",
    "Replace the contents of <span class='file'>model_SHELLE.py</span> with the template code below and click <span class='run'></span>"
   ]
  },
  {
   "cell_type": "code",
   "execution_count": 59,
   "metadata": {},
   "outputs": [
    {
     "name": "stdout",
     "output_type": "stream",
     "text": [
      "Executing my_module.py\n",
      "--------------------\n",
      "Loading defaults...\n",
      "Running model...\n",
      "Model run: DONE!!!\n"
     ]
    },
    {
     "data": {
      "image/png": "[encoded data removed]",
      "text/plain": [
       "<Figure size 432x288 with 1 Axes>"
      ]
     },
     "metadata": {
      "needs_background": "light"
     },
     "output_type": "display_data"
    },
    {
     "name": "stdout",
     "output_type": "stream",
     "text": [
      "--------------------\n"
     ]
    }
   ],
   "source": [
    "def load_defaults():\n",
    "    print('Loading defaults...')\n",
    "    # Framework\n",
    "    days = 365 * 3 # One year\n",
    "    dt   = 0.01 # units: days    \n",
    "    \n",
    "    # Parameters\n",
    "    par = {}\n",
    "    # EXAMPLE: par['mu'] = 1\n",
    "    \n",
    "    # Initial conditions\n",
    "    InitCond = {}\n",
    "    # EXAMPLE: InitCond['P'] = 1\n",
    "    \n",
    "    return  days, dt, par, InitCond\n",
    "    \n",
    "def run(days, dt, par, InitCond):\n",
    "    print('Running model...')\n",
    "    # Import libraries\n",
    "    import numpy as np\n",
    "    \n",
    "    # Setup the framework \n",
    "    NoSTEPS = int(days / dt) # Calculates the number of steps \n",
    "    time = np.linspace(0,days,NoSTEPS) # Makes vector array of equally spaced numbers \n",
    "    \n",
    "    # Create arrays of zeros\n",
    "    # EXAMPLE: P = np.zeros((NoSTEPS), float)\n",
    "    \n",
    "    # Initializing with initial conditions\n",
    "    # EXAMPLE: P[0] = InitCond['P']\n",
    "    \n",
    "    # *****************************************************************************\n",
    "    # MAIN MODEL LOOP *************************************************************\n",
    "    for t in range(0,NoSTEPS-1):\n",
    "        # Estimate limiting functions\n",
    "        \n",
    "        #Estimate processes\n",
    "        a = 0 #DUMMY LINE\n",
    "        \n",
    "        #Estimate Time rate of change of all State Variables (dXdt) ----\n",
    "        #EXAMPLE: dPdt = 0\n",
    "        \n",
    "        # Update and step (time-stepping) ------------------------------\n",
    "        # EXAMPLE: P[t+1] = P[t] + (dPdt * dt)\n",
    "        \n",
    "    # end of main model LOOP*******************************************************\n",
    "    # *****************************************************************************\n",
    "\n",
    "    # Pack output into dictionary\n",
    "    output = {}\n",
    "    output['time'] = time\n",
    "\n",
    "    print('Model run: DONE!!!')\n",
    "    return  output\n",
    "\n",
    "def plot(output):\n",
    "    import matplotlib.pyplot as plt \n",
    "    # Plotting                      \n",
    "    fig, (ax) = plt.subplots(1,1)   \n",
    "    plt.show()                      \n",
    "    return\n",
    "\n",
    "if __name__ == \"__main__\":\n",
    "    print('Executing my_module.py')\n",
    "    print('--------------------')\n",
    "    \n",
    "    days, dt, par, InitCond = load_defaults()\n",
    "    output = run(days, dt, par, InitCond)\n",
    "    plot(output)\n",
    "    \n",
    "    print('--------------------')\n",
    "    "
   ]
  },
  {
   "cell_type": "markdown",
   "metadata": {},
   "source": [
    "Lets explain the template...\n",
    "\n",
    "The template includes all sections that you used in the previous lab (setup the framework, input parameters and initial conditions, create zero arrays, main model loop, plotting, etc.). When you decide to code a model, the template should assist you in knowing where to insert the different parts of the model.\n",
    "\n",
    "When we ran <span class='file'>model_SHELLE.py</span>, we \"loaded\" the 3 functions ( `load_defaults`,`run` and `plot` ) and then executed the contents of `if __name__ == \"__main__\":`.\n",
    "\n",
    "#### The 3 lines within the `if __name__ == \"__main__\":` statement:\n",
    "\n",
    "In the first line `days, dt, par, InitCond = load_defaults()`, we created the variables `days`, `dt`, `par` and `InitCond` and assigned default values to these variables. Note that the default values are specified in the `load_defaults` function. Also note that `par` and `InitCond` are empty (for now). These are dictionaries where we will pack our parameters and initial-conditions (respectively) once we start coding our model.\n",
    "\n",
    "In the second line `output = run(days, dt, par, InitCond)`, we executed the `run` function, which runs the model using `days`, `dt`, `par` and `InitCond` as inputs. The model output is delivered inside the `output` variable. For now, there is no model inside the `run` function (just an empty backbone), and the `output` dictionary is also empty.\n",
    "\n",
    "Finally, in the third line within `if __name__ == \"__main__\":` (i.e. `plot(output)` ), we will plot the contents of `output`. But for now we only make an empty plot.\n"
   ]
  },
  {
   "cell_type": "markdown",
   "metadata": {},
   "source": [
    "-------------\n",
    "\n",
    "## General approach to populate the template\n",
    "\n",
    "Now it is time to start writing the model within the template. The model won't work until it is fully coded. However we do not want to code the entire model before running it for the first time, because it will be hard to fix any bugs and typos. It is important to write the model in little \"chunks\", making sure that the code runs at the end of each \"chunk\". \n",
    "\n",
    "Below are rough steps that we need to follow when writing a code \"chunk\":\n",
    "\n",
    "1. Write one equation in the `#MAIN LOOP` within the `run` function. It is useful if we add in the comments the equation number so that readers can refer back to the paper if they need to.\n",
    "1. If the equation calculates the value of a prognostic variable needing time-stepping, ad the time-stepping in the `# Update and step` section in the `run` function \n",
    "1. If the new equation calculates the value of a state variable that starts as a vector of zeros...\n",
    "    * Create the vector of zeros in the `# Create arrays of zeros` section within the `run` function\n",
    "    * Create an Initial Condition in the the `InitCond` dictionary within the `load_defaults` function\n",
    "    * Initialize the vector of zeros in the `# Initializing with initial conditions` section within the `run` function.\n",
    "1. Go over every term in the newly added equation...\n",
    "    * If the term is a new parameter, add the new parameter to the `par` dictionary in the `load_defaults` function\n",
    "    * If the term is new initial condition, add it to the `InitCond` dictionary in the `load_defaults` function\n",
    "    * If the term is new variable that we have not calculated yet, add a \"dummy variable\" with a value of zero and a `# TO DO` comment so that you remember to come back later and change the value of the variable for the actual equation that estimates it (e.g. `A = 0 # TO DO` ). <span class=\"important\"></span> You need to ad the dummy variable ABOVE your new equation.\n",
    "1. If the new equation produces a values that you need to keep for your records, you need to pack them in the `output` dictionary at the end of the `run` function\n",
    "1. If you want to plot the values generated by the newly added equation, ad the plotting code in the `plot` function\n",
    "\n",
    "<span class=\"important\"></span> Your code won't run until you finish ALL the steps for a given \"chunk\". \n",
    "\n",
    "You will need to follow the steps above for many (but likely not all) of the equations in your paper. Keep in mind the following:\n",
    "\n",
    "* **Not every equation needs to be included**. Many modelling papers have coupled models that contain many sub-models (physics, sediments, plankton ecosystem, population dynamics, physiology, economics, air-see interaction, etc.). You may only need to code one sub-model. For example, in this lab you only need to code the equations describing the physiology of a mussel.\n",
    "* **Start with the equations of the \"prognostic\" variables**. The \"prognostic\" variables are the ones that depend on the previous time-step to estimate the \"future\" time-step. Usually they refer to the biomass of the organism in question and they are the core of the model.  "
   ]
  },
  {
   "cell_type": "markdown",
   "metadata": {},
   "source": [
    "-------------\n",
    "\n",
    "## Adding prognostic variables: Biomass (Eq.2), Soma (Eq.11) and Gonad (Eq.12)\n",
    "\n",
    "Here we'll break our own rules and do 3 equations at once. Because `Biomass = Soma + Gonad`, it will be easier to do the 3 equations simultaneously.\n",
    "\n",
    "\n",
    "(2) $$ \\frac{\\partial B}{\\partial t} = (A - R) - Spawning$$\n",
    "\n",
    "(11) $$ \\frac{\\partial Soma}{\\partial t} = (A - R) \\cdot (1 -RE)$$\n",
    "\n",
    "(12) $$ \\frac{\\partial Gonad}{\\partial t} = [(A - R) \\cdot RE]-Spawning$$\n",
    "\n",
    "\n",
    "<span class=\"important\"></span> The equations in the paper often have a `k` subscript. This is because, in the paper, the model is solved many times for many mussels. But in our case we are only modeling ONE mussel, so we'll simply ignore all the `k` subscripts. Also, in the paper the authors omitted the `t` subscripts to simplify the equations, however keep in mind that all terms DO vary over time.\n",
    "\n",
    "\n",
    "We'll insert the different lines of code in a step-by-step process (you can see the finished \"chunk\" at the end of this section in the CHECKPOINT).\n",
    "\n",
    "<span class=\"important\"></span> Your code may return errors (i.e. it won't run) until you finish coding the entire \"chunk\". However, in practice, the errors are what tells you what needs to be coded next. That is, you write a step, then run the code... if you get error message (it should hint what is missing), add the missing part, run code... and a different error message may appear. Again, write the missing part, run code... and so on until the \"chunk\" is finished. \n",
    "\n",
    "First add the following equations in `# MAIN MODEL LOOP`. Note that we simply made them equal to zero. We'll do the right-side of the equation later.\n",
    "\n",
    "    dBdt = 0 # TO DO Eq.1\n",
    "    dSomadt = 0  # TO DO Eq.11\n",
    "    dGonaddt = 0 # TO DO Eq.12\n",
    "    \n",
    "If you get the following error <span class='lineerror'>IndentationError: expected an indented block</span>...you did not indented your copy-pasted code properly. Make sure you have ONE indent inside the `for` loop.\n",
    "    \n",
    "Then add the following equations in `# Update and step`... and <span class=\"run\"></span> your code (you will get the error shown below).\n",
    "\n",
    "    Soma[t+1] = Soma[t] + (dSomadt * dt)\n",
    "    Gonad[t+1] = Gonad[t] + (dGonaddt * dt)\n",
    "    B[t+1] = Soma[t+1] + Gonad[t+1]\n",
    "    \n",
    "After you ran your code, you should have gotten the following error:\n",
    "\n",
    "<div class='codeerror'>NameError: global name 'Soma' is not defined</div>\n",
    "\n",
    "This error occurred because Python could not find the varable `Soma`, which is not surprising because have not made `Soma`, `Gonad` or `B` yet. So lets make them...\n",
    "    \n",
    "Make new \"zero-vectors\" in the `# Create arrays of zeros` section... and <span class=\"run\"></span> your code.\n",
    "\n",
    "    B = np.zeros((NoSTEPS,),float)\n",
    "    Soma = np.zeros((NoSTEPS,),float)\n",
    "    Gonad = np.zeros((NoSTEPS,),float)\n",
    "    \n",
    "This time your code should have ran just fine. However, you need to remember that every time you make a \"zero\" vector, you need to \"initialize\" it... otherwise your model will output only zeros. Therefore, initialize the new zero vectors in the `# Initializing with initial conditions` section... \n",
    "\n",
    "    Soma[0] = InitCond['Soma']\n",
    "    Gonad[0] = InitCond['Gonad']\n",
    "    B[0] = InitCond['Soma'] + InitCond['Gonad']\n",
    "    \n",
    "<span class=\"run\"></span> your code. This time you WILL get an error (shown below) because we are calling initial conditions that do not exist:\n",
    "\n",
    "<div class='codeerror'>KeyError: 'Soma'</div>\n",
    "\n",
    "This error means that Python could not find the `Soma` key which, if you looked at the code we just added, its the key used in  `InitCond['Soma']`. Python was able to find the dictionary `InitCond`, but it did not find inside the key `Soma`. To fix this, we have to add the missing initial conditions into the `InitCond` dictionary.\n",
    "\n",
    "Ad the following in `# Initial conditions`, however make sure you insert your code **BEFORE** the `return` line, which is the end of the function.\n",
    "\n",
    "    InitCond['Soma'] = 0.01\n",
    "    InitCond['Gonad'] = 0.0\n",
    "    \n",
    "<span class=\"run\"></span> your code. Now your code worked. However, you still need to remember to pack the output in the `output` dictionary. Otherwise you will get an error later...\n",
    "\n",
    "Pack output in the `# Pack output into dictionary` section\n",
    "\n",
    "    output['B'] = B\n",
    "    output['Soma'] = Soma\n",
    "    output['Gonad'] = Gonad\n",
    "\n",
    "Finally, make a plot in the `plot` function\n",
    "\n",
    "    ax.plot(output['time']/365,output['B'],'r-')\n",
    "    ax.plot(output['time']/365,output['Soma'],'b-')\n",
    "    ax.plot(output['time']/365,output['Gonad'],'g.')\n",
    "    ax.legend(['B', 'Soma', 'Gonad'])\n",
    "    ax.set_ylabel('Nitrogen (mmol N)')\n",
    "    ax.set_xlabel('Time (years)')\n",
    "    \n",
    "    \n",
    "    \n",
    "Add the new lines to <span class='file'>model_SHELLE.py</span> and click <span class='run'></span> **OR...** you can also copy the code within the CHECKPOINT below and replace the entire contents of <span class='file'>model_SHELLE.py</span> and then click <span class='run'></span>\n",
    "\n",
    "<div class='important'></div> The code within the CHECKPOINTS will be increasing **incrementally**, in each step new lines are marked with `# <<<<<< NEW LINE !!!!! <<<<<<<<<<<` comments.\n",
    "        \n",
    "<span class=\"checkpoint\">CHECKPOINT below...</span> "
   ]
  },
  {
   "cell_type": "code",
   "execution_count": 60,
   "metadata": {},
   "outputs": [
    {
     "name": "stdout",
     "output_type": "stream",
     "text": [
      "Executing my_module.py\n",
      "--------------------\n",
      "Loading defaults...\n",
      "Running model...\n",
      "Model run: DONE!!!\n"
     ]
    },
    {
     "data": {
      "image/png": "[encoded data removed]",
      "text/plain": [
       "<Figure size 432x288 with 1 Axes>"
      ]
     },
     "metadata": {
      "needs_background": "light"
     },
     "output_type": "display_data"
    },
    {
     "name": "stdout",
     "output_type": "stream",
     "text": [
      "--------------------\n"
     ]
    }
   ],
   "source": [
    "def load_defaults():\n",
    "    print('Loading defaults...')\n",
    "    # Framework\n",
    "    days = 365 * 3 # One year\n",
    "    dt   = 0.01 # units: days    \n",
    "    \n",
    "    # Parameters\n",
    "    par = {}\n",
    "    \n",
    "    # Initial conditions\n",
    "    InitCond = {}\n",
    "    InitCond['Soma'] = 0.01 # <<<<<<<<<<<<<<<<<<<<<<<<<<<<<<<<<< NEW LINE !!!!! <<<<\n",
    "    InitCond['Gonad'] = 0.0 # <<<<<<<<<<<<<<<<<<<<<<<<<<<<<<<<< NEW LINE !!!!! <<<<\n",
    "    return  days, dt, par, InitCond\n",
    "    \n",
    "def run(days, dt, par, InitCond):\n",
    "    print('Running model...')\n",
    "    # Import libraries\n",
    "    import numpy as np\n",
    "    \n",
    "    # Setup the framework \n",
    "    NoSTEPS = int(days / dt) # Calculates the number of steps \n",
    "    time = np.linspace(0,days,NoSTEPS) # Makes vector array of equally spaced numbers \n",
    "    \n",
    "    # Create arrays of zeros\n",
    "    B = np.zeros((NoSTEPS,),float) # Biomass # <<<<<<<<<<<< NEW LINE !!!!! <<<<<<<<\n",
    "    Soma = np.zeros((NoSTEPS,),float) # <<<<<<<<<<<<<<<<<<< NEW LINE !!!!! <<<<<<<<\n",
    "    Gonad = np.zeros((NoSTEPS,),float) # <<<<<<<<<<<<<<<<<< NEW LINE !!!!! <<<<<<<<\n",
    "    \n",
    "    # Initializing with initial conditions\n",
    "    Soma[0] = InitCond['Soma'] # <<<<<<<<<<<<<<<<<<<<<<<<<< NEW LINE !!!!! <<<<<<<<\n",
    "    Gonad[0] = InitCond['Gonad'] # <<<<<<<<<<<<<<<<<<<<<<<< NEW LINE !!!!! <<<<<<<<\n",
    "    B[0] = InitCond['Soma'] + InitCond['Gonad'] # <<<<<<<<< NEW LINE !!!!! <<<<<<<<\n",
    "    \n",
    "    # *****************************************************************************\n",
    "    # MAIN MODEL LOOP *************************************************************\n",
    "    for t in range(0,NoSTEPS-1):\n",
    "        \n",
    "        dBdt = 0 # TO DO Eq.1 # <<<<<<<<<<<<<<<<<<<<<<<<<<< NEW LINE !!!!! <<<<<<<<\n",
    "        dSomadt = 0  # TO DO Eq.11 # <<<<<<<<<<<<<<<<<<<<<< NEW LINE !!!!! <<<<<<<<\n",
    "        dGonaddt = 0 # TO DO Eq.12 # <<<<<<<<<<<<<<<<<<<<<< NEW LINE !!!!! <<<<<<<<\n",
    "        \n",
    "        # Update and step ------------------------------\n",
    "        Soma[t+1] = Soma[t] + (dSomadt * dt) # <<<<<<<<<<<< NEW LINE !!!!! <<<<<<<<\n",
    "        Gonad[t+1] = Gonad[t] + (dGonaddt * dt) # <<<<<<<<< NEW LINE !!!!! <<<<<<<<\n",
    "        B[t+1] = Soma[t+1] + Gonad[t+1] # <<<<<<<<<<<<<<<<< NEW LINE !!!!! <<<<<<<<\n",
    "        \n",
    "    # end of main model LOOP*******************************************************\n",
    "    # *****************************************************************************\n",
    "\n",
    "    # Pack output into dictionary\n",
    "    output = {}\n",
    "    output['time'] = time\n",
    "    output['B'] = B # <<<<<<<<<<<<<<<<<<<<<<<<<<<<<<<<<<<<< NEW LINE !!!!! <<<<<<<<\n",
    "    output['Soma'] = Soma # <<<<<<<<<<<<<<<<<<<<<<<<<<<<<<< NEW LINE !!!!! <<<<<<<<\n",
    "    output['Gonad'] = Gonad # <<<<<<<<<<<<<<<<<<<<<<<<<<<<< NEW LINE !!!!! <<<<<<<<\n",
    "\n",
    "    print('Model run: DONE!!!')\n",
    "    return  output\n",
    "\n",
    "def plot(output):\n",
    "    import matplotlib.pyplot as plt \n",
    "    # Plotting                      \n",
    "    fig, (ax) = plt.subplots(1,1)\n",
    "    ax.plot(output['time']/365,output['B'],'r-') # <<<<<<<< NEW LINE !!!!! <<<<<<<<\n",
    "    ax.plot(output['time']/365,output['Soma'],'b-') # <<<<< NEW LINE !!!!! <<<<<<<<\n",
    "    ax.plot(output['time']/365,output['Gonad'],'g.') # <<<< NEW LINE !!!!! <<<<<<<<\n",
    "    ax.legend(['B', 'Soma', 'Gonad']) # <<<<<<<<<<<<<<<<<<< NEW LINE !!!!! <<<<<<<<\n",
    "    ax.set_ylabel('Nitrogen (mmol N)') # <<<<<<<<<<<<<<<<<< NEW LINE !!!!! <<<<<<<<\n",
    "    ax.set_xlabel('Time (years)') # <<<<<<<<<<<<<<<<<<<<<<< NEW LINE !!!!! <<<<<<<<\n",
    "    plt.show()                      \n",
    "    return\n",
    "\n",
    "if __name__ == \"__main__\":\n",
    "    print('Executing my_module.py')\n",
    "    print('--------------------')\n",
    "    \n",
    "    days, dt, par, InitCond = load_defaults()\n",
    "    output = run(days, dt, par, InitCond)\n",
    "    plot(output)\n",
    "    \n",
    "    print('--------------------')\n",
    "    "
   ]
  },
  {
   "cell_type": "markdown",
   "metadata": {},
   "source": [
    "If your code worked, you should have a plot where all `B`, `Soma` and `Gonad` are zero throughout the model run."
   ]
  },
  {
   "cell_type": "markdown",
   "metadata": {},
   "source": [
    "Lets do an inspection of the output.\n",
    "\n",
    "<div class=\"c2c\"></div>"
   ]
  },
  {
   "cell_type": "code",
   "execution_count": 61,
   "metadata": {},
   "outputs": [
    {
     "data": {
      "text/plain": [
       "dict"
      ]
     },
     "execution_count": 61,
     "metadata": {},
     "output_type": "execute_result"
    }
   ],
   "source": [
    "type(output)"
   ]
  },
  {
   "cell_type": "markdown",
   "metadata": {},
   "source": [
    "<div class=\"Q\"><br>\n",
    "\n",
    "What type of object is <b>output</b>?\n",
    "\n",
    "<br><br><div class=\"qhelp\"></div></div>"
   ]
  },
  {
   "cell_type": "markdown",
   "metadata": {},
   "source": [
    "Lets see what **keys** are in the `output` dictionary:"
   ]
  },
  {
   "cell_type": "markdown",
   "metadata": {},
   "source": [
    "<div class=\"c2c\"></div>"
   ]
  },
  {
   "cell_type": "code",
   "execution_count": 62,
   "metadata": {},
   "outputs": [
    {
     "data": {
      "text/plain": [
       "dict_keys(['time', 'B', 'Soma', 'Gonad'])"
      ]
     },
     "execution_count": 62,
     "metadata": {},
     "output_type": "execute_result"
    }
   ],
   "source": [
    "output.keys()"
   ]
  },
  {
   "cell_type": "markdown",
   "metadata": {},
   "source": [
    "<div class=\"Q\"><br>\n",
    "\n",
    "How many arrays (i.e. columns) are in the <b>output</b> dictionary... and what are the <b>keys</b> to call those arrays?\n",
    "\n",
    "<br><br><div class=\"qhelp\"></div></div>"
   ]
  },
  {
   "cell_type": "markdown",
   "metadata": {},
   "source": [
    "Lets take a look at the last few values of the `time` array within the `output` dictionary:"
   ]
  },
  {
   "cell_type": "markdown",
   "metadata": {},
   "source": [
    "<div class=\"c2c\"></div>"
   ]
  },
  {
   "cell_type": "code",
   "execution_count": 63,
   "metadata": {},
   "outputs": [
    {
     "data": {
      "text/plain": [
       "array([1094.90999918, 1094.91999927, 1094.92999936, 1094.93999945,\n",
       "       1094.94999954, 1094.95999963, 1094.96999973, 1094.97999982,\n",
       "       1094.98999991, 1095.        ])"
      ]
     },
     "execution_count": 63,
     "metadata": {},
     "output_type": "execute_result"
    }
   ],
   "source": [
    "output['time'][-10:]"
   ]
  },
  {
   "cell_type": "markdown",
   "metadata": {},
   "source": [
    "<div class=\"Q\"><br>\n",
    "\n",
    "What is the last value of the <b>time</b> array inside the <b>output</b> dictionary?\n",
    "\n",
    "<br><br><div class=\"qhelp\"></div></div>"
   ]
  },
  {
   "cell_type": "markdown",
   "metadata": {},
   "source": [
    "\n",
    "-------------\n",
    "\n",
    "## Biomass (B)... continuation Eq.2\n",
    "\n",
    "For the next \"chunk\", we will code the right-hand side of Eq.2.\n",
    "\n",
    "(2) $$ \\frac{\\partial B}{\\partial t} = (A - R) - Spawning$$\n",
    "\n",
    "First in `#MAIN MODEL LOOP` we'll replace `dBdt = 0` for `dBdt = (A - R) - Spawning # Eq.2`. Note that we have not yet specified what is `A`, `R` or `Spawning`, there fore we'll add them ABOVE as zeros (see below).\n",
    "\n",
    "    A = 0 # TO DO \n",
    "    R = 0 # TO DO \n",
    "    Spawning = 0 # TO DO\n",
    "    dBdt = (A - R) - Spawning # Eq.2\n",
    "    \n",
    "Take a look below if you want to see the entire code with new lines included. Add the new lines to <span class='file'>model_SHELLE.py</span> and click <span class='run'></span>\n",
    "\n",
    "<span class=\"checkpoint\">CHECKPOINT below...</span> "
   ]
  },
  {
   "cell_type": "code",
   "execution_count": 64,
   "metadata": {},
   "outputs": [
    {
     "name": "stdout",
     "output_type": "stream",
     "text": [
      "Executing my_module.py\n",
      "--------------------\n",
      "Loading defaults...\n",
      "Running model...\n",
      "Model run: DONE!!!\n"
     ]
    },
    {
     "data": {
      "image/png": "[encoded data removed]",
      "text/plain": [
       "<Figure size 432x288 with 1 Axes>"
      ]
     },
     "metadata": {
      "needs_background": "light"
     },
     "output_type": "display_data"
    },
    {
     "name": "stdout",
     "output_type": "stream",
     "text": [
      "--------------------\n"
     ]
    }
   ],
   "source": [
    "def load_defaults():\n",
    "    print('Loading defaults...')\n",
    "    # Framework\n",
    "    days = 365 * 3 # One year\n",
    "    dt   = 0.01 # units: days    \n",
    "    \n",
    "    # Parameters\n",
    "    par = {}\n",
    "    \n",
    "    # Initial conditions\n",
    "    InitCond = {}\n",
    "    InitCond['Soma'] = 0.01 \n",
    "    InitCond['Gonad'] = 0.0 \n",
    "    return  days, dt, par, InitCond\n",
    "    \n",
    "def run(days, dt, par, InitCond):\n",
    "    print('Running model...')\n",
    "    # Import libraries\n",
    "    import numpy as np\n",
    "    \n",
    "    # Setup the framework \n",
    "    NoSTEPS = int(days / dt) # Calculates the number of steps \n",
    "    time = np.linspace(0,days,NoSTEPS) # Makes vector array of equally spaced numbers \n",
    "    \n",
    "    # Create arrays of zeros\n",
    "    B = np.zeros((NoSTEPS,),float) # Biomass \n",
    "    Soma = np.zeros((NoSTEPS,),float) \n",
    "    Gonad = np.zeros((NoSTEPS,),float)\n",
    "    \n",
    "    # Initializing with initial conditions\n",
    "    Soma[0] = InitCond['Soma'] \n",
    "    Gonad[0] = InitCond['Gonad'] \n",
    "    B[0] = InitCond['Soma'] + InitCond['Gonad'] \n",
    "    \n",
    "    # *****************************************************************************\n",
    "    # MAIN MODEL LOOP *************************************************************\n",
    "    for t in range(0,NoSTEPS-1):\n",
    "        \n",
    "        A = 0 # TO DO # <<<<<<<<<<<<<<<<<<<<<<<<<<<<<<<<<<< NEW LINE !!!!! <<<<<<<<\n",
    "        R = 0 # TO DO # <<<<<<<<<<<<<<<<<<<<<<<<<<<<<<<<<<< NEW LINE !!!!! <<<<<<<<\n",
    "        Spawning = 0 # TO DO # <<<<<<<<<<<<<<<<<<<<<<<<<<<< NEW LINE !!!!! <<<<<<<<\n",
    "        dBdt = (A - R) - Spawning # Eq.2 # <<<<<<<<<<<<<<<< CHANGED  !!!!! <<<<<<<<\n",
    "        dSomadt = 0  \n",
    "        dGonaddt = 0 \n",
    "        \n",
    "        # Update and step ------------------------------\n",
    "        Soma[t+1] = Soma[t] + (dSomadt * dt) \n",
    "        Gonad[t+1] = Gonad[t] + (dGonaddt * dt) \n",
    "        B[t+1] = Soma[t+1] + Gonad[t+1] \n",
    "        \n",
    "    # end of main model LOOP*******************************************************\n",
    "    # *****************************************************************************\n",
    "\n",
    "    # Pack output into dictionary\n",
    "    output = {}\n",
    "    output['time'] = time\n",
    "    output['B'] = B \n",
    "    output['Soma'] = Soma \n",
    "    output['Gonad'] = Gonad \n",
    "\n",
    "    print('Model run: DONE!!!')\n",
    "    return  output\n",
    "\n",
    "def plot(output):\n",
    "    import matplotlib.pyplot as plt \n",
    "    # Plotting                      \n",
    "    fig, (ax) = plt.subplots(1,1)\n",
    "    ax.plot(output['time']/365,output['B'],'r-') \n",
    "    ax.plot(output['time']/365,output['Soma'],'b-') \n",
    "    ax.plot(output['time']/365,output['Gonad'],'g.')\n",
    "    ax.legend(['B', 'Soma', 'Gonad']) \n",
    "    ax.set_ylabel('Nitrogen (mmol N)') \n",
    "    ax.set_xlabel('Time (years)')\n",
    "    plt.show()                     \n",
    "    return\n",
    "\n",
    "if __name__ == \"__main__\":\n",
    "    print('Executing my_module.py')\n",
    "    print('--------------------')\n",
    "    \n",
    "    days, dt, par, InitCond = load_defaults()\n",
    "    output = run(days, dt, par, InitCond)\n",
    "    plot(output)\n",
    "    \n",
    "    print('--------------------')\n",
    "    "
   ]
  },
  {
   "cell_type": "markdown",
   "metadata": {},
   "source": [
    "IF everything worked ok, you should see the plot with zeros (and not an error message). Remember that the actual model won't work until we finished coding the whole model."
   ]
  },
  {
   "cell_type": "markdown",
   "metadata": {},
   "source": [
    "The `load_defaults` function makes a `par` dictionary containing the parameters that we stored there so far. Lets inspect `par`:\n",
    "\n",
    "<div class=\"c2c\"></div>"
   ]
  },
  {
   "cell_type": "code",
   "execution_count": 65,
   "metadata": {},
   "outputs": [
    {
     "data": {
      "text/plain": [
       "{}"
      ]
     },
     "execution_count": 65,
     "metadata": {},
     "output_type": "execute_result"
    }
   ],
   "source": [
    "par"
   ]
  },
  {
   "cell_type": "markdown",
   "metadata": {},
   "source": [
    "<div class=\"Q\"><br>\n",
    "\n",
    "What is inside the <b>par</b> dictionary?\n",
    "\n",
    "<br><br><div class=\"qhelp\"></div></div>"
   ]
  },
  {
   "cell_type": "markdown",
   "metadata": {},
   "source": [
    "The `load_defaults` function also makes a `InitCond` dictionary containing the \"Initial Conditions\" that we stored there so far. Lets inspect `InitCond`:\n",
    "\n",
    "<div class=\"c2c\"></div>"
   ]
  },
  {
   "cell_type": "code",
   "execution_count": 66,
   "metadata": {},
   "outputs": [
    {
     "data": {
      "text/plain": [
       "{'Soma': 0.01, 'Gonad': 0.0}"
      ]
     },
     "execution_count": 66,
     "metadata": {},
     "output_type": "execute_result"
    }
   ],
   "source": [
    "InitCond"
   ]
  },
  {
   "cell_type": "markdown",
   "metadata": {},
   "source": [
    "<div class=\"Q\"><br>\n",
    "\n",
    "What is inside the <b>InitCond</b> dictionary?\n",
    "\n",
    "<br><br><div class=\"qhelp\"></div></div>"
   ]
  },
  {
   "cell_type": "markdown",
   "metadata": {},
   "source": [
    "<div class=\"Q\"><br>\n",
    "\n",
    "What is the value of Initial Condition for <b>Soma</b> inside the <b>InitCond</b> dictionary?\n",
    "\n",
    "<br><br><div class=\"qhelp\"></div></div>"
   ]
  },
  {
   "cell_type": "markdown",
   "metadata": {},
   "source": [
    "----------------\n",
    "\n",
    "## Assimilation (A) - Eq.3\n",
    "\n",
    "In the next chunk we'll add Eq. 3. \n",
    "\n",
    "(3) $$ A = F \\cdot [(\\epsilon_P \\cdot AE_P \\cdot Phy)+(\\epsilon_Z \\cdot AE_Z \\cdot Zoo)+(\\epsilon_D \\cdot AE_D \\cdot SDet)]$$\n",
    "\n",
    "\n",
    "Note that there are 3 variables ( `Phy`, `Zoo` and `SDet` ) whose values are estimated by the Plankton sub-model, but here we won't code that part. Instead, the values of `Phy`, `Zoo` and `SDet` will remain constant throughout the whole model run. The easiest way to do this is to insert this values as **Initial Conditions** (i.e. `InitCond['Phy']`, `InitCond['Zoo']`, and `InitCond['SDet']`). This is why you'll these initial conditon in the `A` equation below.\n",
    "\n",
    "In the `#MAIN MODEL LOOK`, ad the following (Note that if your line is too long, you can break it up using the back-slash character, `\\``, and then continuing in the following line):\n",
    "\n",
    "    # Eq.3 \n",
    "    A = F * ((par['epsilonP']*par['AE_P']*InitCond['Phy'])+ \\\n",
    "                (par['epsilonZ']*par['AE_Z']*InitCond['Zoo'])+ \\\n",
    "                (par['epsilonD']*par['AE_D']*InitCond['SDet']))\n",
    "                \n",
    "Take a look at each terms of the right-hand side of the equation. None of the variables (e.g. `F`), parameters (e.g. `par['AE_P']`) or initial conditions (e.g. `InitCond['Phy'])`) actually exist. Therefore we have to add them before the model works again. Lets test this... once you inserted the snippet above to your code, <span class='run'></span> your code. It won't work, but take a look at the error message.\n",
    "\n",
    "<div class=\"codeerror\">NameError: global name 'F' is not defined</div>  \n",
    "\n",
    "`F` is a new variable that we have not defined yet. We need to code the equation to calculate it, but for now lets just write a place holder (make sure to ad it BEFORE the equation for `A`)\n",
    "\n",
    "    F = 0 # TO DO\n",
    "    \n",
    "After you inserted the snippet above, <span class='run'></span> your code. Again, it won't work, but it should give you a different error message.\n",
    "\n",
    "<div class=\"codeerror\">KeyError: 'epsilonP'</div>\n",
    "\n",
    "This error says that Python cannot find the key `epsilonP`. If you look at your code for the `A` equation, the key `epsilonP` is used in `par['epsilonP']`. Python was able to find the `par` dictionary just fine, but it could not find inside `par` the key `epsilonP`. This is not surprising because we have not made `par['epsilonP']` yet... lets make it along with all the other parameters used in the `A` equation.\n",
    "\n",
    "Add them to the `#Parameters` section:\n",
    "\n",
    "    par['AE_P']  = 0.9  \n",
    "    par['AE_D']  = 0.2   \n",
    "    par['AE_Z']  = 0.3 \n",
    "    par['epsilonP'] = 1. \n",
    "    par['epsilonD'] = 0.5 \n",
    "    par['epsilonZ'] = 0.3 \n",
    "\n",
    "After you inserted the snippet above, <span class='run'></span> your code. Again, it won't work, but it should give you a different error message.\n",
    "\n",
    "<div class=\"codeerror\">KeyError: 'Phy'</div>\n",
    "\n",
    "Python can't find the key `'Phy'`. which is used in `InitCond['Phy']`. Again, this is not surprising because we have not made any of the 3 new required Initial conditions yet...  lets add them to the `# Initial conditions` section:\n",
    "\n",
    "    InitCond['Phy'] = 0.8 \n",
    "    InitCond['Zoo'] = 0.3 \n",
    "    InitCond['SDet'] = 0.2\n",
    "    \n",
    "Add the new lines to <span class='file'>model_SHELLE.py</span> and click <span class='run'></span>\n",
    "\n",
    "<span class=\"checkpoint\">CHECKPOINT below...</span> "
   ]
  },
  {
   "cell_type": "code",
   "execution_count": 67,
   "metadata": {},
   "outputs": [
    {
     "name": "stdout",
     "output_type": "stream",
     "text": [
      "Executing my_module.py\n",
      "--------------------\n",
      "Loading defaults...\n",
      "Running model...\n",
      "Model run: DONE!!!\n"
     ]
    },
    {
     "data": {
      "image/png": "[encoded data removed]",
      "text/plain": [
       "<Figure size 432x288 with 1 Axes>"
      ]
     },
     "metadata": {
      "needs_background": "light"
     },
     "output_type": "display_data"
    },
    {
     "name": "stdout",
     "output_type": "stream",
     "text": [
      "--------------------\n"
     ]
    }
   ],
   "source": [
    "def load_defaults():\n",
    "    print('Loading defaults...')\n",
    "    # Framework\n",
    "    days = 365 * 3 # One year\n",
    "    dt   = 0.01 # units: days    \n",
    "    \n",
    "    # Parameters\n",
    "    par = {}\n",
    "    par['AE_P']  = 0.9  # <<<<<<<<<<<<<<<<<<<<<<<<<<<<<<<<<<< NEW LINE !!!!! <<<<<<<<\n",
    "    par['AE_D']  = 0.2  # <<<<<<<<<<<<<<<<<<<<<<<<<<<<<<<<<<< NEW LINE !!!!! <<<<<<<<  \n",
    "    par['AE_Z']  = 0.3  # <<<<<<<<<<<<<<<<<<<<<<<<<<<<<<<<<<< NEW LINE !!!!! <<<<<<<<\n",
    "    par['epsilonP'] = 1. # <<<<<<<<<<<<<<<<<<<<<<<<<<<<<<<<<< NEW LINE !!!!! <<<<<<<<\n",
    "    par['epsilonD'] = 0.5 # <<<<<<<<<<<<<<<<<<<<<<<<<<<<<<<<< NEW LINE !!!!! <<<<<<<<\n",
    "    par['epsilonZ'] = 0.3 # <<<<<<<<<<<<<<<<<<<<<<<<<<<<<<<<< NEW LINE !!!!! <<<<<<<<\n",
    "    \n",
    "    # Initial conditions\n",
    "    InitCond = {}\n",
    "    InitCond['Soma'] = 0.01 \n",
    "    InitCond['Gonad'] = 0.0\n",
    "    InitCond['Phy'] = 0.8 # <<<<<<<<<<<<<<<<<<<<<<<<<<<<<<<<< NEW LINE !!!!! <<<<<<<<\n",
    "    InitCond['Zoo'] = 0.3 # <<<<<<<<<<<<<<<<<<<<<<<<<<<<<<<<< NEW LINE !!!!! <<<<<<<<\n",
    "    InitCond['SDet'] = 0.2 # <<<<<<<<<<<<<<<<<<<<<<<<<<<<<<<< NEW LINE !!!!! <<<<<<<<\n",
    "    return  days, dt, par, InitCond\n",
    "    \n",
    "def run(days, dt, par, InitCond):\n",
    "    print('Running model...')\n",
    "    # Import libraries\n",
    "    import numpy as np\n",
    "    \n",
    "    # Setup the framework \n",
    "    NoSTEPS = int(days / dt) # Calculates the number of steps \n",
    "    time = np.linspace(0,days,NoSTEPS) # Makes vector array of equally spaced numbers \n",
    "    \n",
    "    # Create arrays of zeros\n",
    "    B = np.zeros((NoSTEPS,),float) # Biomass\n",
    "    Soma = np.zeros((NoSTEPS,),float) \n",
    "    Gonad = np.zeros((NoSTEPS,),float)\n",
    "    \n",
    "    # Initializing with initial conditions\n",
    "    Soma[0] = InitCond['Soma'] \n",
    "    Gonad[0] = InitCond['Gonad'] \n",
    "    B[0] = InitCond['Soma'] + InitCond['Gonad'] \n",
    "    \n",
    "    # *****************************************************************************\n",
    "    # MAIN MODEL LOOP *************************************************************\n",
    "    for t in range(0,NoSTEPS-1):\n",
    "        \n",
    "        F = 0 # TO DO # <<<<<<<<<<<<<<<<<<<<<<<<<<<<<<<<<<< NEW LINE !!!!! <<<<<<<<\n",
    "\n",
    "        # Eq.3 # <<<<<<<<<<<<<<<<<<<<<<<<<<<<<<<<<<<<  THIS CHANGED  !!!!! <<<<<<<<\n",
    "        A = F * ((par['epsilonP']*par['AE_P']*InitCond['Phy'])+ \\\n",
    "                    (par['epsilonZ']*par['AE_Z']*InitCond['Zoo'])+ \\\n",
    "                    (par['epsilonD']*par['AE_D']*InitCond['SDet']))\n",
    "        R = 0 # TO DO \n",
    "        Spawning = 0 # TO DO \n",
    "        dBdt = (A - R) - Spawning # Eq.2\n",
    "        dSomadt = 0  \n",
    "        dGonaddt = 0 \n",
    "        \n",
    "        # Update and step ------------------------------\n",
    "        Soma[t+1] = Soma[t] + (dSomadt * dt) \n",
    "        Gonad[t+1] = Gonad[t] + (dGonaddt * dt) \n",
    "        B[t+1] = Soma[t+1] + Gonad[t+1] \n",
    "        \n",
    "    # end of main model LOOP*******************************************************\n",
    "    # *****************************************************************************\n",
    "\n",
    "    # Pack output into dictionary\n",
    "    output = {}\n",
    "    output['time'] = time\n",
    "    output['B'] = B \n",
    "    output['Soma'] = Soma \n",
    "    output['Gonad'] = Gonad \n",
    "\n",
    "    print('Model run: DONE!!!')\n",
    "    return  output\n",
    "\n",
    "def plot(output):\n",
    "    import matplotlib.pyplot as plt \n",
    "    # Plotting                      \n",
    "    fig, (ax) = plt.subplots(1,1)\n",
    "    ax.plot(output['time']/365,output['B'],'r-') \n",
    "    ax.plot(output['time']/365,output['Soma'],'b-') \n",
    "    ax.plot(output['time']/365,output['Gonad'],'g.')\n",
    "    ax.legend(['B', 'Soma', 'Gonad']) \n",
    "    ax.set_ylabel('Nitrogen (mmol N)') \n",
    "    ax.set_xlabel('Time (years)')\n",
    "    plt.show()          \n",
    "    return\n",
    "\n",
    "if __name__ == \"__main__\":\n",
    "    print('Executing my_module.py')\n",
    "    print('--------------------')\n",
    "    \n",
    "    days, dt, par, InitCond = load_defaults()\n",
    "    output = run(days, dt, par, InitCond)\n",
    "    plot(output)\n",
    "    \n",
    "    print('--------------------')\n",
    "    "
   ]
  },
  {
   "cell_type": "markdown",
   "metadata": {},
   "source": [
    "You should see the plot with zeros (and not an error message). Remember that the actual model won't work until we finished coding the whole model."
   ]
  },
  {
   "cell_type": "markdown",
   "metadata": {},
   "source": [
    "Lets take a loot at the `par` again:\n",
    "\n",
    "<div class=\"c2c\"></div>"
   ]
  },
  {
   "cell_type": "code",
   "execution_count": 68,
   "metadata": {},
   "outputs": [
    {
     "data": {
      "text/plain": [
       "{'AE_P': 0.9,\n",
       " 'AE_D': 0.2,\n",
       " 'AE_Z': 0.3,\n",
       " 'epsilonP': 1.0,\n",
       " 'epsilonD': 0.5,\n",
       " 'epsilonZ': 0.3}"
      ]
     },
     "execution_count": 68,
     "metadata": {},
     "output_type": "execute_result"
    }
   ],
   "source": [
    "par"
   ]
  },
  {
   "cell_type": "markdown",
   "metadata": {},
   "source": [
    "<div class=\"Q\"><br>\n",
    "\n",
    "What is inside the <b>par</b> dictionary this time around?\n",
    "\n",
    "<br><br><div class=\"qhelp\"></div></div>"
   ]
  },
  {
   "cell_type": "markdown",
   "metadata": {},
   "source": [
    "Lets inspect `InitCond` again:\n",
    "\n",
    "<div class=\"c2c\"></div>"
   ]
  },
  {
   "cell_type": "code",
   "execution_count": 69,
   "metadata": {},
   "outputs": [
    {
     "data": {
      "text/plain": [
       "{'Soma': 0.01, 'Gonad': 0.0, 'Phy': 0.8, 'Zoo': 0.3, 'SDet': 0.2}"
      ]
     },
     "execution_count": 69,
     "metadata": {},
     "output_type": "execute_result"
    }
   ],
   "source": [
    "InitCond"
   ]
  },
  {
   "cell_type": "markdown",
   "metadata": {},
   "source": [
    "<div class=\"Q\"><br>\n",
    "\n",
    "How many elements are in the <b>InitCond</b> dictionary?\n",
    "\n",
    "<br><br><div class=\"qhelp\"></div></div>"
   ]
  },
  {
   "cell_type": "markdown",
   "metadata": {},
   "source": [
    "<div class=\"Q\"><br>\n",
    "\n",
    "What is the value of Initial Condition for <b>Zoo</b> inside the <b>InitCond</b> dictionary?\n",
    "\n",
    "<br><br><div class=\"qhelp\"></div></div>"
   ]
  },
  {
   "cell_type": "markdown",
   "metadata": {},
   "source": [
    "-------------\n",
    "\n",
    "## Filtration rate (F) - Eq.4\n",
    "\n",
    "(4) $$ F = F^{max} \\cdot f(Temp) \\cdot f(Salt) \\cdot f(Oxy) \\cdot f(Food)$$\n",
    "\n",
    "Now, in `#MAIN MODEL LOOP` replace the place-holder `F = 0` with the following:\n",
    "\n",
    "    F = Fmax * L_Temp * L_Salt * L_Oxy * L_Food #Eq 4 \n",
    "    \n",
    "In the right-hand side of the equation there are a bunch of new terms. For now we'll insert them as place-holders (see the `<<<<<<<< NEW LINE !!!!! <<<` comments in the code below).\n",
    "\n",
    "Add the new lines (including the place-holders shown below) to <span class='file'>model_SHELLE.py</span> and click <span class='run'></span>\n",
    "\n",
    "<span class=\"checkpoint\">CHECKPOINT below...</span> "
   ]
  },
  {
   "cell_type": "code",
   "execution_count": 70,
   "metadata": {},
   "outputs": [
    {
     "name": "stdout",
     "output_type": "stream",
     "text": [
      "Executing my_module.py\n",
      "--------------------\n",
      "Loading defaults...\n",
      "Running model...\n",
      "Model run: DONE!!!\n"
     ]
    },
    {
     "data": {
      "image/png": "[encoded data removed]",
      "text/plain": [
       "<Figure size 432x288 with 1 Axes>"
      ]
     },
     "metadata": {
      "needs_background": "light"
     },
     "output_type": "display_data"
    },
    {
     "name": "stdout",
     "output_type": "stream",
     "text": [
      "--------------------\n"
     ]
    }
   ],
   "source": [
    "def load_defaults():\n",
    "    print('Loading defaults...')\n",
    "    # Framework\n",
    "    days = 365 * 3 # One year\n",
    "    dt   = 0.01 # units: days    \n",
    "    \n",
    "    # Parameters\n",
    "    par = {}\n",
    "    par['AE_P']  = 0.9  \n",
    "    par['AE_D']  = 0.2 \n",
    "    par['AE_Z']  = 0.3 \n",
    "    par['epsilonP'] = 1. \n",
    "    par['epsilonD'] = 0.5 \n",
    "    par['epsilonZ'] = 0.3 \n",
    "    \n",
    "    # Initial conditions\n",
    "    InitCond = {}\n",
    "    InitCond['Soma'] = 0.01 \n",
    "    InitCond['Gonad'] = 0.0\n",
    "    InitCond['Phy'] = 0.8 \n",
    "    InitCond['Zoo'] = 0.3 \n",
    "    InitCond['SDet'] = 0.2 \n",
    "    return  days, dt, par, InitCond\n",
    "    \n",
    "def run(days, dt, par, InitCond):\n",
    "    print('Running model...')\n",
    "    # Import libraries\n",
    "    import numpy as np\n",
    "    \n",
    "    # Setup the framework \n",
    "    NoSTEPS = int(days / dt) # Calculates the number of steps \n",
    "    time = np.linspace(0,days,NoSTEPS) # Makes vector array of equally spaced numbers \n",
    "    \n",
    "    # Create arrays of zeros\n",
    "    B = np.zeros((NoSTEPS,),float) # Biomass \n",
    "    Soma = np.zeros((NoSTEPS,),float) \n",
    "    Gonad = np.zeros((NoSTEPS,),float)\n",
    "    \n",
    "    # Initializing with initial conditions\n",
    "    Soma[0] = InitCond['Soma'] \n",
    "    Gonad[0] = InitCond['Gonad'] \n",
    "    B[0] = InitCond['Soma'] + InitCond['Gonad'] \n",
    "    \n",
    "    # *****************************************************************************\n",
    "    # MAIN MODEL LOOP *************************************************************\n",
    "    for t in range(0,NoSTEPS-1):\n",
    "        \n",
    "        Fmax = 0 # TO DO # <<<<<<<<<<<<<<<<<<<<<<<<<<<<<<<< NEW LINE !!!!! <<<<<<<<\n",
    "        L_Temp = 0 # TO DO # <<<<<<<<<<<<<<<<<<<<<<<<<<< NEW LINE !!!!! <<<<<<<<\n",
    "        L_Salt = 0 # TO DO # <<<<<<<<<<<<<<<<<<<<<<<<<<< NEW LINE !!!!! <<<<<<<<\n",
    "        L_Oxy = 0 # TO DO # <<<<<<<<<<<<<<<<<<<<<<<<<<< NEW LINE !!!!! <<<<<<<<\n",
    "        L_Food = 0 # TO DO # <<<<<<<<<<<<<<<<<<<<<<<<<<< NEW LINE !!!!! <<<<<<<<\n",
    "        \n",
    "        F = Fmax * L_Temp * L_Salt * L_Oxy * L_Food #Eq 4 << NEW LINE !!!!! <<<<<<<<\n",
    "\n",
    "        # Eq.3 # <<<<<<<<<<<<<< CHANGED  !!!!! (F instead of F) <<<<<<<<\n",
    "        A = F * ((par['epsilonP']*par['AE_P']*InitCond['Phy'])+ \\\n",
    "                    (par['epsilonZ']*par['AE_Z']*InitCond['Zoo'])+ \\\n",
    "                    (par['epsilonD']*par['AE_D']*InitCond['SDet']))\n",
    "        R = 0 # TO DO \n",
    "        Spawning = 0 # TO DO \n",
    "        dBdt = (A - R) - Spawning # Eq.2 \n",
    "        dSomadt = 0  \n",
    "        dGonaddt = 0 \n",
    "        \n",
    "        # Update and step ------------------------------\n",
    "        Soma[t+1] = Soma[t] + (dSomadt * dt) \n",
    "        Gonad[t+1] = Gonad[t] + (dGonaddt * dt) \n",
    "        B[t+1] = Soma[t+1] + Gonad[t+1] \n",
    "        \n",
    "    # end of main model LOOP*******************************************************\n",
    "    # *****************************************************************************\n",
    "\n",
    "    # Pack output into dictionary\n",
    "    output = {}\n",
    "    output['time'] = time\n",
    "    output['B'] = B \n",
    "    output['Soma'] = Soma \n",
    "    output['Gonad'] = Gonad \n",
    "\n",
    "    print('Model run: DONE!!!')\n",
    "    return  output\n",
    "\n",
    "def plot(output):\n",
    "    import matplotlib.pyplot as plt \n",
    "    # Plotting                      \n",
    "    fig, (ax) = plt.subplots(1,1)\n",
    "    ax.plot(output['time']/365,output['B'],'r-') \n",
    "    ax.plot(output['time']/365,output['Soma'],'b-') \n",
    "    ax.plot(output['time']/365,output['Gonad'],'g.')\n",
    "    ax.legend(['B', 'Soma', 'Gonad']) \n",
    "    ax.set_ylabel('Nitrogen (mmol N)') \n",
    "    ax.set_xlabel('Time (years)')\n",
    "    plt.show()          \n",
    "    return\n",
    "\n",
    "if __name__ == \"__main__\":\n",
    "    print('Executing my_module.py')\n",
    "    print('--------------------')\n",
    "    \n",
    "    days, dt, par, InitCond = load_defaults()\n",
    "    output = run(days, dt, par, InitCond)\n",
    "    plot(output)\n",
    "    \n",
    "    print('--------------------')\n",
    "    "
   ]
  },
  {
   "cell_type": "markdown",
   "metadata": {},
   "source": [
    "Did it worked?"
   ]
  },
  {
   "cell_type": "markdown",
   "metadata": {},
   "source": [
    "---------------------\n",
    "\n",
    "## Maximum filtration rate (Fmax) - Eq.5\n",
    "\n",
    "(5)   $$ F^{max} = F^{max}_{ref} \\cdot \\left ( \\frac{B}{B_{ref}} \\right )^{2/3}$$\n",
    "\n",
    "Lets see if you can make sense of the new lines (code below) without a detailed explanation. Remember, we first add the code in the `#MAIN MODEL LOOP`, then above in the `load-defaults` function, and finally in the `plot` function (if required). \n",
    "\n",
    "Copy-paste the **new lines** in the code below to your own <span class='file'>model_SHELLE.py</span> and click <span class='run'></span>\n",
    "\n",
    "<span class=\"checkpoint\">CHECKPOINT below...</span> "
   ]
  },
  {
   "cell_type": "code",
   "execution_count": 71,
   "metadata": {},
   "outputs": [
    {
     "name": "stdout",
     "output_type": "stream",
     "text": [
      "Executing my_module.py\n",
      "--------------------\n",
      "Loading defaults...\n",
      "Running model...\n",
      "Model run: DONE!!!\n"
     ]
    },
    {
     "data": {
      "image/png": "[encoded data removed]",
      "text/plain": [
       "<Figure size 432x288 with 1 Axes>"
      ]
     },
     "metadata": {
      "needs_background": "light"
     },
     "output_type": "display_data"
    },
    {
     "name": "stdout",
     "output_type": "stream",
     "text": [
      "--------------------\n"
     ]
    }
   ],
   "source": [
    "def load_defaults():\n",
    "    print('Loading defaults...')\n",
    "    # Framework\n",
    "    days = 365 * 3 # One year\n",
    "    dt   = 0.01 # units: days    \n",
    "    \n",
    "    # Parameters\n",
    "    par = {}\n",
    "    par['AE_P']  = 0.9  \n",
    "    par['AE_D']  = 0.2 \n",
    "    par['AE_Z']  = 0.3\n",
    "    par['Fmax_ref']= 0.025 # <<<<<<<<<<<<<<<<<<<<<<<<<<<<<<<<<<<<<< NEW LINE !!!!! <<<<<<<<  \n",
    "    par['epsilonP'] = 1. \n",
    "    par['epsilonD'] = 0.5 \n",
    "    par['epsilonZ'] = 0.3 \n",
    "    \n",
    "    # Initial conditions\n",
    "    InitCond = {}\n",
    "    InitCond['Soma'] = 0.01 \n",
    "    InitCond['Gonad'] = 0.0\n",
    "    InitCond['Phy'] = 0.8 \n",
    "    InitCond['Zoo'] = 0.3 \n",
    "    InitCond['SDet'] = 0.2 \n",
    "    return  days, dt, par, InitCond\n",
    "    \n",
    "def run(days, dt, par, InitCond):\n",
    "    print('Running model...')\n",
    "    # Import libraries\n",
    "    import numpy as np\n",
    "    \n",
    "    # Setup the framework \n",
    "    NoSTEPS = int(days / dt) # Calculates the number of steps \n",
    "    time = np.linspace(0,days,NoSTEPS) # Makes vector array of equally spaced numbers \n",
    "    \n",
    "    # Create arrays of zeros\n",
    "    B = np.zeros((NoSTEPS,),float) # Biomass\n",
    "    Soma = np.zeros((NoSTEPS,),float) \n",
    "    Gonad = np.zeros((NoSTEPS,),float)\n",
    "    \n",
    "    # Initializing with initial conditions\n",
    "    Soma[0] = InitCond['Soma'] \n",
    "    Gonad[0] = InitCond['Gonad'] \n",
    "    B[0] = InitCond['Soma'] + InitCond['Gonad'] \n",
    "    \n",
    "    # *****************************************************************************\n",
    "    # MAIN MODEL LOOP *************************************************************\n",
    "    for t in range(0,NoSTEPS-1):\n",
    "        \n",
    "        Fmax  = par['Fmax_ref']*(B[t]**(2./3.)) # Eq.5 # <<< NEW LINE !!!!! <<<<<<<<  \n",
    "        L_Temp = 0 # TO DO # \n",
    "        L_Salt = 0 # TO DO # \n",
    "        L_Oxy = 0 # TO DO # \n",
    "        L_Food = 0 # TO DO # \n",
    "        \n",
    "        F = Fmax * L_Temp * L_Salt * L_Oxy * L_Food #Eq 4 \n",
    "\n",
    "        # Eq.3 # \n",
    "        A = F * ((par['epsilonP']*par['AE_P']*InitCond['Phy'])+ \\\n",
    "                    (par['epsilonZ']*par['AE_Z']*InitCond['Zoo'])+ \\\n",
    "                    (par['epsilonD']*par['AE_D']*InitCond['SDet']))\n",
    "        R = 0 # TO DO \n",
    "        Spawning = 0 # TO DO \n",
    "        dBdt = (A - R) - Spawning # Eq.2 \n",
    "        dSomadt = 0  \n",
    "        dGonaddt = 0 \n",
    "        \n",
    "        # Update and step ------------------------------\n",
    "        Soma[t+1] = Soma[t] + (dSomadt * dt) \n",
    "        Gonad[t+1] = Gonad[t] + (dGonaddt * dt) \n",
    "        B[t+1] = Soma[t+1] + Gonad[t+1] \n",
    "        \n",
    "    # end of main model LOOP*******************************************************\n",
    "    # *****************************************************************************\n",
    "\n",
    "    # Pack output into dictionary\n",
    "    output = {}\n",
    "    output['time'] = time\n",
    "    output['B'] = B \n",
    "    output['Soma'] = Soma \n",
    "    output['Gonad'] = Gonad \n",
    "\n",
    "    print('Model run: DONE!!!')\n",
    "    return  output\n",
    "\n",
    "def plot(output):\n",
    "    import matplotlib.pyplot as plt \n",
    "    # Plotting                      \n",
    "    fig, (ax) = plt.subplots(1,1)\n",
    "    ax.plot(output['time']/365,output['B'],'r-') \n",
    "    ax.plot(output['time']/365,output['Soma'],'b-') \n",
    "    ax.plot(output['time']/365,output['Gonad'],'g.')\n",
    "    ax.legend(['B', 'Soma', 'Gonad']) \n",
    "    ax.set_ylabel('Nitrogen (mmol N)') \n",
    "    ax.set_xlabel('Time (years)')\n",
    "    plt.show()          \n",
    "    return\n",
    "\n",
    "if __name__ == \"__main__\":\n",
    "    print('Executing my_module.py')\n",
    "    print('--------------------')\n",
    "    \n",
    "    days, dt, par, InitCond = load_defaults()\n",
    "    output = run(days, dt, par, InitCond)\n",
    "    plot(output)\n",
    "    \n",
    "    print('--------------------')\n",
    "    "
   ]
  },
  {
   "cell_type": "markdown",
   "metadata": {},
   "source": [
    "Lets take a loot at the `par` again:\n",
    "\n",
    "<div class=\"c2c\"></div>"
   ]
  },
  {
   "cell_type": "code",
   "execution_count": 72,
   "metadata": {},
   "outputs": [
    {
     "data": {
      "text/plain": [
       "{'AE_P': 0.9,\n",
       " 'AE_D': 0.2,\n",
       " 'AE_Z': 0.3,\n",
       " 'Fmax_ref': 0.025,\n",
       " 'epsilonP': 1.0,\n",
       " 'epsilonD': 0.5,\n",
       " 'epsilonZ': 0.3}"
      ]
     },
     "execution_count": 72,
     "metadata": {},
     "output_type": "execute_result"
    }
   ],
   "source": [
    "par"
   ]
  },
  {
   "cell_type": "markdown",
   "metadata": {},
   "source": [
    "<div class=\"Q\"><br>\n",
    "\n",
    "How many elements are inside the <b>par</b> dictionary this time around?\n",
    "\n",
    "<br><br><div class=\"qhelp\"></div></div>"
   ]
  },
  {
   "cell_type": "markdown",
   "metadata": {},
   "source": [
    "<div class=\"Q\"><br>\n",
    "\n",
    "Which was the element last added to the <b>par</b> dictionary?\n",
    "\n",
    "<br><br><div class=\"qhelp\"></div></div>"
   ]
  },
  {
   "cell_type": "markdown",
   "metadata": {},
   "source": [
    "---------------------\n",
    "\n",
    "## Temperature limitation (L_Temp) - Eq.6\n",
    "\n",
    "(6)\n",
    "$$ f(Temp) = MIN \n",
    "\\begin{cases}\n",
    "MAX \\left \\{ 0,1-exp \\left [-K^L_{Temp} \\cdot (Temp - Temp_L) \\right ] \\right \\}\\\\\\\n",
    "MAX \\left \\{ 0, 1+ \\left ( \\frac{1-exp(K^H_{Temp} \\cdot Temp)}\n",
    "{exp(K^H_{Temp} \\cdot Temp_H)-1} \\right ) \\right \\}\n",
    "\\end{cases}\n",
    "$$\n",
    "\n",
    "Lets see if you can make sense of the new lines (code below) without a detailed explanation.\n",
    "\n",
    "Copy-paste the **new lines** in the code below to your own <span class='file'>model_SHELLE.py</span> and click <span class='run'></span>\n",
    "\n",
    "<span class=\"checkpoint\">CHECKPOINT below...</span> "
   ]
  },
  {
   "cell_type": "code",
   "execution_count": 73,
   "metadata": {},
   "outputs": [
    {
     "name": "stdout",
     "output_type": "stream",
     "text": [
      "Executing my_module.py\n",
      "--------------------\n",
      "Loading defaults...\n",
      "Running model...\n",
      "Model run: DONE!!!\n"
     ]
    },
    {
     "data": {
      "image/png": "[encoded data removed]",
      "text/plain": [
       "<Figure size 432x288 with 1 Axes>"
      ]
     },
     "metadata": {
      "needs_background": "light"
     },
     "output_type": "display_data"
    },
    {
     "name": "stdout",
     "output_type": "stream",
     "text": [
      "L_Temp = 0.846341805817443\n",
      "--------------------\n"
     ]
    }
   ],
   "source": [
    "def load_defaults():\n",
    "    print('Loading defaults...')\n",
    "    # Framework\n",
    "    days = 365 * 3 # One year\n",
    "    dt   = 0.01 # units: days    \n",
    "    \n",
    "    # Parameters\n",
    "    par = {}\n",
    "    par['AE_P']  = 0.9  \n",
    "    par['AE_D']  = 0.2 \n",
    "    par['AE_Z']  = 0.3\n",
    "    par['Fmax_ref']= 0.025 \n",
    "    par['epsilonP'] = 1. \n",
    "    par['epsilonD'] = 0.5 \n",
    "    par['epsilonZ'] = 0.3\n",
    "    par['KTempH']= 0.1 # <<<<<<<<<<<<<<<<<<<<<<<<<<<<<<<<<<<<<< NEW LINE !!!!! <<<<<<<<    \n",
    "    par['KTempL']= 0.5 # <<<<<<<<<<<<<<<<<<<<<<<<<<<<<<<<<<<<<< NEW LINE !!!!! <<<<<<<<\n",
    "    par['TempH'] = 25. # <<<<<<<<<<<<<<<<<<<<<<<<<<<<<<<<<<<<<< NEW LINE !!!!! <<<<<<<<\n",
    "    par['TempL'] = -4. # <<<<<<<<<<<<<<<<<<<<<<<<<<<<<<<<<<<<<< NEW LINE !!!!! <<<<<<<<\n",
    "    \n",
    "    # Initial conditions\n",
    "    InitCond = {}\n",
    "    InitCond['Soma'] = 0.01 \n",
    "    InitCond['Gonad'] = 0.0\n",
    "    InitCond['Phy'] = 0.8 \n",
    "    InitCond['Zoo'] = 0.3 \n",
    "    InitCond['SDet'] = 0.2\n",
    "    InitCond['Temp'] = 10 # <<<<<<<<<<<<<<<<<<<<<<<<<<<<<<<<<< NEW LINE !!!!! <<<<<<<<\n",
    "    return  days, dt, par, InitCond\n",
    "    \n",
    "def run(days, dt, par, InitCond):\n",
    "    print('Running model...')\n",
    "    # Import libraries\n",
    "    import numpy as np\n",
    "    \n",
    "    # Setup the framework \n",
    "    NoSTEPS = int(days / dt) # Calculates the number of steps \n",
    "    time = np.linspace(0,days,NoSTEPS) # Makes vector array of equally spaced numbers \n",
    "    \n",
    "    # Create arrays of zeros\n",
    "    B = np.zeros((NoSTEPS,),float) # Biomass \n",
    "    Soma = np.zeros((NoSTEPS,),float) \n",
    "    Gonad = np.zeros((NoSTEPS,),float)\n",
    "    \n",
    "    # Initializing with initial conditions\n",
    "    Soma[0] = InitCond['Soma'] \n",
    "    Gonad[0] = InitCond['Gonad'] \n",
    "    B[0] = InitCond['Soma'] + InitCond['Gonad'] \n",
    "    \n",
    "    # *****************************************************************************\n",
    "    # MAIN MODEL LOOP *************************************************************\n",
    "    for t in range(0,NoSTEPS-1):\n",
    "        \n",
    "        Fmax  = par['Fmax_ref']*(B[t]**(2./3.)) # Eq.5\n",
    "        \n",
    "        # Eq.6 - Temperature Limitation # <<<<<<<<<<<<<<<<<<<<<<<<<<<<<<<<< NEW SECTION !!!!! <<<<<<<< \n",
    "        L_Temp = min(max(0.,1.-np.exp(-par['KTempL']*(InitCond['Temp']-par['TempL']))), \\\n",
    "                     max(0.,1.+((1.-np.exp(par['KTempH']*InitCond['Temp']))/(np.exp(par['KTempH']*par['TempH'])-1.))))\n",
    "        \n",
    "        L_Salt = 0 # TO DO # \n",
    "        L_Oxy = 0 # TO DO # \n",
    "        L_Food = 0 # TO DO # \n",
    "        \n",
    "        F = Fmax * L_Temp * L_Salt * L_Oxy * L_Food #Eq 4 \n",
    "\n",
    "        # Eq.3 # \n",
    "        A = F * ((par['epsilonP']*par['AE_P']*InitCond['Phy'])+ \\\n",
    "                    (par['epsilonZ']*par['AE_Z']*InitCond['Zoo'])+ \\\n",
    "                    (par['epsilonD']*par['AE_D']*InitCond['SDet']))\n",
    "        R = 0 # TO DO \n",
    "        Spawning = 0 # TO DO \n",
    "        dBdt = (A - R) - Spawning # Eq.2 \n",
    "        dSomadt = 0  \n",
    "        dGonaddt = 0 \n",
    "        \n",
    "        # Update and step ------------------------------\n",
    "        Soma[t+1] = Soma[t] + (dSomadt * dt) \n",
    "        Gonad[t+1] = Gonad[t] + (dGonaddt * dt) \n",
    "        B[t+1] = Soma[t+1] + Gonad[t+1] \n",
    "        \n",
    "    # end of main model LOOP*******************************************************\n",
    "    # *****************************************************************************\n",
    "\n",
    "    # Pack output into dictionary\n",
    "    output = {}\n",
    "    output['time'] = time\n",
    "    output['B'] = B \n",
    "    output['Soma'] = Soma \n",
    "    output['Gonad'] = Gonad \n",
    "    output['L_Temp'] = L_Temp # <<<<<<<<<<<<<<<<<<<<<<<<<<< NEW LINE !!!!! <<<<<<<<\n",
    "\n",
    "    print('Model run: DONE!!!')\n",
    "    return  output\n",
    "\n",
    "def plot(output):\n",
    "    import matplotlib.pyplot as plt \n",
    "    # Plotting                      \n",
    "    fig, (ax) = plt.subplots(1,1)\n",
    "    ax.plot(output['time']/365,output['B'],'r-') \n",
    "    ax.plot(output['time']/365,output['Soma'],'b-') \n",
    "    ax.plot(output['time']/365,output['Gonad'],'g.')\n",
    "    ax.legend(['B', 'Soma', 'Gonad']) \n",
    "    ax.set_ylabel('Nitrogen (mmol N)') \n",
    "    ax.set_xlabel('Time (years)')\n",
    "    plt.show()          \n",
    "    print('L_Temp = ' + str(output['L_Temp']))# <<<<<<<<<<<<<<<<< NEW LINE !!!!! <<<<<<<<\n",
    "    return\n",
    "\n",
    "if __name__ == \"__main__\":\n",
    "    print('Executing my_module.py')\n",
    "    print('--------------------')\n",
    "    \n",
    "    days, dt, par, InitCond = load_defaults()\n",
    "    output = run(days, dt, par, InitCond)\n",
    "    plot(output)\n",
    "    \n",
    "    print('--------------------')\n",
    "    "
   ]
  },
  {
   "cell_type": "markdown",
   "metadata": {},
   "source": [
    "There is a new \"item\" inside the `output` dictionary! Lets take a look:\n",
    "\n",
    "<div class=\"c2c\"></div>"
   ]
  },
  {
   "cell_type": "code",
   "execution_count": 74,
   "metadata": {},
   "outputs": [
    {
     "data": {
      "text/plain": [
       "{'time': array([0.00000000e+00, 1.00000913e-02, 2.00001827e-02, ...,\n",
       "        1.09498000e+03, 1.09499000e+03, 1.09500000e+03]),\n",
       " 'B': array([0.01, 0.01, 0.01, ..., 0.01, 0.01, 0.01]),\n",
       " 'Soma': array([0.01, 0.01, 0.01, ..., 0.01, 0.01, 0.01]),\n",
       " 'Gonad': array([0., 0., 0., ..., 0., 0., 0.]),\n",
       " 'L_Temp': 0.846341805817443}"
      ]
     },
     "execution_count": 74,
     "metadata": {},
     "output_type": "execute_result"
    }
   ],
   "source": [
    "output"
   ]
  },
  {
   "cell_type": "markdown",
   "metadata": {},
   "source": [
    "<div class=\"Q\"><br>\n",
    "\n",
    "What is the item that last added inside the <b>output</b> dictionary?\n",
    "\n",
    "<br><br><div class=\"qhelp\"></div></div>"
   ]
  },
  {
   "cell_type": "markdown",
   "metadata": {},
   "source": [
    "<div class=\"Q\"><br>\n",
    "\n",
    "What is the value of <b>L_Temp</b> inside the <b>output</b> dictionary?\n",
    "\n",
    "<br><br><div class=\"qhelp\"></div></div>"
   ]
  },
  {
   "cell_type": "markdown",
   "metadata": {},
   "source": [
    "Note that the value of `L_Temp` is overwritten every time-step. Therefore the value of `output['L_Temp']` is the value of `L_Temp`at the very last time-step."
   ]
  },
  {
   "cell_type": "markdown",
   "metadata": {},
   "source": [
    "---------------------\n",
    "\n",
    "## Salinity limitation (L_Salt) - Eq.7\n",
    "\n",
    "(7)\n",
    "$$ f(Salt) = MAX \\left \\{ 0,1-exp \\left [-K^L_{Salt} \\cdot (Salt - Salt_L) \\right ] \\right \\}\n",
    "$$\n",
    "\n",
    "Lets see if you can make sense of the new lines (code below) without a detailed explanation.\n",
    "\n",
    "Copy-paste the **new lines** in the code below to your own <span class='file'>model_SHELLE.py</span> and click <span class='run'></span>\n",
    "\n",
    "<span class=\"checkpoint\">CHECKPOINT below...</span> "
   ]
  },
  {
   "cell_type": "code",
   "execution_count": 75,
   "metadata": {},
   "outputs": [
    {
     "name": "stdout",
     "output_type": "stream",
     "text": [
      "Executing my_module.py\n",
      "--------------------\n",
      "Loading defaults...\n",
      "Running model...\n",
      "Model run: DONE!!!\n"
     ]
    },
    {
     "data": {
      "image/png": "[encoded data removed]",
      "text/plain": [
       "<Figure size 432x288 with 1 Axes>"
      ]
     },
     "metadata": {
      "needs_background": "light"
     },
     "output_type": "display_data"
    },
    {
     "name": "stdout",
     "output_type": "stream",
     "text": [
      "L_Temp = 0.846341805817443\n",
      "L_Salt = 0.9932620530009145\n",
      "--------------------\n"
     ]
    }
   ],
   "source": [
    "def load_defaults():\n",
    "    print('Loading defaults...')\n",
    "    # Framework\n",
    "    days = 365 * 3 # One year\n",
    "    dt   = 0.01 # units: days    \n",
    "    \n",
    "    # Parameters\n",
    "    par = {}\n",
    "    par['AE_P']  = 0.9  \n",
    "    par['AE_D']  = 0.2 \n",
    "    par['AE_Z']  = 0.3\n",
    "    par['Fmax_ref']= 0.025 \n",
    "    par['epsilonP'] = 1. \n",
    "    par['epsilonD'] = 0.5 \n",
    "    par['epsilonZ'] = 0.3\n",
    "    par['KTempH']= 0.1  \n",
    "    par['KTempL']= 0.5\n",
    "    par['TempH'] = 25. \n",
    "    par['TempL'] = -4. \n",
    "    par['KSaltL']= 0.25 # <<<<<<<<<<<<<<<<<<<<<<<<<<<<<<<<<<<<<< NEW LINE !!!!! <<<<<<<<\n",
    "    par['SaltL'] = 10. # <<<<<<<<<<<<<<<<<<<<<<<<<<<<<<<<<<<<<<< NEW LINE !!!!! <<<<<<<<\n",
    "    \n",
    "    # Initial conditions\n",
    "    InitCond = {}\n",
    "    InitCond['Soma'] = 0.01 \n",
    "    InitCond['Gonad'] = 0.0\n",
    "    InitCond['Phy'] = 0.8 \n",
    "    InitCond['Zoo'] = 0.3 \n",
    "    InitCond['SDet'] = 0.2\n",
    "    InitCond['Temp'] = 10 \n",
    "    InitCond['Salt'] = 30 # <<<<<<<<<<<<<<<<<<<<<<<<<<<<<<<<<< NEW LINE !!!!! <<<<<<<<\n",
    "    return  days, dt, par, InitCond\n",
    "    \n",
    "def run(days, dt, par, InitCond):\n",
    "    print('Running model...')\n",
    "    # Import libraries\n",
    "    import numpy as np\n",
    "    \n",
    "    # Setup the framework \n",
    "    NoSTEPS = int(days / dt) # Calculates the number of steps \n",
    "    time = np.linspace(0,days,NoSTEPS) # Makes vector array of equally spaced numbers \n",
    "    \n",
    "    # Create arrays of zeros\n",
    "    B = np.zeros((NoSTEPS,),float) # Biomass \n",
    "    Soma = np.zeros((NoSTEPS,),float) \n",
    "    Gonad = np.zeros((NoSTEPS,),float)\n",
    "    \n",
    "    # Initializing with initial conditions\n",
    "    Soma[0] = InitCond['Soma'] \n",
    "    Gonad[0] = InitCond['Gonad'] \n",
    "    B[0] = InitCond['Soma'] + InitCond['Gonad'] \n",
    "    \n",
    "    # *****************************************************************************\n",
    "    # MAIN MODEL LOOP *************************************************************\n",
    "    for t in range(0,NoSTEPS-1):\n",
    "        \n",
    "        Fmax  = par['Fmax_ref']*(B[t]**(2./3.)) # Eq.5\n",
    "        \n",
    "        # Eq.6 - Temperature Limitation  \n",
    "        L_Temp = min(max(0.,1.-np.exp(-par['KTempL']*(InitCond['Temp']-par['TempL']))), \\\n",
    "                     max(0.,1.+((1.-np.exp(par['KTempH']*InitCond['Temp']))/(np.exp(par['KTempH']*par['TempH'])-1.))))\n",
    "        \n",
    "        # Eq.7 - Salinity Limitation # <<<<<<<<<<<<<<<<<<<<<<<<<<<<<<<<< NEW SECTION !!!!! <<<<<<<<\n",
    "        L_Salt = max(0.,1.-np.exp(-par['KSaltL']*(InitCond['Salt']-par['SaltL'])))\n",
    "        \n",
    "        L_Oxy = 0 # TO DO # \n",
    "        L_Food = 0 # TO DO # \n",
    "        \n",
    "        F = Fmax * L_Temp * L_Salt * L_Oxy * L_Food #Eq 4 \n",
    "\n",
    "        # Eq.3 # \n",
    "        A = F * ((par['epsilonP']*par['AE_P']*InitCond['Phy'])+ \\\n",
    "                    (par['epsilonZ']*par['AE_Z']*InitCond['Zoo'])+ \\\n",
    "                    (par['epsilonD']*par['AE_D']*InitCond['SDet']))\n",
    "        R = 0 # TO DO \n",
    "        Spawning = 0 # TO DO \n",
    "        dBdt = (A - R) - Spawning # Eq.2 \n",
    "        dSomadt = 0  \n",
    "        dGonaddt = 0 \n",
    "        \n",
    "        # Update and step ------------------------------\n",
    "        Soma[t+1] = Soma[t] + (dSomadt * dt) \n",
    "        Gonad[t+1] = Gonad[t] + (dGonaddt * dt) \n",
    "        B[t+1] = Soma[t+1] + Gonad[t+1] \n",
    "        \n",
    "    # end of main model LOOP*******************************************************\n",
    "    # *****************************************************************************\n",
    "\n",
    "    # Pack output into dictionary\n",
    "    output = {}\n",
    "    output['time'] = time\n",
    "    output['B'] = B \n",
    "    output['Soma'] = Soma \n",
    "    output['Gonad'] = Gonad \n",
    "    output['L_Temp'] = L_Temp \n",
    "    output['L_Salt'] = L_Salt # <<<<<<<<<<<<<<<<<<<<<<<<<<< NEW LINE !!!!! <<<<<<<<\n",
    "\n",
    "    print('Model run: DONE!!!')\n",
    "    return  output\n",
    "\n",
    "def plot(output):\n",
    "    import matplotlib.pyplot as plt \n",
    "    # Plotting                      \n",
    "    fig, (ax) = plt.subplots(1,1)\n",
    "    ax.plot(output['time']/365,output['B'],'r-') \n",
    "    ax.plot(output['time']/365,output['Soma'],'b-') \n",
    "    ax.plot(output['time']/365,output['Gonad'],'g.')\n",
    "    ax.legend(['B', 'Soma', 'Gonad']) \n",
    "    ax.set_ylabel('Nitrogen (mmol N)') \n",
    "    ax.set_xlabel('Time (years)')\n",
    "    plt.show()          \n",
    "    print('L_Temp = ' + str(output['L_Temp']))\n",
    "    print('L_Salt = ' + str(output['L_Salt']))# <<<<<<<<<<<<<<<<< NEW LINE !!!!! <<<<<<<<\n",
    "    return\n",
    "\n",
    "if __name__ == \"__main__\":\n",
    "    print('Executing my_module.py')\n",
    "    print('--------------------')\n",
    "    \n",
    "    days, dt, par, InitCond = load_defaults()\n",
    "    output = run(days, dt, par, InitCond)\n",
    "    plot(output)\n",
    "    \n",
    "    print('--------------------')\n",
    "    "
   ]
  },
  {
   "cell_type": "markdown",
   "metadata": {},
   "source": [
    "<div class=\"Q\"><br>\n",
    "\n",
    "What is the value of <b>L_Salt</b> inside the <b>output</b> dictionary?\n",
    "\n",
    "<br><br><div class=\"qhelp\"></div></div>"
   ]
  },
  {
   "cell_type": "markdown",
   "metadata": {},
   "source": [
    "---------------------\n",
    "\n",
    "## Oxygen limitation (L_Oxy) - Eq.8\n",
    "\n",
    "(8)\n",
    "$$ f(Oxy) = MAX \\left \\{ 0,1-exp \\left [-K^L_{Oxy} \\cdot (Oxy - Oxy_L) \\right ] \\right \\}\n",
    "$$\n",
    "\n",
    "Lets see if you can make sense of the new lines (code below) without a detailed explanation.\n",
    "\n",
    "Copy-paste the **new lines** in the code below to your own <span class='file'>model_SHELLE.py</span> and click <span class='run'></span>\n",
    "\n",
    "<span class=\"checkpoint\">CHECKPOINT below...</span> "
   ]
  },
  {
   "cell_type": "code",
   "execution_count": 76,
   "metadata": {},
   "outputs": [
    {
     "name": "stdout",
     "output_type": "stream",
     "text": [
      "Executing my_module.py\n",
      "--------------------\n",
      "Loading defaults...\n",
      "Running model...\n",
      "Model run: DONE!!!\n"
     ]
    },
    {
     "data": {
      "image/png": "[encoded data removed]",
      "text/plain": [
       "<Figure size 432x288 with 1 Axes>"
      ]
     },
     "metadata": {
      "needs_background": "light"
     },
     "output_type": "display_data"
    },
    {
     "name": "stdout",
     "output_type": "stream",
     "text": [
      "L_Temp = 0.846341805817443\n",
      "L_Salt = 0.9932620530009145\n",
      "L_Oxy  = 0.9984194778312638\n",
      "--------------------\n"
     ]
    }
   ],
   "source": [
    "def load_defaults():\n",
    "    print('Loading defaults...')\n",
    "    # Framework\n",
    "    days = 365 * 3 # One year\n",
    "    dt   = 0.01 # units: days    \n",
    "    \n",
    "    # Parameters\n",
    "    par = {}\n",
    "    par['AE_P']  = 0.9  \n",
    "    par['AE_D']  = 0.2 \n",
    "    par['AE_Z']  = 0.3\n",
    "    par['Fmax_ref']= 0.025 \n",
    "    par['epsilonP'] = 1. \n",
    "    par['epsilonD'] = 0.5 \n",
    "    par['epsilonZ'] = 0.3\n",
    "    par['KTempH']= 0.1  \n",
    "    par['KTempL']= 0.5\n",
    "    par['TempH'] = 25. \n",
    "    par['TempL'] = -4. \n",
    "    par['KSaltL']= 0.25 \n",
    "    par['SaltL'] = 10.\n",
    "    par['OxyL']  = 17.5 # <<<<<<<<<<<<<<<<<<<<<<<<<<<<<<<<<<<<<< NEW LINE !!!!! <<<<<<<<\n",
    "    par['KOxyL'] = 0.02 # <<<<<<<<<<<<<<<<<<<<<<<<<<<<<<<<<<<<<< NEW LINE !!!!! <<<<<<<<\n",
    "    \n",
    "    # Initial conditions\n",
    "    InitCond = {}\n",
    "    InitCond['Soma'] = 0.01 \n",
    "    InitCond['Gonad'] = 0.0\n",
    "    InitCond['Phy'] = 0.8 \n",
    "    InitCond['Zoo'] = 0.3 \n",
    "    InitCond['SDet'] = 0.2\n",
    "    InitCond['Temp'] = 10 \n",
    "    InitCond['Salt'] = 30 \n",
    "    InitCond['Oxy'] = 340. # <<<<<<<<<<<<<<<<<<<<<<<<<<<<<<<<<< NEW LINE !!!!! <<<<<<<< \n",
    "    return  days, dt, par, InitCond\n",
    "    \n",
    "def run(days, dt, par, InitCond):\n",
    "    print('Running model...')\n",
    "    # Import libraries\n",
    "    import numpy as np\n",
    "    \n",
    "    # Setup the framework \n",
    "    NoSTEPS = int(days / dt) # Calculates the number of steps \n",
    "    time = np.linspace(0,days,NoSTEPS) # Makes vector array of equally spaced numbers \n",
    "    \n",
    "    # Create arrays of zeros\n",
    "    B = np.zeros((NoSTEPS,),float) # Biomass \n",
    "    Soma = np.zeros((NoSTEPS,),float) \n",
    "    Gonad = np.zeros((NoSTEPS,),float)\n",
    "    \n",
    "    # Initializing with initial conditions\n",
    "    Soma[0] = InitCond['Soma'] \n",
    "    Gonad[0] = InitCond['Gonad'] \n",
    "    B[0] = InitCond['Soma'] + InitCond['Gonad'] \n",
    "    \n",
    "    # *****************************************************************************\n",
    "    # MAIN MODEL LOOP *************************************************************\n",
    "    for t in range(0,NoSTEPS-1):\n",
    "        \n",
    "        Fmax  = par['Fmax_ref']*(B[t]**(2./3.)) # Eq.5\n",
    "        \n",
    "        # Eq.6 - Temperature Limitation  \n",
    "        L_Temp = min(max(0.,1.-np.exp(-par['KTempL']*(InitCond['Temp']-par['TempL']))), \\\n",
    "                     max(0.,1.+((1.-np.exp(par['KTempH']*InitCond['Temp']))/(np.exp(par['KTempH']*par['TempH'])-1.))))\n",
    "        \n",
    "        # Eq.7 - Salinity Limitation \n",
    "        L_Salt = max(0.,1.-np.exp(-par['KSaltL']*(InitCond['Salt']-par['SaltL'])))\n",
    "        \n",
    "        # Eq.8 - Oxygen Limitation # <<<<<<<<<<<<<<<<<<<<<<<<<<<<<<<<< NEW SECTION !!!!! <<<<<<<<\n",
    "        L_Oxy = max(0.,1.-np.exp(-par['KOxyL']*(InitCond['Oxy']-par['OxyL'])))\n",
    "        L_Food = 0 # TO DO # \n",
    "        \n",
    "        F = Fmax * L_Temp * L_Salt * L_Oxy * L_Food #Eq 4 \n",
    "\n",
    "        # Eq.3 # \n",
    "        A = F * ((par['epsilonP']*par['AE_P']*InitCond['Phy'])+ \\\n",
    "                    (par['epsilonZ']*par['AE_Z']*InitCond['Zoo'])+ \\\n",
    "                    (par['epsilonD']*par['AE_D']*InitCond['SDet']))\n",
    "        R = 0 # TO DO \n",
    "        Spawning = 0 # TO DO \n",
    "        dBdt = (A - R) - Spawning # Eq.2 \n",
    "        dSomadt = 0  \n",
    "        dGonaddt = 0 \n",
    "        \n",
    "        # Update and step ------------------------------\n",
    "        Soma[t+1] = Soma[t] + (dSomadt * dt) \n",
    "        Gonad[t+1] = Gonad[t] + (dGonaddt * dt) \n",
    "        B[t+1] = Soma[t+1] + Gonad[t+1] \n",
    "        \n",
    "    # end of main model LOOP*******************************************************\n",
    "    # *****************************************************************************\n",
    "\n",
    "    # Pack output into dictionary\n",
    "    output = {}\n",
    "    output['time'] = time\n",
    "    output['B'] = B \n",
    "    output['Soma'] = Soma \n",
    "    output['Gonad'] = Gonad \n",
    "    output['L_Temp'] = L_Temp \n",
    "    output['L_Salt'] = L_Salt \n",
    "    output['L_Oxy'] = L_Oxy # <<<<<<<<<<<<<<<<<<<<<<<<<<<<< NEW LINE !!!!! <<<<<<<<\n",
    "    \n",
    "    print('Model run: DONE!!!')\n",
    "    return  output\n",
    "\n",
    "def plot(output):\n",
    "    import matplotlib.pyplot as plt \n",
    "    # Plotting                      \n",
    "    fig, (ax) = plt.subplots(1,1)\n",
    "    ax.plot(output['time']/365,output['B'],'r-') \n",
    "    ax.plot(output['time']/365,output['Soma'],'b-') \n",
    "    ax.plot(output['time']/365,output['Gonad'],'g.')\n",
    "    ax.legend(['B', 'Soma', 'Gonad']) \n",
    "    ax.set_ylabel('Nitrogen (mmol N)') \n",
    "    ax.set_xlabel('Time (years)')\n",
    "    plt.show()          \n",
    "    print('L_Temp = ' + str(output['L_Temp']))\n",
    "    print('L_Salt = ' + str(output['L_Salt']))\n",
    "    print('L_Oxy  = ' + str(output['L_Oxy']))# <<<<<<<<<<<<<<<<< NEW LINE !!!!! <<<<<<<<\n",
    "    return\n",
    "\n",
    "if __name__ == \"__main__\":\n",
    "    print('Executing my_module.py')\n",
    "    print('--------------------')\n",
    "    \n",
    "    days, dt, par, InitCond = load_defaults()\n",
    "    output = run(days, dt, par, InitCond)\n",
    "    plot(output)\n",
    "    \n",
    "    print('--------------------')\n",
    "    "
   ]
  },
  {
   "cell_type": "markdown",
   "metadata": {},
   "source": [
    "<div class=\"Q\"><br>\n",
    "\n",
    "What is the value of <b>L_Oxy</b> inside the <b>output</b> dictionary?\n",
    "\n",
    "<br><br><div class=\"qhelp\"></div></div>"
   ]
  },
  {
   "cell_type": "markdown",
   "metadata": {},
   "source": [
    "---------------------\n",
    "\n",
    "## Food limitation (L_Food) - Eq.9\n",
    "\n",
    "(9) $$\n",
    "f(Food) = \\frac{Phy+Zoo+SDet}\n",
    "{K_{Food}+Phy+Zoo+SDet}\n",
    "$$\n",
    "\n",
    "Lets see if you can make sense of the new lines (code below) without a detailed explanation.\n",
    "\n",
    "Copy-paste the **new lines** in the code below to your own <span class='file'>model_SHELLE.py</span> and click <span class='run'></span>\n",
    "\n",
    "<span class=\"checkpoint\">CHECKPOINT below...</span> "
   ]
  },
  {
   "cell_type": "code",
   "execution_count": 77,
   "metadata": {},
   "outputs": [
    {
     "name": "stdout",
     "output_type": "stream",
     "text": [
      "Executing my_module.py\n",
      "--------------------\n",
      "Loading defaults...\n",
      "Running model...\n",
      "Model run: DONE!!!\n"
     ]
    },
    {
     "data": {
      "image/png": "[encoded data removed]",
      "text/plain": [
       "<Figure size 432x288 with 1 Axes>"
      ]
     },
     "metadata": {
      "needs_background": "light"
     },
     "output_type": "display_data"
    },
    {
     "name": "stdout",
     "output_type": "stream",
     "text": [
      "L_Temp = 0.846341805817443\n",
      "L_Salt = 0.9932620530009145\n",
      "L_Oxy  = 0.9984194778312638\n",
      "L_Food  = 0.5652173913043478\n",
      "--------------------\n"
     ]
    }
   ],
   "source": [
    "def load_defaults():\n",
    "    print('Loading defaults...')\n",
    "    # Framework\n",
    "    days = 365 * 3 # One year\n",
    "    dt   = 0.01 # units: days    \n",
    "    \n",
    "    # Parameters\n",
    "    par = {}\n",
    "    par['AE_P']  = 0.9  \n",
    "    par['AE_D']  = 0.2 \n",
    "    par['AE_Z']  = 0.3\n",
    "    par['Fmax_ref']= 0.025 \n",
    "    par['epsilonP'] = 1. \n",
    "    par['epsilonD'] = 0.5 \n",
    "    par['epsilonZ'] = 0.3\n",
    "    par['KTempH']= 0.1  \n",
    "    par['KTempL']= 0.5\n",
    "    par['TempH'] = 25. \n",
    "    par['TempL'] = -4. \n",
    "    par['KSaltL']= 0.25 \n",
    "    par['SaltL'] = 10.\n",
    "    par['OxyL']  = 17.5 \n",
    "    par['KOxyL'] = 0.02\n",
    "    par['KFood'] = 1.  # <<<<<<<<<<<<<<<<<<<<<<<<<<<<<<<<<<<<<< NEW LINE !!!!! <<<<<<<<\n",
    "    \n",
    "    # Initial conditions\n",
    "    InitCond = {}\n",
    "    InitCond['Soma'] = 0.01 \n",
    "    InitCond['Gonad'] = 0.0\n",
    "    InitCond['Phy'] = 0.8 \n",
    "    InitCond['Zoo'] = 0.3 \n",
    "    InitCond['SDet'] = 0.2\n",
    "    InitCond['Temp'] = 10 \n",
    "    InitCond['Salt'] = 30 \n",
    "    InitCond['Oxy'] = 340. # <<<<<<<<<<<<<<<<<<<<<<<<<<<<<<<<<< NEW LINE !!!!! <<<<<<<< \n",
    "    return  days, dt, par, InitCond\n",
    "    \n",
    "def run(days, dt, par, InitCond):\n",
    "    print('Running model...')\n",
    "    # Import libraries\n",
    "    import numpy as np\n",
    "    \n",
    "    # Setup the framework \n",
    "    NoSTEPS = int(days / dt) # Calculates the number of steps \n",
    "    time = np.linspace(0,days,NoSTEPS) # Makes vector array of equally spaced numbers \n",
    "    \n",
    "    # Create arrays of zeros\n",
    "    B = np.zeros((NoSTEPS,),float) # Biomass \n",
    "    Soma = np.zeros((NoSTEPS,),float) \n",
    "    Gonad = np.zeros((NoSTEPS,),float)\n",
    "    \n",
    "    # Initializing with initial conditions\n",
    "    Soma[0] = InitCond['Soma'] \n",
    "    Gonad[0] = InitCond['Gonad'] \n",
    "    B[0] = InitCond['Soma'] + InitCond['Gonad'] \n",
    "    \n",
    "    # *****************************************************************************\n",
    "    # MAIN MODEL LOOP *************************************************************\n",
    "    for t in range(0,NoSTEPS-1):\n",
    "        \n",
    "        Fmax  = par['Fmax_ref']*(B[t]**(2./3.)) # Eq.5\n",
    "        \n",
    "        # Eq.6 - Temperature Limitation  \n",
    "        L_Temp = min(max(0.,1.-np.exp(-par['KTempL']*(InitCond['Temp']-par['TempL']))), \\\n",
    "                     max(0.,1.+((1.-np.exp(par['KTempH']*InitCond['Temp']))/(np.exp(par['KTempH']*par['TempH'])-1.))))\n",
    "        \n",
    "        # Eq.7 - Salinity Limitation \n",
    "        L_Salt = max(0.,1.-np.exp(-par['KSaltL']*(InitCond['Salt']-par['SaltL'])))\n",
    "        \n",
    "        # Eq.8 - Oxygen Limitation\n",
    "        L_Oxy = max(0.,1.-np.exp(-par['KOxyL']*(InitCond['Oxy']-par['OxyL'])))\n",
    "        \n",
    "         # Eq.9 - Food Limitation # <<<<<<<<<<<<<<<<<<<<<<<<<<<<<<<<< NEW SECTION !!!!! <<<<<<<<\n",
    "        L_Food = (InitCond['Phy']+InitCond['Zoo']+InitCond['SDet'])/ \\\n",
    "                 (par['KFood']+InitCond['Phy']+InitCond['Zoo']+InitCond['SDet']) \n",
    "        \n",
    "        F = Fmax * L_Temp * L_Salt * L_Oxy * L_Food #Eq 4 \n",
    "\n",
    "        # Eq.3 # \n",
    "        A = F * ((par['epsilonP']*par['AE_P']*InitCond['Phy'])+ \\\n",
    "                    (par['epsilonZ']*par['AE_Z']*InitCond['Zoo'])+ \\\n",
    "                    (par['epsilonD']*par['AE_D']*InitCond['SDet']))\n",
    "        R = 0 # TO DO \n",
    "        Spawning = 0 # TO DO \n",
    "        dBdt = (A - R) - Spawning # Eq.2 \n",
    "        dSomadt = 0  \n",
    "        dGonaddt = 0 \n",
    "        \n",
    "        # Update and step ------------------------------\n",
    "        Soma[t+1] = Soma[t] + (dSomadt * dt) \n",
    "        Gonad[t+1] = Gonad[t] + (dGonaddt * dt) \n",
    "        B[t+1] = Soma[t+1] + Gonad[t+1] \n",
    "        \n",
    "    # end of main model LOOP*******************************************************\n",
    "    # *****************************************************************************\n",
    "\n",
    "    # Pack output into dictionary\n",
    "    output = {}\n",
    "    output['time'] = time\n",
    "    output['B'] = B \n",
    "    output['Soma'] = Soma \n",
    "    output['Gonad'] = Gonad \n",
    "    output['L_Temp'] = L_Temp \n",
    "    output['L_Salt'] = L_Salt \n",
    "    output['L_Oxy'] = L_Oxy\n",
    "    output['L_Food'] = L_Food # <<<<<<<<<<<<<<<<<<<<<<<<<<<<< NEW LINE !!!!! <<<<<<<<\n",
    "    \n",
    "    print('Model run: DONE!!!')\n",
    "    return  output\n",
    "\n",
    "def plot(output):\n",
    "    import matplotlib.pyplot as plt \n",
    "    # Plotting                      \n",
    "    fig, (ax) = plt.subplots(1,1)\n",
    "    ax.plot(output['time']/365,output['B'],'r-') \n",
    "    ax.plot(output['time']/365,output['Soma'],'b-') \n",
    "    ax.plot(output['time']/365,output['Gonad'],'g.')\n",
    "    ax.legend(['B', 'Soma', 'Gonad']) \n",
    "    ax.set_ylabel('Nitrogen (mmol N)') \n",
    "    ax.set_xlabel('Time (years)')\n",
    "    plt.show()          \n",
    "    print('L_Temp = ' + str(output['L_Temp']))\n",
    "    print('L_Salt = ' + str(output['L_Salt']))\n",
    "    print('L_Oxy  = ' + str(output['L_Oxy']))\n",
    "    print('L_Food  = ' + str(output['L_Food']))# <<<<<<<<<<<<<<<<< NEW LINE !!!!! <<<<<<<<\n",
    "    return\n",
    "\n",
    "if __name__ == \"__main__\":\n",
    "    print('Executing my_module.py')\n",
    "    print('--------------------')\n",
    "    \n",
    "    days, dt, par, InitCond = load_defaults()\n",
    "    output = run(days, dt, par, InitCond)\n",
    "    plot(output)\n",
    "    \n",
    "    print('--------------------')\n",
    "    "
   ]
  },
  {
   "cell_type": "markdown",
   "metadata": {},
   "source": [
    "<div class=\"Q\"><br>\n",
    "\n",
    "What is the value of <b>L_Food</b> inside the <b>output</b> dictionary?\n",
    "\n",
    "<br><br><div class=\"qhelp\"></div></div>"
   ]
  },
  {
   "cell_type": "markdown",
   "metadata": {},
   "source": [
    "---------------------\n",
    "\n",
    "## Respiration (R) - Eq.10\n",
    "\n",
    "(10) $$\n",
    "R = (R_m \\cdot B)+(\\beta \\cdot A)\n",
    "$$\n",
    "\n",
    "Lets see if you can make sense of the new lines (code below) without a detailed explanation.\n",
    "\n",
    "Copy-paste the **new lines** in the code below to your own <span class='file'>model_SHELLE.py</span> and click <span class='run'></span>\n",
    "\n",
    "<span class=\"checkpoint\">CHECKPOINT below...</span> "
   ]
  },
  {
   "cell_type": "code",
   "execution_count": 78,
   "metadata": {},
   "outputs": [
    {
     "name": "stdout",
     "output_type": "stream",
     "text": [
      "Executing my_module.py\n",
      "--------------------\n",
      "Loading defaults...\n",
      "Running model...\n",
      "Model run: DONE!!!\n"
     ]
    },
    {
     "data": {
      "image/png": "[encoded data removed]",
      "text/plain": [
       "<Figure size 432x288 with 1 Axes>"
      ]
     },
     "metadata": {
      "needs_background": "light"
     },
     "output_type": "display_data"
    },
    {
     "name": "stdout",
     "output_type": "stream",
     "text": [
      "L_Temp = 0.846341805817443\n",
      "L_Salt = 0.9932620530009145\n",
      "L_Oxy  = 0.9984194778312638\n",
      "L_Food  = 0.5652173913043478\n",
      "--------------------\n"
     ]
    }
   ],
   "source": [
    "def load_defaults():\n",
    "    print('Loading defaults...')\n",
    "    # Framework\n",
    "    days = 365 * 3 # One year\n",
    "    dt   = 0.01 # units: days    \n",
    "    \n",
    "    # Parameters\n",
    "    par = {}\n",
    "    par['AE_P']  = 0.9  \n",
    "    par['AE_D']  = 0.2 \n",
    "    par['AE_Z']  = 0.3\n",
    "    par['Fmax_ref']= 0.025 \n",
    "    par['epsilonP'] = 1. \n",
    "    par['epsilonD'] = 0.5 \n",
    "    par['epsilonZ'] = 0.3\n",
    "    par['KTempH']= 0.1  \n",
    "    par['KTempL']= 0.5\n",
    "    par['TempH'] = 25. \n",
    "    par['TempL'] = -4. \n",
    "    par['KSaltL']= 0.25 \n",
    "    par['SaltL'] = 10.\n",
    "    par['OxyL']  = 17.5 \n",
    "    par['KOxyL'] = 0.02\n",
    "    par['KFood'] = 1.  \n",
    "    par['Rm']    = 0.002 # <<<<<<<<<<<<<<<<<<<<<<<<<<<<<<<<<<<< NEW LINE !!!!! <<<<<<<<\n",
    "    par['beta']  = 0.12 # <<<<<<<<<<<<<<<<<<<<<<<<<<<<<<<<<<<< NEW LINE !!!!! <<<<<<<<\n",
    "    \n",
    "    # Initial conditions\n",
    "    InitCond = {}\n",
    "    InitCond['Soma'] = 0.01 \n",
    "    InitCond['Gonad'] = 0.0\n",
    "    InitCond['Phy'] = 0.8 \n",
    "    InitCond['Zoo'] = 0.3 \n",
    "    InitCond['SDet'] = 0.2\n",
    "    InitCond['Temp'] = 10 \n",
    "    InitCond['Salt'] = 30 \n",
    "    InitCond['Oxy'] = 340.\n",
    "    return  days, dt, par, InitCond\n",
    "    \n",
    "def run(days, dt, par, InitCond):\n",
    "    print('Running model...')\n",
    "    # Import libraries\n",
    "    import numpy as np\n",
    "    \n",
    "    # Setup the framework \n",
    "    NoSTEPS = int(days / dt) # Calculates the number of steps \n",
    "    time = np.linspace(0,days,NoSTEPS) # Makes vector array of equally spaced numbers \n",
    "    \n",
    "    # Create arrays of zeros\n",
    "    B = np.zeros((NoSTEPS,),float) # Biomass \n",
    "    Soma = np.zeros((NoSTEPS,),float) \n",
    "    Gonad = np.zeros((NoSTEPS,),float)\n",
    "    \n",
    "    # Initializing with initial conditions\n",
    "    Soma[0] = InitCond['Soma'] \n",
    "    Gonad[0] = InitCond['Gonad'] \n",
    "    B[0] = InitCond['Soma'] + InitCond['Gonad'] \n",
    "    \n",
    "    # *****************************************************************************\n",
    "    # MAIN MODEL LOOP *************************************************************\n",
    "    for t in range(0,NoSTEPS-1):\n",
    "        \n",
    "        Fmax  = par['Fmax_ref']*(B[t]**(2./3.)) # Eq.5\n",
    "        \n",
    "        # Eq.6 - Temperature Limitation  \n",
    "        L_Temp = min(max(0.,1.-np.exp(-par['KTempL']*(InitCond['Temp']-par['TempL']))), \\\n",
    "                     max(0.,1.+((1.-np.exp(par['KTempH']*InitCond['Temp']))/(np.exp(par['KTempH']*par['TempH'])-1.))))\n",
    "        \n",
    "        # Eq.7 - Salinity Limitation \n",
    "        L_Salt = max(0.,1.-np.exp(-par['KSaltL']*(InitCond['Salt']-par['SaltL'])))\n",
    "        \n",
    "        # Eq.8 - Oxygen Limitation\n",
    "        L_Oxy = max(0.,1.-np.exp(-par['KOxyL']*(InitCond['Oxy']-par['OxyL'])))\n",
    "        \n",
    "         # Eq.9 - Food Limitation\n",
    "        L_Food = (InitCond['Phy']+InitCond['Zoo']+InitCond['SDet'])/ \\\n",
    "                 (par['KFood']+InitCond['Phy']+InitCond['Zoo']+InitCond['SDet']) \n",
    "        \n",
    "        F = Fmax * L_Temp * L_Salt * L_Oxy * L_Food #Eq 4 \n",
    "\n",
    "        # Eq.3 # \n",
    "        A = F * ((par['epsilonP']*par['AE_P']*InitCond['Phy'])+ \\\n",
    "                    (par['epsilonZ']*par['AE_Z']*InitCond['Zoo'])+ \\\n",
    "                    (par['epsilonD']*par['AE_D']*InitCond['SDet']))\n",
    "        \n",
    "        R = (par['Rm']*B[t]) + (par['beta']*A) # Eq.10 <<<< NEW LINE !!!!! <<<<<<<<\n",
    "        \n",
    "        \n",
    "        \n",
    "        Spawning = 0 # TO DO \n",
    "        dBdt = (A - R) - Spawning # Eq.2\n",
    "        dSomadt = 0  \n",
    "        dGonaddt = 0 \n",
    "        \n",
    "        # Update and step ------------------------------\n",
    "        Soma[t+1] = Soma[t] + (dSomadt * dt) \n",
    "        Gonad[t+1] = Gonad[t] + (dGonaddt * dt) \n",
    "        B[t+1] = Soma[t+1] + Gonad[t+1] \n",
    "        \n",
    "    # end of main model LOOP*******************************************************\n",
    "    # *****************************************************************************\n",
    "\n",
    "    # Pack output into dictionary\n",
    "    output = {}\n",
    "    output['time'] = time\n",
    "    output['B'] = B \n",
    "    output['Soma'] = Soma \n",
    "    output['Gonad'] = Gonad \n",
    "    output['L_Temp'] = L_Temp \n",
    "    output['L_Salt'] = L_Salt \n",
    "    output['L_Oxy'] = L_Oxy\n",
    "    output['L_Food'] = L_Food \n",
    "    \n",
    "    print('Model run: DONE!!!')\n",
    "    return  output\n",
    "\n",
    "def plot(output):\n",
    "    import matplotlib.pyplot as plt \n",
    "    # Plotting                      \n",
    "    fig, (ax) = plt.subplots(1,1)\n",
    "    ax.plot(output['time']/365,output['B'],'r-') \n",
    "    ax.plot(output['time']/365,output['Soma'],'b-') \n",
    "    ax.plot(output['time']/365,output['Gonad'],'g.')\n",
    "    ax.legend(['B', 'Soma', 'Gonad']) \n",
    "    ax.set_ylabel('Nitrogen (mmol N)') \n",
    "    ax.set_xlabel('Time (years)')\n",
    "    plt.show()          \n",
    "    print('L_Temp = ' + str(output['L_Temp']))\n",
    "    print('L_Salt = ' + str(output['L_Salt']))\n",
    "    print('L_Oxy  = ' + str(output['L_Oxy']))\n",
    "    print('L_Food  = ' + str(output['L_Food']))\n",
    "    return\n",
    "\n",
    "if __name__ == \"__main__\":\n",
    "    print('Executing my_module.py')\n",
    "    print('--------------------')\n",
    "    \n",
    "    days, dt, par, InitCond = load_defaults()\n",
    "    output = run(days, dt, par, InitCond)\n",
    "    plot(output)\n",
    "    \n",
    "    print('--------------------')\n",
    "    "
   ]
  },
  {
   "cell_type": "markdown",
   "metadata": {},
   "source": [
    "Lets take a loot at the `par` again:\n",
    "\n",
    "<div class=\"c2c\"></div>"
   ]
  },
  {
   "cell_type": "code",
   "execution_count": 79,
   "metadata": {},
   "outputs": [
    {
     "data": {
      "text/plain": [
       "{'AE_P': 0.9,\n",
       " 'AE_D': 0.2,\n",
       " 'AE_Z': 0.3,\n",
       " 'Fmax_ref': 0.025,\n",
       " 'epsilonP': 1.0,\n",
       " 'epsilonD': 0.5,\n",
       " 'epsilonZ': 0.3,\n",
       " 'KTempH': 0.1,\n",
       " 'KTempL': 0.5,\n",
       " 'TempH': 25.0,\n",
       " 'TempL': -4.0,\n",
       " 'KSaltL': 0.25,\n",
       " 'SaltL': 10.0,\n",
       " 'OxyL': 17.5,\n",
       " 'KOxyL': 0.02,\n",
       " 'KFood': 1.0,\n",
       " 'Rm': 0.002,\n",
       " 'beta': 0.12}"
      ]
     },
     "execution_count": 79,
     "metadata": {},
     "output_type": "execute_result"
    }
   ],
   "source": [
    "par"
   ]
  },
  {
   "cell_type": "markdown",
   "metadata": {},
   "source": [
    "<div class=\"Q\"><br>\n",
    "\n",
    "How many elements are inside the <b>par</b> dictionary now?\n",
    "\n",
    "<br><br><div class=\"qhelp\"></div></div>"
   ]
  },
  {
   "cell_type": "markdown",
   "metadata": {},
   "source": [
    "Lets inspect `InitCond` again:\n",
    "\n",
    "<div class=\"c2c\"></div>"
   ]
  },
  {
   "cell_type": "code",
   "execution_count": 80,
   "metadata": {},
   "outputs": [
    {
     "data": {
      "text/plain": [
       "{'Soma': 0.01,\n",
       " 'Gonad': 0.0,\n",
       " 'Phy': 0.8,\n",
       " 'Zoo': 0.3,\n",
       " 'SDet': 0.2,\n",
       " 'Temp': 10,\n",
       " 'Salt': 30,\n",
       " 'Oxy': 340.0}"
      ]
     },
     "execution_count": 80,
     "metadata": {},
     "output_type": "execute_result"
    }
   ],
   "source": [
    "InitCond"
   ]
  },
  {
   "cell_type": "markdown",
   "metadata": {},
   "source": [
    "<div class=\"Q\"><br>\n",
    "\n",
    "How many elements are inside the <b>InitCond</b> dictionary now?\n",
    "\n",
    "<br><br><div class=\"qhelp\"></div></div>"
   ]
  },
  {
   "cell_type": "markdown",
   "metadata": {},
   "source": [
    "<div class=\"Q\"><br>\n",
    "\n",
    "What is the value of Initial Condition for <b>Temp</b> inside the <b>InitCond</b> dictionary?\n",
    "\n",
    "<br><br><div class=\"qhelp\"></div></div>"
   ]
  },
  {
   "cell_type": "markdown",
   "metadata": {},
   "source": [
    "Lets inspect `Soma`:\n",
    "\n",
    "<div class=\"c2c\"></div>"
   ]
  },
  {
   "cell_type": "code",
   "execution_count": 81,
   "metadata": {},
   "outputs": [
    {
     "data": {
      "text/plain": [
       "array([0.01, 0.01, 0.01, 0.01, 0.01, 0.01, 0.01, 0.01, 0.01, 0.01])"
      ]
     },
     "execution_count": 81,
     "metadata": {},
     "output_type": "execute_result"
    }
   ],
   "source": [
    "output['Soma'][-10:]"
   ]
  },
  {
   "cell_type": "markdown",
   "metadata": {},
   "source": [
    "<div class=\"Q\"><br>\n",
    "\n",
    "What is the value of the last 10 elements of <b>Soma</b> inside the <b>output</b> dictionary?\n",
    "\n",
    "<br><br><div class=\"qhelp\"></div></div>"
   ]
  },
  {
   "cell_type": "markdown",
   "metadata": {},
   "source": [
    "---------------------\n",
    "\n",
    "## Soma - Eq.11\n",
    "\n",
    "(11) $$ \\frac{\\partial Soma}{\\partial t} = (A - R) \\cdot (1 -RE)$$\n",
    "\n",
    "\n",
    "Lets see if you can make sense of the new lines (code below) without a detailed explanation.\n",
    "\n",
    "Copy-paste the **new lines** in the code below to your own <span class='file'>model_SHELLE.py</span> and click <span class='run'></span>\n",
    "\n",
    "<span class=\"checkpoint\">CHECKPOINT below...</span> "
   ]
  },
  {
   "cell_type": "code",
   "execution_count": 82,
   "metadata": {},
   "outputs": [
    {
     "name": "stdout",
     "output_type": "stream",
     "text": [
      "Executing my_module.py\n",
      "--------------------\n",
      "Loading defaults...\n",
      "Running model...\n",
      "Model run: DONE!!!\n"
     ]
    },
    {
     "data": {
      "image/png": "[encoded data removed]",
      "text/plain": [
       "<Figure size 432x288 with 1 Axes>"
      ]
     },
     "metadata": {
      "needs_background": "light"
     },
     "output_type": "display_data"
    },
    {
     "name": "stdout",
     "output_type": "stream",
     "text": [
      "L_Temp = 0.846341805817443\n",
      "L_Salt = 0.9932620530009145\n",
      "L_Oxy  = 0.9984194778312638\n",
      "L_Food  = 0.5652173913043478\n",
      "--------------------\n"
     ]
    }
   ],
   "source": [
    "def load_defaults():\n",
    "    print('Loading defaults...')\n",
    "    # Framework\n",
    "    days = 365 * 3 # One year\n",
    "    dt   = 0.01 # units: days    \n",
    "    \n",
    "    # Parameters\n",
    "    par = {}\n",
    "    par['AE_P']  = 0.9  \n",
    "    par['AE_D']  = 0.2 \n",
    "    par['AE_Z']  = 0.3\n",
    "    par['Fmax_ref']= 0.025 \n",
    "    par['epsilonP'] = 1. \n",
    "    par['epsilonD'] = 0.5 \n",
    "    par['epsilonZ'] = 0.3\n",
    "    par['KTempH']= 0.1  \n",
    "    par['KTempL']= 0.5\n",
    "    par['TempH'] = 25. \n",
    "    par['TempL'] = -4. \n",
    "    par['KSaltL']= 0.25 \n",
    "    par['SaltL'] = 10.\n",
    "    par['OxyL']  = 17.5 \n",
    "    par['KOxyL'] = 0.02\n",
    "    par['KFood'] = 1.  \n",
    "    par['Rm']    = 0.002 \n",
    "    par['beta']  = 0.12\n",
    "    \n",
    "    # Initial conditions\n",
    "    InitCond = {}\n",
    "    InitCond['Soma'] = 0.01 \n",
    "    InitCond['Gonad'] = 0.0\n",
    "    InitCond['Phy'] = 0.8 \n",
    "    InitCond['Zoo'] = 0.3 \n",
    "    InitCond['SDet'] = 0.2\n",
    "    InitCond['Temp'] = 10 \n",
    "    InitCond['Salt'] = 30 \n",
    "    InitCond['Oxy'] = 340.\n",
    "    return  days, dt, par, InitCond\n",
    "    \n",
    "def run(days, dt, par, InitCond):\n",
    "    print('Running model...')\n",
    "    # Import libraries\n",
    "    import numpy as np\n",
    "    \n",
    "    # Setup the framework \n",
    "    NoSTEPS = int(days / dt) # Calculates the number of steps \n",
    "    time = np.linspace(0,days,NoSTEPS) # Makes vector array of equally spaced numbers \n",
    "    \n",
    "    # Create arrays of zeros\n",
    "    B = np.zeros((NoSTEPS,),float) # Biomass \n",
    "    Soma = np.zeros((NoSTEPS,),float) \n",
    "    Gonad = np.zeros((NoSTEPS,),float)\n",
    "    \n",
    "    # Initializing with initial conditions\n",
    "    Soma[0] = InitCond['Soma'] \n",
    "    Gonad[0] = InitCond['Gonad'] \n",
    "    B[0] = InitCond['Soma'] + InitCond['Gonad'] \n",
    "    \n",
    "    # *****************************************************************************\n",
    "    # MAIN MODEL LOOP *************************************************************\n",
    "    for t in range(0,NoSTEPS-1):\n",
    "        \n",
    "        Fmax = par['Fmax_ref']*(B[t]**(2./3.)) # Eq.5\n",
    "        \n",
    "        # Eq.6 - Temperature Limitation  \n",
    "        L_Temp = min(max(0.,1.-np.exp(-par['KTempL']*(InitCond['Temp']-par['TempL']))), \\\n",
    "                     max(0.,1.+((1.-np.exp(par['KTempH']*InitCond['Temp']))/(np.exp(par['KTempH']*par['TempH'])-1.))))\n",
    "        \n",
    "        # Eq.7 - Salinity Limitation \n",
    "        L_Salt = max(0.,1.-np.exp(-par['KSaltL']*(InitCond['Salt']-par['SaltL'])))\n",
    "        \n",
    "        # Eq.8 - Oxygen Limitation\n",
    "        L_Oxy = max(0.,1.-np.exp(-par['KOxyL']*(InitCond['Oxy']-par['OxyL'])))\n",
    "        \n",
    "         # Eq.9 - Food Limitation\n",
    "        L_Food = (InitCond['Phy']+InitCond['Zoo']+InitCond['SDet'])/ \\\n",
    "                 (par['KFood']+InitCond['Phy']+InitCond['Zoo']+InitCond['SDet']) \n",
    "        \n",
    "        F = Fmax * L_Temp * L_Salt * L_Oxy * L_Food #Eq 4 \n",
    "\n",
    "        # Eq.3 # \n",
    "        A = F * ((par['epsilonP']*par['AE_P']*InitCond['Phy'])+ \\\n",
    "                    (par['epsilonZ']*par['AE_Z']*InitCond['Zoo'])+ \\\n",
    "                    (par['epsilonD']*par['AE_D']*InitCond['SDet']))\n",
    "        \n",
    "        R = (par['Rm']*B[t]) + (par['beta']*A)\n",
    "        \n",
    "        RE = 0 # <<<<<<<<<<<<<<<<<<<<<<<<<<<<<<<<<<<<<<<<<< NEW LINE !!!!! <<<<<<<<\n",
    "        \n",
    "        Spawning = 0 # TO DO \n",
    "        dBdt = (A - R) - Spawning # Eq.2 \n",
    "        dSomadt = (A-R) * (1.-RE) # Eq. 11 <<<<<<<<<<<<<<<< NEW LINE !!!!! <<<<<<<<  \n",
    "        dGonaddt = 0 \n",
    "        \n",
    "        # Update and step ------------------------------\n",
    "        Soma[t+1] = Soma[t] + (dSomadt * dt) \n",
    "        Gonad[t+1] = Gonad[t] + (dGonaddt * dt) \n",
    "        B[t+1] = Soma[t+1] + Gonad[t+1] \n",
    "        \n",
    "    # end of main model LOOP*******************************************************\n",
    "    # *****************************************************************************\n",
    "\n",
    "    # Pack output into dictionary\n",
    "    output = {}\n",
    "    output['time'] = time\n",
    "    output['B'] = B \n",
    "    output['Soma'] = Soma \n",
    "    output['Gonad'] = Gonad \n",
    "    output['L_Temp'] = L_Temp \n",
    "    output['L_Salt'] = L_Salt \n",
    "    output['L_Oxy'] = L_Oxy\n",
    "    output['L_Food'] = L_Food \n",
    "    \n",
    "    print('Model run: DONE!!!')\n",
    "    return  output\n",
    "\n",
    "def plot(output):\n",
    "    import matplotlib.pyplot as plt \n",
    "    # Plotting                      \n",
    "    fig, (ax) = plt.subplots(1,1)\n",
    "    ax.plot(output['time']/365,output['B'],'r-') \n",
    "    ax.plot(output['time']/365,output['Soma'],'b-') \n",
    "    ax.plot(output['time']/365,output['Gonad'],'g.')\n",
    "    ax.legend(['B', 'Soma', 'Gonad']) \n",
    "    ax.set_ylabel('Nitrogen (mmol N)') \n",
    "    ax.set_xlabel('Time (years)')\n",
    "    plt.show()          \n",
    "    print('L_Temp = ' + str(output['L_Temp']))\n",
    "    print('L_Salt = ' + str(output['L_Salt']))\n",
    "    print('L_Oxy  = ' + str(output['L_Oxy']))\n",
    "    print('L_Food  = ' + str(output['L_Food']))\n",
    "    return\n",
    "\n",
    "if __name__ == \"__main__\":\n",
    "    print('Executing my_module.py')\n",
    "    print('--------------------')\n",
    "    \n",
    "    days, dt, par, InitCond = load_defaults()\n",
    "    output = run(days, dt, par, InitCond)\n",
    "    plot(output)\n",
    "    \n",
    "    print('--------------------')\n",
    "    "
   ]
  },
  {
   "cell_type": "markdown",
   "metadata": {},
   "source": [
    "Lets inspect `Soma`:\n",
    "\n",
    "<div class=\"c2c\"></div>"
   ]
  },
  {
   "cell_type": "code",
   "execution_count": 83,
   "metadata": {},
   "outputs": [
    {
     "data": {
      "text/plain": [
       "array([10.32198035, 10.3221534 , 10.32232645, 10.3224995 , 10.32267255,\n",
       "       10.3228456 , 10.32301866, 10.32319171, 10.32336476, 10.32353782])"
      ]
     },
     "execution_count": 83,
     "metadata": {},
     "output_type": "execute_result"
    }
   ],
   "source": [
    "output['Soma'][-10:]"
   ]
  },
  {
   "cell_type": "markdown",
   "metadata": {},
   "source": [
    "<div class=\"Q\"><br>\n",
    "\n",
    "What are the values of the last 10 elements of <b>Soma</b> inside the <b>output</b> dictionary?\n",
    "\n",
    "<br><br><div class=\"qhelp\"></div></div>"
   ]
  },
  {
   "cell_type": "markdown",
   "metadata": {},
   "source": [
    "---------------------\n",
    "\n",
    "## Dynamic Mass Allocation (RE) - Eq.13\n",
    "\n",
    "(13) $$ RE=MAX \\left ( 0, \\frac{B-B_{Pub}}{K_{RE}+B-(2 \\cdot B_{Pub})}\\right)$$\n",
    "\n",
    "Lets see if you can make sense of the new lines (code below) without a detailed explanation.\n",
    "\n",
    "Copy-paste the **new lines** in the code below to your own <span class='file'>model_SHELLE.py</span> and click <span class='run'></span>\n",
    "\n",
    "<span class=\"checkpoint\">CHECKPOINT below...</span> "
   ]
  },
  {
   "cell_type": "code",
   "execution_count": 84,
   "metadata": {},
   "outputs": [
    {
     "name": "stdout",
     "output_type": "stream",
     "text": [
      "Executing my_module.py\n",
      "--------------------\n",
      "Loading defaults...\n",
      "Running model...\n",
      "Model run: DONE!!!\n"
     ]
    },
    {
     "data": {
      "image/png": "[encoded data removed]",
      "text/plain": [
       "<Figure size 432x288 with 1 Axes>"
      ]
     },
     "metadata": {
      "needs_background": "light"
     },
     "output_type": "display_data"
    },
    {
     "name": "stdout",
     "output_type": "stream",
     "text": [
      "L_Temp = 0.846341805817443\n",
      "L_Salt = 0.9932620530009145\n",
      "L_Oxy  = 0.9984194778312638\n",
      "L_Food  = 0.5652173913043478\n",
      "--------------------\n"
     ]
    }
   ],
   "source": [
    "def load_defaults():\n",
    "    print('Loading defaults...')\n",
    "    # Framework\n",
    "    days = 365 * 3 # One year\n",
    "    dt   = 0.01 # units: days    \n",
    "    \n",
    "    # Parameters\n",
    "    par = {}\n",
    "    par['AE_P']  = 0.9  \n",
    "    par['AE_D']  = 0.2 \n",
    "    par['AE_Z']  = 0.3\n",
    "    par['Fmax_ref']= 0.025 \n",
    "    par['epsilonP'] = 1. \n",
    "    par['epsilonD'] = 0.5 \n",
    "    par['epsilonZ'] = 0.3\n",
    "    par['KTempH']= 0.1  \n",
    "    par['KTempL']= 0.5\n",
    "    par['TempH'] = 25. \n",
    "    par['TempL'] = -4. \n",
    "    par['KSaltL']= 0.25 \n",
    "    par['SaltL'] = 10.\n",
    "    par['OxyL']  = 17.5 \n",
    "    par['KOxyL'] = 0.02\n",
    "    par['KFood'] = 1.  \n",
    "    par['Rm']    = 0.002 \n",
    "    par['beta']  = 0.12\n",
    "    par['Bpub']    = 0.43 # <<<<<<<<<<<<<<<<<<<<<<<<<<<<<<<< NEW LINE !!!!! <<<<<<<<\n",
    "    par['KRE']   = 0.86 # <<<<<<<<<<<<<<<<<<<<<<<<<<<<<<<<<< NEW LINE !!!!! <<<<<<<<\n",
    "    \n",
    "    # Initial conditions\n",
    "    InitCond = {}\n",
    "    InitCond['Soma'] = 0.01 \n",
    "    InitCond['Gonad'] = 0.0\n",
    "    InitCond['Phy'] = 0.8 \n",
    "    InitCond['Zoo'] = 0.3 \n",
    "    InitCond['SDet'] = 0.2\n",
    "    InitCond['Temp'] = 10 \n",
    "    InitCond['Salt'] = 30 \n",
    "    InitCond['Oxy'] = 340.\n",
    "    return  days, dt, par, InitCond\n",
    "    \n",
    "def run(days, dt, par, InitCond):\n",
    "    print('Running model...')\n",
    "    # Import libraries\n",
    "    import numpy as np\n",
    "    \n",
    "    # Setup the framework \n",
    "    NoSTEPS = int(days / dt) # Calculates the number of steps \n",
    "    time = np.linspace(0,days,NoSTEPS) # Makes vector array of equally spaced numbers \n",
    "    \n",
    "    # Create arrays of zeros\n",
    "    B = np.zeros((NoSTEPS,),float) # Biomass \n",
    "    Soma = np.zeros((NoSTEPS,),float) \n",
    "    Gonad = np.zeros((NoSTEPS,),float)\n",
    "    \n",
    "    # Initializing with initial conditions\n",
    "    Soma[0] = InitCond['Soma'] \n",
    "    Gonad[0] = InitCond['Gonad'] \n",
    "    B[0] = InitCond['Soma'] + InitCond['Gonad'] \n",
    "    \n",
    "    # *****************************************************************************\n",
    "    # MAIN MODEL LOOP *************************************************************\n",
    "    for t in range(0,NoSTEPS-1):\n",
    "        \n",
    "        Fmax  = par['Fmax_ref']*(B[t]**(2./3.)) # Eq.5\n",
    "        \n",
    "        # Eq.6 - Temperature Limitation  \n",
    "        L_Temp = min(max(0.,1.-np.exp(-par['KTempL']*(InitCond['Temp']-par['TempL']))), \\\n",
    "                     max(0.,1.+((1.-np.exp(par['KTempH']*InitCond['Temp']))/(np.exp(par['KTempH']*par['TempH'])-1.))))\n",
    "        \n",
    "        # Eq.7 - Salinity Limitation \n",
    "        L_Salt = max(0.,1.-np.exp(-par['KSaltL']*(InitCond['Salt']-par['SaltL'])))\n",
    "        \n",
    "        # Eq.8 - Oxygen Limitation\n",
    "        L_Oxy = max(0.,1.-np.exp(-par['KOxyL']*(InitCond['Oxy']-par['OxyL'])))\n",
    "        \n",
    "         # Eq.9 - Food Limitation\n",
    "        L_Food = (InitCond['Phy']+InitCond['Zoo']+InitCond['SDet'])/ \\\n",
    "                 (par['KFood']+InitCond['Phy']+InitCond['Zoo']+InitCond['SDet']) \n",
    "        \n",
    "        F = Fmax * L_Temp * L_Salt * L_Oxy * L_Food #Eq 4 \n",
    "\n",
    "        # Eq.3 # \n",
    "        A = F * ((par['epsilonP']*par['AE_P']*InitCond['Phy'])+ \\\n",
    "                    (par['epsilonZ']*par['AE_Z']*InitCond['Zoo'])+ \\\n",
    "                    (par['epsilonD']*par['AE_D']*InitCond['SDet']))\n",
    "        \n",
    "        R = (par['Rm']*B[t]) + (par['beta']*A)\n",
    "        \n",
    "        # Dynamic mass allocation - Eq. 13 <<<<<<<<<<<<<< NEW SECTION <<<<<<<<<<<<<\n",
    "        RE = max(0., (B[t]-par['Bpub'])/(par['KRE'] + B[t] - (2.*par['Bpub']))) \n",
    "        \n",
    "        Spawning = 0 # TO DO \n",
    "        dBdt = (A - R) - Spawning # Eq.2 \n",
    "        dSomadt = (A-R) * (1.-RE) # Eq. 11 \n",
    "        dGonaddt = 0 \n",
    "        \n",
    "        # Update and step ------------------------------\n",
    "        Soma[t+1] = Soma[t] + (dSomadt * dt) \n",
    "        Gonad[t+1] = Gonad[t] + (dGonaddt * dt) \n",
    "        B[t+1] = Soma[t+1] + Gonad[t+1] \n",
    "        \n",
    "    # end of main model LOOP*******************************************************\n",
    "    # *****************************************************************************\n",
    "\n",
    "    # Pack output into dictionary\n",
    "    output = {}\n",
    "    output['time'] = time\n",
    "    output['B'] = B \n",
    "    output['Soma'] = Soma \n",
    "    output['Gonad'] = Gonad \n",
    "    output['L_Temp'] = L_Temp \n",
    "    output['L_Salt'] = L_Salt \n",
    "    output['L_Oxy'] = L_Oxy\n",
    "    output['L_Food'] = L_Food \n",
    "    \n",
    "    print('Model run: DONE!!!')\n",
    "    return  output\n",
    "\n",
    "def plot(output):\n",
    "    import matplotlib.pyplot as plt \n",
    "    # Plotting                      \n",
    "    fig, (ax) = plt.subplots(1,1)\n",
    "    ax.plot(output['time']/365,output['B'],'r-') \n",
    "    ax.plot(output['time']/365,output['Soma'],'b-') \n",
    "    ax.plot(output['time']/365,output['Gonad'],'g.')\n",
    "    ax.legend(['B', 'Soma', 'Gonad']) \n",
    "    ax.set_ylabel('Nitrogen (mmol N)') \n",
    "    ax.set_xlabel('Time (years)')\n",
    "    plt.show()          \n",
    "    print('L_Temp = ' + str(output['L_Temp']))\n",
    "    print('L_Salt = ' + str(output['L_Salt']))\n",
    "    print('L_Oxy  = ' + str(output['L_Oxy']))\n",
    "    print('L_Food  = ' + str(output['L_Food']))\n",
    "    return\n",
    "\n",
    "if __name__ == \"__main__\":\n",
    "    print('Executing my_module.py')\n",
    "    print('--------------------')\n",
    "    \n",
    "    days, dt, par, InitCond = load_defaults()\n",
    "    output = run(days, dt, par, InitCond)\n",
    "    plot(output)\n",
    "    \n",
    "    print('--------------------')\n",
    "    "
   ]
  },
  {
   "cell_type": "markdown",
   "metadata": {},
   "source": [
    "Lets inspect `Gonad`:\n",
    "\n",
    "<div class=\"c2c\"></div>"
   ]
  },
  {
   "cell_type": "code",
   "execution_count": 85,
   "metadata": {},
   "outputs": [
    {
     "data": {
      "text/plain": [
       "array([0., 0., 0., 0., 0., 0., 0., 0., 0., 0.])"
      ]
     },
     "execution_count": 85,
     "metadata": {},
     "output_type": "execute_result"
    }
   ],
   "source": [
    "output['Gonad'][-10:]"
   ]
  },
  {
   "cell_type": "markdown",
   "metadata": {},
   "source": [
    "<div class=\"Q\"><br>\n",
    "\n",
    "What is the value of the last 10 elements of <b>Gonad</b> inside the <b>output</b> dictionary?\n",
    "\n",
    "<br><br><div class=\"qhelp\"></div></div>"
   ]
  },
  {
   "cell_type": "markdown",
   "metadata": {},
   "source": [
    "---------------------\n",
    "\n",
    "## Gonad - Eq.12\n",
    "\n",
    "\n",
    "(12) $$ \\frac{\\partial Gonad}{\\partial t} = \\left [(A - R) \\cdot RE \\right ]-Spawning$$\n",
    "\n",
    "Lets see if you can make sense of the new lines (code below) without a detailed explanation.\n",
    "\n",
    "Copy-paste the **new lines** in the code below to your own <span class='file'>model_SHELLE.py</span> and click <span class='run'></span>\n",
    "\n",
    "<span class=\"checkpoint\">CHECKPOINT below...</span> "
   ]
  },
  {
   "cell_type": "code",
   "execution_count": 86,
   "metadata": {},
   "outputs": [
    {
     "name": "stdout",
     "output_type": "stream",
     "text": [
      "Executing my_module.py\n",
      "--------------------\n",
      "Loading defaults...\n",
      "Running model...\n",
      "Model run: DONE!!!\n"
     ]
    },
    {
     "data": {
      "image/png": "[encoded data removed]",
      "text/plain": [
       "<Figure size 432x288 with 1 Axes>"
      ]
     },
     "metadata": {
      "needs_background": "light"
     },
     "output_type": "display_data"
    },
    {
     "name": "stdout",
     "output_type": "stream",
     "text": [
      "L_Temp = 0.846341805817443\n",
      "L_Salt = 0.9932620530009145\n",
      "L_Oxy  = 0.9984194778312638\n",
      "L_Food  = 0.5652173913043478\n",
      "--------------------\n"
     ]
    }
   ],
   "source": [
    "def load_defaults():\n",
    "    print('Loading defaults...')\n",
    "    # Framework\n",
    "    days = 365 * 3 # One year\n",
    "    dt   = 0.01 # units: days    \n",
    "    \n",
    "    # Parameters\n",
    "    par = {}\n",
    "    par['AE_P']  = 0.9  \n",
    "    par['AE_D']  = 0.2 \n",
    "    par['AE_Z']  = 0.3\n",
    "    par['Fmax_ref']= 0.025 \n",
    "    par['epsilonP'] = 1. \n",
    "    par['epsilonD'] = 0.5 \n",
    "    par['epsilonZ'] = 0.3\n",
    "    par['KTempH']= 0.1  \n",
    "    par['KTempL']= 0.5\n",
    "    par['TempH'] = 25. \n",
    "    par['TempL'] = -4. \n",
    "    par['KSaltL']= 0.25 \n",
    "    par['SaltL'] = 10.\n",
    "    par['OxyL']  = 17.5 \n",
    "    par['KOxyL'] = 0.02\n",
    "    par['KFood'] = 1.  \n",
    "    par['Rm']    = 0.002 \n",
    "    par['beta']  = 0.12\n",
    "    par['Bpub']    = 0.43\n",
    "    par['KRE']   = 0.86\n",
    "    \n",
    "    # Initial conditions\n",
    "    InitCond = {}\n",
    "    InitCond['Soma'] = 0.01 \n",
    "    InitCond['Gonad'] = 0.0\n",
    "    InitCond['Phy'] = 0.8 \n",
    "    InitCond['Zoo'] = 0.3 \n",
    "    InitCond['SDet'] = 0.2\n",
    "    InitCond['Temp'] = 10 \n",
    "    InitCond['Salt'] = 30 \n",
    "    InitCond['Oxy'] = 340.\n",
    "    return  days, dt, par, InitCond\n",
    "    \n",
    "def run(days, dt, par, InitCond):\n",
    "    print('Running model...')\n",
    "    # Import libraries\n",
    "    import numpy as np\n",
    "    \n",
    "    # Setup the framework \n",
    "    NoSTEPS = int(days / dt) # Calculates the number of steps \n",
    "    time = np.linspace(0,days,NoSTEPS) # Makes vector array of equally spaced numbers \n",
    "    \n",
    "    # Create arrays of zeros\n",
    "    B = np.zeros((NoSTEPS,),float) # Biomass \n",
    "    Soma = np.zeros((NoSTEPS,),float) \n",
    "    Gonad = np.zeros((NoSTEPS,),float)\n",
    "    \n",
    "    # Initializing with initial conditions\n",
    "    Soma[0] = InitCond['Soma'] \n",
    "    Gonad[0] = InitCond['Gonad'] \n",
    "    B[0] = InitCond['Soma'] + InitCond['Gonad'] \n",
    "    \n",
    "    # *****************************************************************************\n",
    "    # MAIN MODEL LOOP *************************************************************\n",
    "    for t in range(0,NoSTEPS-1):\n",
    "        \n",
    "        Fmax = par['Fmax_ref']*(B[t]**(2./3.)) # Eq.5\n",
    "        \n",
    "        # Eq.6 - Temperature Limitation  \n",
    "        L_Temp = min(max(0.,1.-np.exp(-par['KTempL']*(InitCond['Temp']-par['TempL']))), \\\n",
    "                     max(0.,1.+((1.-np.exp(par['KTempH']*InitCond['Temp']))/(np.exp(par['KTempH']*par['TempH'])-1.))))\n",
    "        \n",
    "        # Eq.7 - Salinity Limitation \n",
    "        L_Salt = max(0.,1.-np.exp(-par['KSaltL']*(InitCond['Salt']-par['SaltL'])))\n",
    "        \n",
    "        # Eq.8 - Oxygen Limitation\n",
    "        L_Oxy = max(0.,1.-np.exp(-par['KOxyL']*(InitCond['Oxy']-par['OxyL'])))\n",
    "        \n",
    "         # Eq.9 - Food Limitation\n",
    "        L_Food = (InitCond['Phy']+InitCond['Zoo']+InitCond['SDet'])/ \\\n",
    "                 (par['KFood']+InitCond['Phy']+InitCond['Zoo']+InitCond['SDet']) \n",
    "        \n",
    "        F = Fmax * L_Temp * L_Salt * L_Oxy * L_Food #Eq 4 \n",
    "\n",
    "        # Eq.3 # \n",
    "        A = F * ((par['epsilonP']*par['AE_P']*InitCond['Phy'])+ \\\n",
    "                    (par['epsilonZ']*par['AE_Z']*InitCond['Zoo'])+ \\\n",
    "                    (par['epsilonD']*par['AE_D']*InitCond['SDet']))\n",
    "        \n",
    "        R = (par['Rm']*B[t]) + (par['beta']*A)\n",
    "        \n",
    "        # Dynamic mass allocation - Eq. 13 \n",
    "        RE = max(0., (B[t]-par['Bpub'])/(par['KRE'] + B[t] - (2.*par['Bpub']))) \n",
    "        \n",
    "        Spawning = 0 # TO DO \n",
    "        dBdt = (A - R) - Spawning # Eq.2 \n",
    "        dSomadt = (A-R) * (1.-RE) # Eq. 11\n",
    "        \n",
    "        # Note that I added a \"max\" function to prevent Gonad to go negative <<<<<<<<<<<<<< NEW SECTION <<<<<<<<<<<<<\n",
    "        dGonaddt = max(0.,((A-R) * RE) - Spawning) #Eq 12. \n",
    "        \n",
    "        # Update and step ------------------------------\n",
    "        Soma[t+1] = Soma[t] + (dSomadt * dt) \n",
    "        Gonad[t+1] = Gonad[t] + (dGonaddt * dt) \n",
    "        B[t+1] = Soma[t+1] + Gonad[t+1] \n",
    "        \n",
    "    # end of main model LOOP*******************************************************\n",
    "    # *****************************************************************************\n",
    "\n",
    "    # Pack output into dictionary\n",
    "    output = {}\n",
    "    output['time'] = time\n",
    "    output['B'] = B \n",
    "    output['Soma'] = Soma \n",
    "    output['Gonad'] = Gonad \n",
    "    output['L_Temp'] = L_Temp \n",
    "    output['L_Salt'] = L_Salt \n",
    "    output['L_Oxy'] = L_Oxy\n",
    "    output['L_Food'] = L_Food \n",
    "    \n",
    "    print('Model run: DONE!!!')\n",
    "    return  output\n",
    "\n",
    "def plot(output):\n",
    "    import matplotlib.pyplot as plt \n",
    "    # Plotting                      \n",
    "    fig, (ax) = plt.subplots(1,1)\n",
    "    ax.plot(output['time']/365,output['B'],'r-') \n",
    "    ax.plot(output['time']/365,output['Soma'],'b-') \n",
    "    ax.plot(output['time']/365,output['Gonad'],'g.')\n",
    "    ax.legend(['B', 'Soma', 'Gonad']) \n",
    "    ax.set_ylabel('Nitrogen (mmol N)') \n",
    "    ax.set_xlabel('Time (years)')\n",
    "    plt.show()          \n",
    "    print('L_Temp = ' + str(output['L_Temp']))\n",
    "    print('L_Salt = ' + str(output['L_Salt']))\n",
    "    print('L_Oxy  = ' + str(output['L_Oxy']))\n",
    "    print('L_Food  = ' + str(output['L_Food']))\n",
    "    return\n",
    "\n",
    "if __name__ == \"__main__\":\n",
    "    print('Executing my_module.py')\n",
    "    print('--------------------')\n",
    "    \n",
    "    days, dt, par, InitCond = load_defaults()\n",
    "    output = run(days, dt, par, InitCond)\n",
    "    plot(output)\n",
    "    \n",
    "    print('--------------------')\n",
    "    "
   ]
  },
  {
   "cell_type": "markdown",
   "metadata": {},
   "source": [
    "Lets inspect `Gonad`:\n",
    "\n",
    "<div class=\"c2c\"></div>"
   ]
  },
  {
   "cell_type": "code",
   "execution_count": 87,
   "metadata": {},
   "outputs": [
    {
     "data": {
      "text/plain": [
       "array([8.52530367, 8.52546951, 8.52563535, 8.52580119, 8.52596704,\n",
       "       8.52613288, 8.52629872, 8.52646457, 8.52663041, 8.52679626])"
      ]
     },
     "execution_count": 87,
     "metadata": {},
     "output_type": "execute_result"
    }
   ],
   "source": [
    "output['Gonad'][-10:]"
   ]
  },
  {
   "cell_type": "markdown",
   "metadata": {},
   "source": [
    "<div class=\"Q\"><br>\n",
    "\n",
    "What are the values of the last 10 elements of <b>Gonad</b> inside the <b>output</b> dictionary?\n",
    "\n",
    "<br><br><div class=\"qhelp\"></div></div>"
   ]
  },
  {
   "cell_type": "markdown",
   "metadata": {},
   "source": [
    "---------------------\n",
    "\n",
    "## Spawning - Eq.14\n",
    "\n",
    "(14)\n",
    "\n",
    "$$\n",
    "Spawning =\n",
    "\\begin{cases}\n",
    "0, & \\text{if } \\frac{Gonad(t)}{B(t)} <GT \\\\\n",
    "Gonat(t), & \\text{if } \\frac{Gonad(t)}{B(t)} \\ge GT\n",
    "\\end{cases}\n",
    "$$\n",
    "\n",
    "\n",
    "Lets see if you can make sense of the new lines (code below) without a detailed explanation.\n",
    "\n",
    "Copy-paste the **new lines** in the code below to your own <span class='file'>model_SHELLE.py</span> and click <span class='run'></span> \n",
    "\n",
    "<span class=\"checkpoint\">CHECKPOINT below...</span> "
   ]
  },
  {
   "cell_type": "code",
   "execution_count": 88,
   "metadata": {},
   "outputs": [
    {
     "name": "stdout",
     "output_type": "stream",
     "text": [
      "Executing my_module.py\n",
      "--------------------\n",
      "Loading defaults...\n",
      "Running model...\n",
      "Model run: DONE!!!\n"
     ]
    },
    {
     "data": {
      "image/png": "[encoded data removed]",
      "text/plain": [
       "<Figure size 432x288 with 1 Axes>"
      ]
     },
     "metadata": {
      "needs_background": "light"
     },
     "output_type": "display_data"
    },
    {
     "name": "stdout",
     "output_type": "stream",
     "text": [
      "L_Temp = 0.846341805817443\n",
      "L_Salt = 0.9932620530009145\n",
      "L_Oxy  = 0.9984194778312638\n",
      "L_Food  = 0.5652173913043478\n",
      "--------------------\n"
     ]
    }
   ],
   "source": [
    "def load_defaults():\n",
    "    print('Loading defaults...')\n",
    "    # Framework\n",
    "    days = 365 * 3 # One year\n",
    "    dt   = 0.01 # units: days    \n",
    "    \n",
    "    # Parameters\n",
    "    par = {}\n",
    "    par['AE_P']  = 0.9  \n",
    "    par['AE_D']  = 0.2 \n",
    "    par['AE_Z']  = 0.3\n",
    "    par['Fmax_ref']= 0.025 \n",
    "    par['epsilonP'] = 1. \n",
    "    par['epsilonD'] = 0.5 \n",
    "    par['epsilonZ'] = 0.3\n",
    "    par['KTempH']= 0.1  \n",
    "    par['KTempL']= 0.5\n",
    "    par['TempH'] = 25. \n",
    "    par['TempL'] = -4. \n",
    "    par['KSaltL']= 0.25 \n",
    "    par['SaltL'] = 10.\n",
    "    par['OxyL']  = 17.5 \n",
    "    par['KOxyL'] = 0.02\n",
    "    par['KFood'] = 1.  \n",
    "    par['Rm']    = 0.002 \n",
    "    par['beta']  = 0.12\n",
    "    par['Bpub']    = 0.43\n",
    "    par['KRE']   = 0.86\n",
    "    par['GT']    = 0.44 # <<<<<<<<<<<<<<<<<<<<<<<<<<<<<<<< NEW LINE !!!!! <<<<<<<<\n",
    "    \n",
    "    # Initial conditions\n",
    "    InitCond = {}\n",
    "    InitCond['Soma'] = 0.01 \n",
    "    InitCond['Gonad'] = 0.0\n",
    "    InitCond['Phy'] = 0.8 \n",
    "    InitCond['Zoo'] = 0.3 \n",
    "    InitCond['SDet'] = 0.2\n",
    "    InitCond['Temp'] = 10 \n",
    "    InitCond['Salt'] = 30 \n",
    "    InitCond['Oxy'] = 340.\n",
    "    return  days, dt, par, InitCond\n",
    "    \n",
    "def run(days, dt, par, InitCond):\n",
    "    print('Running model...')\n",
    "    # Import libraries\n",
    "    import numpy as np\n",
    "    \n",
    "    # Setup the framework \n",
    "    NoSTEPS = int(days / dt) # Calculates the number of steps \n",
    "    time = np.linspace(0,days,NoSTEPS) # Makes vector array of equally spaced numbers \n",
    "    \n",
    "    # Create arrays of zeros\n",
    "    B = np.zeros((NoSTEPS,),float) # Biomass \n",
    "    Soma = np.zeros((NoSTEPS,),float) \n",
    "    Gonad = np.zeros((NoSTEPS,),float)\n",
    "    \n",
    "    # Initializing with initial conditions\n",
    "    Soma[0] = InitCond['Soma'] \n",
    "    Gonad[0] = InitCond['Gonad'] \n",
    "    B[0] = InitCond['Soma'] + InitCond['Gonad'] \n",
    "    \n",
    "    # *****************************************************************************\n",
    "    # MAIN MODEL LOOP *************************************************************\n",
    "    for t in range(0,NoSTEPS-1):\n",
    "        \n",
    "        Fmax = par['Fmax_ref']*(B[t]**(2./3.)) # Eq.5\n",
    "        \n",
    "        # Eq.6 - Temperature Limitation  \n",
    "        L_Temp = min(max(0.,1.-np.exp(-par['KTempL']*(InitCond['Temp']-par['TempL']))), \\\n",
    "                     max(0.,1.+((1.-np.exp(par['KTempH']*InitCond['Temp']))/(np.exp(par['KTempH']*par['TempH'])-1.))))\n",
    "        \n",
    "        # Eq.7 - Salinity Limitation \n",
    "        L_Salt = max(0.,1.-np.exp(-par['KSaltL']*(InitCond['Salt']-par['SaltL'])))\n",
    "        \n",
    "        # Eq.8 - Oxygen Limitation\n",
    "        L_Oxy = max(0.,1.-np.exp(-par['KOxyL']*(InitCond['Oxy']-par['OxyL'])))\n",
    "        \n",
    "         # Eq.9 - Food Limitation\n",
    "        L_Food = (InitCond['Phy']+InitCond['Zoo']+InitCond['SDet'])/ \\\n",
    "                 (par['KFood']+InitCond['Phy']+InitCond['Zoo']+InitCond['SDet']) \n",
    "        \n",
    "        F = Fmax * L_Temp * L_Salt * L_Oxy * L_Food #Eq 4 \n",
    "\n",
    "        # Eq.3 # \n",
    "        A = F * ((par['epsilonP']*par['AE_P']*InitCond['Phy'])+ \\\n",
    "                    (par['epsilonZ']*par['AE_Z']*InitCond['Zoo'])+ \\\n",
    "                    (par['epsilonD']*par['AE_D']*InitCond['SDet']))\n",
    "        \n",
    "        R = (par['Rm']*B[t]) + (par['beta']*A)\n",
    "        \n",
    "        # Dynamic mass allocation - Eq. 13 \n",
    "        RE = max(0., (B[t]-par['Bpub'])/(par['KRE'] + B[t] - (2.*par['Bpub']))) \n",
    "        \n",
    "        \n",
    "        # Spawning Eq. 14 <<<<<<<<<<<<<<<<<<<<<<<<<<<<<<< NEW SECTION <<<<<<<<<<<<<\n",
    "        if Gonad[t]/B[t] < par['GT']:\n",
    "            Spawning = 0.\n",
    "        elif Gonad[t]/B[t] >= par['GT']:\n",
    "            Spawning = Gonad[t]\n",
    "            Gonad[t] = 0.\n",
    "            \n",
    "        \n",
    "        #dBdt = (A - R) - Spawning # Eq.2 \n",
    "        dSomadt = (A-R) * (1.-RE) # Eq. 11\n",
    "        \n",
    "        # Note that I added a \"max\" function to prevent Gonad to go negative \n",
    "        dGonaddt = max(0.,((A-R) * RE) - Spawning) #Eq 12. \n",
    "        \n",
    "        # Update and step ------------------------------\n",
    "        Soma[t+1] = Soma[t] + (dSomadt * dt) \n",
    "        Gonad[t+1] = Gonad[t] + (dGonaddt * dt) \n",
    "        B[t+1] = Soma[t+1] + Gonad[t+1] \n",
    "        \n",
    "    # end of main model LOOP*******************************************************\n",
    "    # *****************************************************************************\n",
    "\n",
    "    # Pack output into dictionary\n",
    "    output = {}\n",
    "    output['time'] = time\n",
    "    output['B'] = B \n",
    "    output['Soma'] = Soma \n",
    "    output['Gonad'] = Gonad \n",
    "    output['L_Temp'] = L_Temp \n",
    "    output['L_Salt'] = L_Salt \n",
    "    output['L_Oxy'] = L_Oxy\n",
    "    output['L_Food'] = L_Food \n",
    "    \n",
    "    print('Model run: DONE!!!')\n",
    "    return  output\n",
    "\n",
    "def plot(output):\n",
    "    import matplotlib.pyplot as plt \n",
    "    # Plotting                      \n",
    "    fig, (ax) = plt.subplots(1,1)\n",
    "    ax.plot(output['time']/365,output['B'],'r-') \n",
    "    ax.plot(output['time']/365,output['Soma'],'b-') \n",
    "    ax.plot(output['time']/365,output['Gonad'],'g.')\n",
    "    ax.legend(['B', 'Soma', 'Gonad']) \n",
    "    ax.set_ylabel('Nitrogen (mmol N)') \n",
    "    ax.set_xlabel('Time (years)')\n",
    "    plt.show()          \n",
    "    print('L_Temp = ' + str(output['L_Temp']))\n",
    "    print('L_Salt = ' + str(output['L_Salt']))\n",
    "    print('L_Oxy  = ' + str(output['L_Oxy']))\n",
    "    print('L_Food  = ' + str(output['L_Food']))\n",
    "    return\n",
    "\n",
    "if __name__ == \"__main__\":\n",
    "    print('Executing my_module.py')\n",
    "    print('--------------------')\n",
    "    \n",
    "    days, dt, par, InitCond = load_defaults()\n",
    "    output = run(days, dt, par, InitCond)\n",
    "    plot(output)\n",
    "    \n",
    "    print('--------------------')\n",
    "    "
   ]
  },
  {
   "cell_type": "markdown",
   "metadata": {},
   "source": [
    "Take a look at the graph above, specifically at the green line. Every time our mussel spawns the green line changes to zero."
   ]
  },
  {
   "cell_type": "markdown",
   "metadata": {},
   "source": [
    "<div class=\"Q\"><br>\n",
    "\n",
    "How many times our mussel spawned between year 1 and year 2?\n",
    "\n",
    "<br><br><div class=\"qhelp\"></div></div>"
   ]
  },
  {
   "cell_type": "markdown",
   "metadata": {},
   "source": [
    "---------------------\n",
    "\n",
    "---------------------\n",
    "\n",
    "---------------------\n",
    "\n",
    "# Playing with our new model\n",
    "\n",
    "Now it is time to actually use our newly coded model. But first make to sure you have indeed the latest code in your <span class='file'>model_SHELLE.py</span> file. If in doubt, copy-paste the contents of the last CHECKPOINT into <span class='file'>model_SHELLE.py</span> and click [save].\n",
    "\n",
    "Make a new file, save it as <span class='file'>Playing_with_SHELLE.py</span>. Make sure it is in the working directory (i.e.  the same directory as <span class='file'>model_SHELLE.py</span>).\n",
    "\n",
    "Copy-paste the following code in your new <span class='file'>Playing_with_SHELLE.py</span> file and click <span class='run'></span>."
   ]
  },
  {
   "cell_type": "code",
   "execution_count": 89,
   "metadata": {},
   "outputs": [
    {
     "name": "stdout",
     "output_type": "stream",
     "text": [
      "************ RUN 1: Default scenario************\n",
      "Loading defaults...\n",
      "Running model...\n",
      "Model run: DONE!!!\n"
     ]
    },
    {
     "data": {
      "image/png": "[encoded data removed]",
      "text/plain": [
       "<Figure size 432x288 with 1 Axes>"
      ]
     },
     "metadata": {
      "needs_background": "light"
     },
     "output_type": "display_data"
    },
    {
     "name": "stdout",
     "output_type": "stream",
     "text": [
      "L_Temp = 0.846341805817443\n",
      "L_Salt = 0.9932620530009145\n",
      "L_Oxy  = 0.9984194778312638\n",
      "L_Food  = 0.5652173913043478\n"
     ]
    }
   ],
   "source": [
    "import model_SHELLE as model\n",
    "\n",
    "#%% Run 1\n",
    "\n",
    "print('************ RUN 1: Default scenario************')\n",
    "\n",
    "# load default parameters\n",
    "days, dt, par, InitCond = model.load_defaults()\n",
    "\n",
    " # run the model\n",
    "output = model.run(days, dt, par, InitCond)\n",
    "\n",
    "# plot model\n",
    "model.plot(output)"
   ]
  },
  {
   "cell_type": "markdown",
   "metadata": {},
   "source": [
    "Lets see how big our mussel grew after 3 years by inspecting its `Soma` (note that don;t want to pay too much attention to total mussel biomass `B` because it changes depending on when our mussel spawned last).:\n",
    "\n",
    "<div class=\"c2c\"></div>"
   ]
  },
  {
   "cell_type": "code",
   "execution_count": 90,
   "metadata": {},
   "outputs": [
    {
     "data": {
      "text/plain": [
       "2.1935157311930347"
      ]
     },
     "execution_count": 90,
     "metadata": {},
     "output_type": "execute_result"
    }
   ],
   "source": [
    "output['Soma'][-1]"
   ]
  },
  {
   "cell_type": "markdown",
   "metadata": {},
   "source": [
    "<div class=\"Q\"><br>\n",
    "\n",
    "What was the <b>Soma</b> of our mussel after growing for 3 years?\n",
    "\n",
    "<br><br><div class=\"qhelp\"></div></div>"
   ]
  },
  {
   "cell_type": "markdown",
   "metadata": {},
   "source": [
    "The output is the result of the \"default\" run. Now lets run some \"non-default\" scenarios.\n"
   ]
  },
  {
   "cell_type": "markdown",
   "metadata": {},
   "source": [
    "\n",
    "### Run 2: Low oxygen scenario\n",
    "\n",
    "Copy-paste the code below at the bottom of the <span class='file'>Playing_with_SHELLE.py</span> file, select the last cell and click <span class='runcell'></span>."
   ]
  },
  {
   "cell_type": "code",
   "execution_count": 91,
   "metadata": {},
   "outputs": [
    {
     "name": "stdout",
     "output_type": "stream",
     "text": [
      "************ Run 2: Low oxygen scenario ************\n",
      "Loading defaults...\n",
      "Running model...\n",
      "Model run: DONE!!!\n"
     ]
    },
    {
     "data": {
      "image/png": "[encoded data removed]",
      "text/plain": [
       "<Figure size 432x288 with 1 Axes>"
      ]
     },
     "metadata": {
      "needs_background": "light"
     },
     "output_type": "display_data"
    },
    {
     "name": "stdout",
     "output_type": "stream",
     "text": [
      "L_Temp = 0.846341805817443\n",
      "L_Salt = 0.9932620530009145\n",
      "L_Oxy  = 0.47795422323898396\n",
      "L_Food  = 0.5652173913043478\n"
     ]
    }
   ],
   "source": [
    "#%% Run 2\n",
    "\n",
    "print('************ Run 2: Low oxygen scenario ************')\n",
    "\n",
    "# Re-load default parameters\n",
    "days, dt, par, InitCond = model.load_defaults()\n",
    "\n",
    "# Change a few things\n",
    "InitCond['Oxy'] = 50. #Oxygen ...note that the default is 340\n",
    "\n",
    " # run the model\n",
    "output = model.run(days, dt, par, InitCond)\n",
    "\n",
    "# plot model\n",
    "model.plot(output)"
   ]
  },
  {
   "cell_type": "markdown",
   "metadata": {},
   "source": [
    "As you can see. First you loaded the defaults using `days, dt, par, InitCond = model.load_defaults()`, then you overwrote the default Initial Condition for Oxygen `InitCond['Oxy'] = 50`. Finally you ran the model with the new parameters (i.e. all defaults except for Oxygen). "
   ]
  },
  {
   "cell_type": "markdown",
   "metadata": {},
   "source": [
    "Lets inspecting `Soma` again:"
   ]
  },
  {
   "cell_type": "code",
   "execution_count": 92,
   "metadata": {},
   "outputs": [
    {
     "data": {
      "text/plain": [
       "0.9117319211896197"
      ]
     },
     "execution_count": 92,
     "metadata": {},
     "output_type": "execute_result"
    }
   ],
   "source": [
    "output['Soma'][-1]"
   ]
  },
  {
   "cell_type": "markdown",
   "metadata": {},
   "source": [
    "<div class=\"Q\"><br>\n",
    "\n",
    "In the low oxygen scenario, what was the <b>Soma</b> of our mussel after growing for 3 years?\n",
    "\n",
    "<br><br><div class=\"qhelp\"></div></div>"
   ]
  },
  {
   "cell_type": "markdown",
   "metadata": {},
   "source": [
    "### Run 3: Low phytoplankton scenario\n",
    "\n",
    "Copy-paste the code below at the bottom of the <span class='file'>Playing_with_SHELLE.py</span> file, select the last cell and click <span class='runcell'></span>."
   ]
  },
  {
   "cell_type": "code",
   "execution_count": 93,
   "metadata": {},
   "outputs": [
    {
     "name": "stdout",
     "output_type": "stream",
     "text": [
      "************ Run 3: Low phytoplankton scenario ************\n",
      "Loading defaults...\n",
      "Running model...\n",
      "Model run: DONE!!!\n"
     ]
    },
    {
     "data": {
      "image/png": "[encoded data removed]",
      "text/plain": [
       "<Figure size 432x288 with 1 Axes>"
      ]
     },
     "metadata": {
      "needs_background": "light"
     },
     "output_type": "display_data"
    },
    {
     "name": "stdout",
     "output_type": "stream",
     "text": [
      "L_Temp = 0.846341805817443\n",
      "L_Salt = 0.9932620530009145\n",
      "L_Oxy  = 0.9984194778312638\n",
      "L_Food  = 0.47368421052631576\n"
     ]
    }
   ],
   "source": [
    "#%% Run 3\n",
    "\n",
    "print('************ Run 3: Low phytoplankton scenario ************')\n",
    "\n",
    "# Re-load default parameters\n",
    "days, dt, par, InitCond = model.load_defaults()\n",
    "\n",
    "# Change a few things\n",
    "InitCond['Phy'] = 0.4 #Phyto ...note that the default is 2\n",
    "\n",
    " # run the model\n",
    "output = model.run(days, dt, par, InitCond)\n",
    "\n",
    "# plot model\n",
    "model.plot(output)"
   ]
  },
  {
   "cell_type": "markdown",
   "metadata": {},
   "source": [
    "Lets inspecting `Soma` again:"
   ]
  },
  {
   "cell_type": "code",
   "execution_count": 94,
   "metadata": {},
   "outputs": [
    {
     "data": {
      "text/plain": [
       "0.8259846857063687"
      ]
     },
     "execution_count": 94,
     "metadata": {},
     "output_type": "execute_result"
    }
   ],
   "source": [
    "output['Soma'][-1]"
   ]
  },
  {
   "cell_type": "markdown",
   "metadata": {},
   "source": [
    "<div class=\"Q\"><br>\n",
    "\n",
    "In the low phytoplankton scenario, what was the <b>Soma</b> of our mussel after growing for 3 years?\n",
    "\n",
    "<br><br><div class=\"qhelp\"></div></div>"
   ]
  },
  {
   "cell_type": "markdown",
   "metadata": {},
   "source": [
    "<div class=\"Q\"><br>\n",
    "\n",
    "In the low phytoplankton scenario, when did our mussel reached puberty?\n",
    "\n",
    "Hint: When did the gonad started to grow?\n",
    "\n",
    "<br><br><div class=\"qhelp\"></div></div>"
   ]
  },
  {
   "cell_type": "markdown",
   "metadata": {},
   "source": [
    "\n",
    "### Run 4: No food scenario\n",
    "\n",
    "Copy-paste the code below at the bottom of the <span class='file'>Playing_with_SHELLE.py</span> file, select the last cell and click <span class='runcell'></span>."
   ]
  },
  {
   "cell_type": "code",
   "execution_count": 95,
   "metadata": {},
   "outputs": [
    {
     "name": "stdout",
     "output_type": "stream",
     "text": [
      "************ Run 4: No food scenario ************\n",
      "Loading defaults...\n",
      "Running model...\n",
      "Model run: DONE!!!\n"
     ]
    },
    {
     "data": {
      "image/png": "[encoded data removed]",
      "text/plain": [
       "<Figure size 432x288 with 1 Axes>"
      ]
     },
     "metadata": {
      "needs_background": "light"
     },
     "output_type": "display_data"
    },
    {
     "name": "stdout",
     "output_type": "stream",
     "text": [
      "L_Temp = 0.846341805817443\n",
      "L_Salt = 0.9932620530009145\n",
      "L_Oxy  = 0.9984194778312638\n",
      "L_Food  = 0.0\n"
     ]
    }
   ],
   "source": [
    "#%% Run 4\n",
    "\n",
    "print('************ Run 4: No food scenario ************')\n",
    "\n",
    "# Re-load default parameters\n",
    "days, dt, par, InitCond = model.load_defaults()\n",
    "\n",
    "# Change a few things\n",
    "InitCond['Phy'] = 0. #Phyto ...note that the default is 2\n",
    "InitCond['Zoo'] = 0. #Zoo\n",
    "InitCond['SDet'] = 0. #SDet\n",
    "\n",
    " # run the model\n",
    "output = model.run(days, dt, par, InitCond)\n",
    "\n",
    "# plot model\n",
    "model.plot(output)"
   ]
  },
  {
   "cell_type": "markdown",
   "metadata": {},
   "source": [
    "<div class=\"Q\"><br>\n",
    "\n",
    "How did we setup the <b>Initial Conditions</b> to simulate the \"no food\" scenario?\n",
    "\n",
    "<br><br><div class=\"qhelp\"></div></div>"
   ]
  },
  {
   "cell_type": "markdown",
   "metadata": {},
   "source": [
    "<div class=\"Q\"><br>\n",
    "\n",
    "In the \"no food\" scenario, what happened to our mussel?\n",
    "\n",
    "<br><br><div class=\"qhelp\"></div></div>"
   ]
  },
  {
   "cell_type": "markdown",
   "metadata": {},
   "source": [
    "\n",
    "### Run 5: Lots of phytoplankton\n",
    "\n",
    "Copy-paste the code below at the bottom of the <span class='file'>Playing_with_SHELLE.py</span> file, select the last cell and click <span class='runcell'></span>."
   ]
  },
  {
   "cell_type": "code",
   "execution_count": 96,
   "metadata": {},
   "outputs": [
    {
     "name": "stdout",
     "output_type": "stream",
     "text": [
      "************ Run 5: Lots of phytoplankton ************\n",
      "Loading defaults...\n",
      "Running model...\n",
      "Model run: DONE!!!\n"
     ]
    },
    {
     "data": {
      "image/png": "[encoded data removed]",
      "text/plain": [
       "<Figure size 432x288 with 1 Axes>"
      ]
     },
     "metadata": {
      "needs_background": "light"
     },
     "output_type": "display_data"
    },
    {
     "name": "stdout",
     "output_type": "stream",
     "text": [
      "L_Temp = 0.846341805817443\n",
      "L_Salt = 0.9932620530009145\n",
      "L_Oxy  = 0.9984194778312638\n",
      "L_Food  = 0.9130434782608695\n"
     ]
    }
   ],
   "source": [
    "#%% Run 5\n",
    "\n",
    "print('************ Run 5: Lots of phytoplankton ************')\n",
    "\n",
    "# Re-load default parameters\n",
    "days, dt, par, InitCond = model.load_defaults()\n",
    "\n",
    "# Change a few things\n",
    "InitCond['Phy'] = 10. #Phyto ...note that the default is 2\n",
    "\n",
    " # run the model\n",
    "output = model.run(days, dt, par, InitCond)\n",
    "\n",
    "# plot model\n",
    "model.plot(output)"
   ]
  },
  {
   "cell_type": "markdown",
   "metadata": {},
   "source": [
    "<div class=\"Q\"><br>\n",
    "\n",
    "In the \"lots of phytoplankton\" scenario, what happened to our mussel?\n",
    "\n",
    "<br><br><div class=\"qhelp\"></div></div>"
   ]
  },
  {
   "cell_type": "markdown",
   "metadata": {},
   "source": [
    "### Run 6: What environmental variable has the largest impact?\n",
    "\n",
    "Copy-paste the code below at the bottom of the <span class='file'>Playing_with_SHELLE.py</span> file, select the last cell and click <span class='runcell'></span>."
   ]
  },
  {
   "cell_type": "code",
   "execution_count": 97,
   "metadata": {},
   "outputs": [
    {
     "name": "stdout",
     "output_type": "stream",
     "text": [
      "************ Run 6: What environmental variable has the largest impact? ************\n",
      "Loading defaults...\n",
      "Running model...\n",
      "Model run: DONE!!!\n"
     ]
    },
    {
     "data": {
      "image/png": "[encoded data removed]",
      "text/plain": [
       "<Figure size 432x288 with 1 Axes>"
      ]
     },
     "metadata": {
      "needs_background": "light"
     },
     "output_type": "display_data"
    },
    {
     "name": "stdout",
     "output_type": "stream",
     "text": [
      "L_Temp = 0.9560183355010432\n",
      "L_Salt = 0.6321205588285577\n",
      "L_Oxy  = 0.8079500913792459\n",
      "L_Food  = 0.6969696969696971\n"
     ]
    }
   ],
   "source": [
    "#%% Run 6\n",
    "\n",
    "print('************ Run 6: What environmental variable has the largest impact? ************')\n",
    "\n",
    "# Re-load default parameters\n",
    "days, dt, par, InitCond = model.load_defaults()\n",
    "\n",
    "# Change a few things\n",
    "InitCond['Phy'] = 1.8 \n",
    "InitCond['Temp'] = 4 \n",
    "InitCond['Salt'] = 14 \n",
    "InitCond['Oxy'] = 100.\n",
    "\n",
    " # run the model\n",
    "output = model.run(days, dt, par, InitCond)\n",
    "\n",
    "# plot model\n",
    "model.plot(output)"
   ]
  },
  {
   "cell_type": "markdown",
   "metadata": {
    "collapsed": true
   },
   "source": [
    "Take a look at the model printout (just above), specifically at the values of `L_Temp`, `L_Salt`, `L_Oxy` and `L_Food` at the end of the model run. Then, answer the question below."
   ]
  },
  {
   "cell_type": "markdown",
   "metadata": {},
   "source": [
    "<div class=\"Q\"><br>\n",
    "\n",
    "What factor (i.e. Temperature, Salinity, Oxygen or Food) had the largest impact limiting the growth of our mussel?\n",
    "\n",
    "<br><br><div class=\"qhelp\"></div></div>"
   ]
  },
  {
   "cell_type": "raw",
   "metadata": {},
   "source": []
  },
  {
   "cell_type": "markdown",
   "metadata": {},
   "source": [
    "\n",
    "### MULTI-Run 7: Comparing different salinities\n",
    "\n",
    "Copy-paste the code below at the bottom of the <span class='file'>Playing_with_SHELLE.py</span> file, select the last cell and click <span class='runcell'></span>."
   ]
  },
  {
   "cell_type": "code",
   "execution_count": 98,
   "metadata": {},
   "outputs": [
    {
     "name": "stdout",
     "output_type": "stream",
     "text": [
      "************ MULTI-Run 7: Comparing different salinities ************\n",
      "Loading defaults...\n",
      "Running model...\n",
      "Model run: DONE!!!\n",
      "Running model...\n",
      "Model run: DONE!!!\n",
      "Running model...\n",
      "Model run: DONE!!!\n",
      "Running model...\n",
      "Model run: DONE!!!\n",
      "Running model...\n",
      "Model run: DONE!!!\n",
      "Running model...\n",
      "Model run: DONE!!!\n"
     ]
    },
    {
     "data": {
      "image/png": "[encoded data removed]",
      "text/plain": [
       "<Figure size 432x288 with 1 Axes>"
      ]
     },
     "metadata": {
      "needs_background": "light"
     },
     "output_type": "display_data"
    }
   ],
   "source": [
    "#%% Run 7\n",
    "\n",
    "print('************ MULTI-Run 7: Comparing different salinities ************')\n",
    "\n",
    "# Re-load default parameters\n",
    "days, dt, par, InitCond = model.load_defaults()\n",
    "\n",
    "# run1\n",
    "InitCond['Salt'] = 0 \n",
    "output_1 = model.run(days, dt, par, InitCond)\n",
    "\n",
    "# run2\n",
    "InitCond['Salt'] = 12 \n",
    "output_2 = model.run(days, dt, par, InitCond)\n",
    "\n",
    "# run3\n",
    "InitCond['Salt'] = 15 \n",
    "output_3 = model.run(days, dt, par, InitCond)\n",
    "\n",
    "# run4\n",
    "InitCond['Salt'] = 20 \n",
    "output_4 = model.run(days, dt, par, InitCond)\n",
    "\n",
    "# run5\n",
    "InitCond['Salt'] = 30 \n",
    "output_5 = model.run(days, dt, par, InitCond)\n",
    "\n",
    "# run6\n",
    "InitCond['Salt'] = 40 \n",
    "output_6 = model.run(days, dt, par, InitCond)\n",
    "\n",
    "# plot model\n",
    "import matplotlib.pyplot as plt\n",
    "fig, (ax) = plt.subplots(1,1)\n",
    "ax.plot(output_1['time']/365,output_1['Soma'],'-') \n",
    "ax.plot(output_2['time']/365,output_2['Soma'],'-') \n",
    "ax.plot(output_3['time']/365,output_3['Soma'],'-') \n",
    "ax.plot(output_4['time']/365,output_4['Soma'],'-') \n",
    "ax.plot(output_5['time']/365,output_5['Soma'],'-') \n",
    "ax.plot(output_6['time']/365,output_6['Soma'],'-')\n",
    "ax.legend(['@0 ppt', '@12 ppt','@15 ppt','@20 ppt','@30 ppt','@40 ppt'], loc=\"upper left\") \n",
    "ax.set_ylabel('Mussel Soma (mmol N)') \n",
    "ax.set_xlabel('Time (years)')\n",
    "plt.show() "
   ]
  },
  {
   "cell_type": "markdown",
   "metadata": {},
   "source": [
    "<div class=\"Q\"><br>\n",
    "\n",
    "What happened to the mussel grown in freshwater (i.e. 0 ppt)?\n",
    "\n",
    "<br><br><div class=\"qhelp\"></div></div>"
   ]
  },
  {
   "cell_type": "markdown",
   "metadata": {},
   "source": [
    "<div class=\"Q\"><br>\n",
    "\n",
    "What salinity resulted in the fastest growth of mussels?\n",
    "\n",
    "<br><br><div class=\"qhelp\"></div></div>"
   ]
  },
  {
   "cell_type": "markdown",
   "metadata": {},
   "source": [
    "_Please beware that this model was designed as a teaching tool and may not be adequate to represent realistic applications_.\n",
    "\n",
    "# **This is the end of lab**\n",
    "\n",
    "*******************\n",
    "*******************\n",
    "\n",
    "Code below is for formatting of this lab. Do not alter!"
   ]
  },
  {
   "cell_type": "code",
   "execution_count": 1,
   "metadata": {},
   "outputs": [
    {
     "data": {
      "text/html": [
       "<style>\n",
       "\n",
       "body {\n",
       "  counter-reset: question_num;                     /* Set a counter named 'section', and it`s initial value is 0. */\n",
       "}\n",
       "\n",
       "/* Question Box */\n",
       ".Q {\n",
       "    background-color:#ff9900;\n",
       "    color:black;\n",
       "    font-size:17px;\n",
       "    width:100%;\n",
       "    border:1px solid #666666;\n",
       "    padding:5px;\n",
       "}\n",
       "\n",
       ".Q::before {\n",
       "    counter-increment: question_num;\n",
       "    content: \"QUESTION \" counter(question_num) '\\A';\n",
       "    white-space: pre;\n",
       "}\n",
       "\n",
       ".qhelp {\n",
       "    color:#666666;\n",
       "    font-size:15px\n",
       "}\n",
       "\n",
       ".qhelp::after {\n",
       "    content: \"Answer this question in the corresponding Brightspace LAB quiz\"\n",
       "}\n",
       "\n",
       "\n",
       "\n",
       "/* code */\n",
       ".rendered_html pre, .rendered_html code {\n",
       "    font-family: \"SF Mono\",\"Segoe UI Mono\",\"Roboto Mono\",\"Ubuntu Mono\",Menlo,Courier,monospace;\n",
       "    padding: 1px 3px;\n",
       "    border: 1px solid #e6e6e6;\n",
       "    border-radius: 3px;\n",
       "    background: #e6e6e6;\n",
       "    font-size: 12px;\n",
       "    line-height: 1.4;\n",
       "    color: #0052CC;\n",
       "}\n",
       "\n",
       "\n",
       "/* Copy to CONSOLE */\n",
       ".c2c {\n",
       "    background-color:#d2d2d2;\n",
       "    color:#ff8080;\n",
       "    font-size:13px;\n",
       "    border:1px solid #bfbfbf;\n",
       "    padding:1px 3px;\n",
       "    border-radius: 3px;\n",
       "    margin-top: 10px;\n",
       "    display: inline-block;\n",
       "}\n",
       "\n",
       ".c2c::before {\n",
       "    content: \"Copy-paste into Spyder's Console\";\n",
       "}\n",
       "\n",
       "/* Type in CONSOLE */\n",
       ".t2c {\n",
       "    background-color:#d2d2d2;\n",
       "    color:#ff8080;\n",
       "    font-size:13px;\n",
       "    border:1px solid #bfbfbf;\n",
       "    padding:1px 3px;\n",
       "    border-radius: 3px;\n",
       "    margin-top: 10px;\n",
       "    display: inline-block;\n",
       "}\n",
       "\n",
       ".t2c::before {\n",
       "    content: \"Type into Spyder's Console\";\n",
       "}\n",
       "\n",
       "\n",
       "/* RUN */\n",
       ".run {\n",
       "    background-color:#d2d2d2;\n",
       "    color:#00b300;\n",
       "    font-size: 12px;\n",
       "    line-height: 1.4;\n",
       "    font-weight: bold;\n",
       "    border:1px solid #bfbfbf;\n",
       "    padding-top:0px;\n",
       "    padding-bottom:0px;\n",
       "    padding-left:3px;\n",
       "    padding-right:3px;\n",
       "    border-radius: 3px;\n",
       "    display: inline-block;\n",
       "}\n",
       ".run::before {\n",
       "    content: \"\\25B6\" \"RUN\";\n",
       "}\n",
       "\n",
       "/* RUN */\n",
       ".runcell {\n",
       "    background-color:#d2d2d2;\n",
       "    color:#00b300;\n",
       "    font-size: 12px;\n",
       "    line-height: 1.4;\n",
       "    border:1px solid #bfbfbf;\n",
       "    padding-top:0px;\n",
       "    padding-bottom:0px;\n",
       "    padding-left:3px;\n",
       "    padding-right:3px;\n",
       "    border-radius: 3px;\n",
       "    display: inline-block;\n",
       "}\n",
       ".runcell::before {\n",
       "    content: \"RUN current cell\";\n",
       "}\n",
       "\n",
       "/* FILE */\n",
       ".file {\n",
       "    color:#b36b00;\n",
       "    font-size: 12px;\n",
       "    line-height: 1.4;\n",
       "    font-weight: bold;\n",
       "    border:1px solid #bfbfbf;\n",
       "    padding-top:0px;\n",
       "    padding-bottom:0px;\n",
       "    padding-left:3px;\n",
       "    padding-right:3px;\n",
       "    border-radius: 3px;\n",
       "    display: inline-block;\n",
       "}\n",
       "\n",
       "/* important */\n",
       ".important {\n",
       "    background-color:#ff4d4d;\n",
       "    color:black;\n",
       "    font-size: 13px;\n",
       "    line-height: 1.4;\n",
       "    font-weight: bold;\n",
       "    border:1px solid #bfbfbf;\n",
       "    padding-top:0px;\n",
       "    padding-bottom:0px;\n",
       "    padding-left:3px;\n",
       "    padding-right:3px;\n",
       "    border-radius: 3px;\n",
       "    display: inline-block;\n",
       "    margin-top:5px;\n",
       "}\n",
       ".important::before {\n",
       "    content: \"Important:\";\n",
       "}\n",
       "\n",
       "/* important */\n",
       ".note {\n",
       "    background-color:#ffff80;\n",
       "    color:black;\n",
       "    font-size: 13px;\n",
       "    line-height: 1.4;\n",
       "    font-weight: bold;\n",
       "    border:1px solid #bfbfbf;\n",
       "    padding-top:0px;\n",
       "    padding-bottom:0px;\n",
       "    padding-left:3px;\n",
       "    padding-right:3px;\n",
       "    border-radius: 3px;\n",
       "    display: inline-block;\n",
       "    margin-top:5px;\n",
       "}\n",
       ".note::before {\n",
       "    content: \"Note:\";\n",
       "}\n",
       "\n",
       "\n",
       ".nomenclature {\n",
       "    font-family: \"SF Mono\",\"Segoe UI Mono\",\"Roboto Mono\",\"Ubuntu Mono\",Menlo,Courier,monospace;\n",
       "    background-color:#ffff80;\n",
       "    color:black;\n",
       "    font-size: 20px;\n",
       "    line-height: 1.4;\n",
       "    font-weight: bold;\n",
       "    border:1px solid #bfbfbf;\n",
       "    padding:15px;\n",
       "    display: inline-block;\n",
       "    margin-top:5px;\n",
       "}\n",
       "\n",
       "\n",
       "/* checkpoint */\n",
       ".checkpoint {\n",
       "    background-color:yellow;\n",
       "    color:blue;\n",
       "    font-size: 15px;\n",
       "    line-height: 1.4;\n",
       "    font-weight: bold;\n",
       "    border:1px solid #bfbfbf;\n",
       "    padding-top:0px;\n",
       "    padding-bottom:0px;\n",
       "    padding-left:3px;\n",
       "    padding-right:3px;\n",
       "    border-radius: 3px;\n",
       "    display: inline-block;\n",
       "    margin-top:5px;\n",
       "}\n",
       "\n",
       ".codeerror {\n",
       "    background-color:#ffb3b3;\n",
       "    color:red;\n",
       "    font-size: 13px;\n",
       "    line-height: 1.4;\n",
       "    border:1px solid #ffb3b3;\n",
       "    padding-top:7px;\n",
       "    padding-bottom:7px;\n",
       "    padding-left:7px;\n",
       "    padding-right:7px;\n",
       "    border-radius: 3px;\n",
       "    margin:20px;\n",
       "    margin-left:25px;\n",
       "}\n",
       "\n",
       ".lineerror {\n",
       "    background-color:#ffb3b3;\n",
       "    color:red;\n",
       "    font-size: 13px;\n",
       "    line-height: 1.4;\n",
       "    border:1px solid #ffb3b3;\n",
       "    padding-top:0px;\n",
       "    padding-bottom:0px;\n",
       "    padding-left:3px;\n",
       "    padding-right:3px;\n",
       "    border-radius: 3px;\n",
       "    display: inline-block;\n",
       "    margin-top:5px;\n",
       "}\n",
       "\n",
       "\n",
       "/* terminal */\n",
       ".terminal {\n",
       "    background-color:black;\n",
       "    color:white;\n",
       "    font-size: 12px;\n",
       "    line-height: 1.4;\n",
       "    border:1px solid black;\n",
       "    padding-top:0px;\n",
       "    padding-bottom:0px;\n",
       "    padding-left:3px;\n",
       "    padding-right:3px;\n",
       "    border-radius: 3px;\n",
       "    display: inline-block;\n",
       "}\n",
       ".terminal::before {\n",
       "    content: \"Terminal (i.e. Anaconda Promt)\";\n",
       "}\n",
       ".terminalBlock {\n",
       "    background-color:black;\n",
       "    color:white;\n",
       "    font-size: 14px;\n",
       "    line-height: 1.4;\n",
       "    border:1px solid black;\n",
       "    padding-top:7px;\n",
       "    padding-bottom:7px;\n",
       "    padding-left:7px;\n",
       "    padding-right:7px;\n",
       "    border-radius: 3px;\n",
       "    margin:20px;\n",
       "    margin-left:25px;\n",
       "}\n",
       "\n",
       "/* Headers */\n",
       "h2 {\n",
       "    background-color:#99d6ff;\n",
       "    border:1px solid #007acc;\n",
       "    padding:8px;\n",
       "}\n",
       "\n",
       "h3 {\n",
       "    background-color:#ccebff;\n",
       "    border:1px solid #b3e0ff;\n",
       "    padding:2px;\n",
       "}\n",
       "\n",
       "</style>"
      ],
      "text/plain": [
       "<IPython.core.display.HTML object>"
      ]
     },
     "execution_count": 1,
     "metadata": {},
     "output_type": "execute_result"
    }
   ],
   "source": [
    "# Loads css file and applies it to lab HTML\n",
    "from IPython.core.display import HTML\n",
    "def css():\n",
    "    style = open(\"../css/custom.css\", \"r\").read()\n",
    "    return HTML(style)\n",
    "css()"
   ]
  },
  {
   "cell_type": "code",
   "execution_count": null,
   "metadata": {},
   "outputs": [],
   "source": []
  }
 ],
 "metadata": {
  "anaconda-cloud": {},
  "kernelspec": {
   "display_name": "Python 3",
   "language": "python",
   "name": "python3"
  },
  "language_info": {
   "codemirror_mode": {
    "name": "ipython",
    "version": 3
   },
   "file_extension": ".py",
   "mimetype": "text/x-python",
   "name": "python",
   "nbconvert_exporter": "python",
   "pygments_lexer": "ipython3",
   "version": "3.8.3"
  }
 },
 "nbformat": 4,
 "nbformat_minor": 2
}
