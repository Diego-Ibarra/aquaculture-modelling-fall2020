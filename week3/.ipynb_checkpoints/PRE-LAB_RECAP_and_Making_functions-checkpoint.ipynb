{
 "cells": [
  {
   "cell_type": "markdown",
   "metadata": {},
   "source": [
    "# PRE-LAB 3: RECAP + Making your own functions\n",
    "\n",
    "MARI4600/BIO5600: Ecosystem Modelling for Aquaculture (Dalhousie University) \n",
    "\n",
    "--------------------------------------------------\n",
    "\n",
    "This PRE-LAB has no grade associated it (i.e. freebie). However, it is highly advised to do it, so that you better understand LAB3\n",
    "\n",
    "--------------------------------------------------"
   ]
  },
  {
   "cell_type": "markdown",
   "metadata": {},
   "source": [
    "## RECAP from LAB1 (variables, functions / methods, modules)\n",
    "\n",
    "### Variable\n",
    "\n",
    "A **Variable** is a user-defined label that can be used to name anything. For example, `a = 2` or `my_var = 3`\n"
   ]
  },
  {
   "cell_type": "markdown",
   "metadata": {},
   "source": [
    "### Functions (built-in and from imported Modules)\n",
    "**Functions** are one of the ways to \"do stuff\" in Python (the other way is with and **methods**, see below). There are two types of functions:\n",
    "* **Built-in functions** follow the nomenclature below: <br>\n",
    "<span class=\"nomenclature\">output = FunctionName(input)</span><br>\n",
    "For example, `print('hello world!')`<br><br>\n",
    "* **Functions** from an imported **Module** follow the nomenclature below: <br>\n",
    "    <span class=\"nomenclature\">output = ModuleName.FunctionName(input)</span><br>\n",
    "    For example:"
   ]
  },
  {
   "cell_type": "code",
   "execution_count": 6,
   "metadata": {},
   "outputs": [
    {
     "name": "stdout",
     "output_type": "stream",
     "text": [
      "-0.5063656411097588\n"
     ]
    }
   ],
   "source": [
    "import math\n",
    "\n",
    "a = math.sin(100)\n",
    "\n",
    "print(a)"
   ]
  },
  {
   "cell_type": "markdown",
   "metadata": {},
   "source": [
    "### Methods\n",
    "\n",
    "**Methods** are the other way to \"do stuff\" in Python. **Methods** follow the nomenclature below: <br>\n",
    "<span class=\"nomenclature\">output = input.MethodName(arguments)</span><br>\n",
    "\n",
    "Note that you first have to create a **variable**. Then you can apply the **method** to the created variable. Example:"
   ]
  },
  {
   "cell_type": "code",
   "execution_count": 7,
   "metadata": {},
   "outputs": [
    {
     "name": "stdout",
     "output_type": "stream",
     "text": [
      "[4, 7, 2, 9, 6, 3, 3, 8, 5, 10, 2]\n"
     ]
    }
   ],
   "source": [
    "mylist = [4,7,2,9,6,3,3,8,5,10]\n",
    "\n",
    "# Then, this appends the number \"2\" to the end of mylist\n",
    "mylist.append(2)\n",
    "\n",
    "print(mylist)"
   ]
  },
  {
   "cell_type": "markdown",
   "metadata": {},
   "source": [
    "## Model from last week's LAB\n",
    "\n",
    "The code below is one of the NPZ models we did in LAB 2 (i.e. Checkpoint 5). Lets take one more look at it...\n",
    "\n",
    "<div class=\"c2c\"></div>"
   ]
  },
  {
   "cell_type": "code",
   "execution_count": 3,
   "metadata": {},
   "outputs": [
    {
     "data": {
      "image/png": "[encoded data removed]",
      "text/plain": [
       "<Figure size 432x288 with 1 Axes>"
      ]
     },
     "metadata": {
      "needs_background": "light"
     },
     "output_type": "display_data"
    }
   ],
   "source": [
    "# Import libraries\n",
    "import numpy as np\n",
    "import matplotlib.pyplot as plt\n",
    "\n",
    "#%% Framework\n",
    "days = 10\n",
    "dt   = 0.01 # units: days\n",
    "\n",
    "# Parameters\n",
    "mu     = 0.5  # growth rate of pythoplankton (units: d^-1)\n",
    "K      = 1    # half-saturation for nutrient absoption by pythoplankton (units: mmolN m^-3)\n",
    "gamma  = 0.4  # growth rate of zooplankton (units: d^-1)\n",
    "Lambda = 0.1  # initial slope of ingestion saturation of zooplankton (units: mmol N^-1 m^3)\n",
    "mP     = 0.07 # mortality rate of pythoplankton (units: d^-1)\n",
    "mZ     = 0.03 # mortality rate of zooplankton (units: d^-1)\n",
    "\n",
    "# Initial conditions\n",
    "Pinitial = 4  # initial pythoplankton concentration (units: mmolN m^-3)\n",
    "Ninitial = 10 # initial nutrients concentration (units: mmolN m^-3)\n",
    "Zinitial = 2  # initial zooplankton concentration (units: mmolN m^-3)\n",
    "\n",
    "#%% Chores (calculate timestemps, create zero vectors, create time vector)\n",
    "NoSTEPS = int(days / dt) # Calculates the number of steps by dividing days by dt and rounding down\n",
    "time = np.linspace(0,days,NoSTEPS) # Makes and vector array of equally spaced numbers from zero to \"days\"\n",
    "N = np.zeros((NoSTEPS,),float) # makes a vector array of zeros (size: NoSTEPS rows by ONE column)\n",
    "P = np.zeros((NoSTEPS,),float) # same as above\n",
    "Z = np.zeros((NoSTEPS,),float) # same as above\n",
    "\n",
    "#%% Initializing with initial conditions\n",
    "P[0] = Pinitial\n",
    "N[0] = Ninitial\n",
    "Z[0] = Zinitial\n",
    "\n",
    "#%% *****************************************************************************\n",
    "# MAIN MODEL LOOP *************************************************************\n",
    "for t in range(0,NoSTEPS-1):\n",
    "    L_N = N[t]/(K+N[t]) # Calculate Limitation due to (low) nutrients on pythoplankton\n",
    "    L_P = 1-np.exp(-Lambda*P[t]) # Calculate Limitation due to (low) pythoplankton on zooplankton\n",
    "    \n",
    "    # Estimate model state at time t+1 \n",
    "    P[t+1] = P[t] + (((mu*L_N*P[t]) - (gamma*L_P*Z[t])- (mP*P[t])) * dt)\n",
    "    N[t+1] = N[t] + (((mP*P[t]) + (mZ*Z[t]) - (mu*L_N*P[t])) * dt)\n",
    "    Z[t+1] = Z[t] + (((gamma*L_P*Z[t]) - (mZ*Z[t])) * dt)\n",
    "# end of main model LOOP*******************************************************\n",
    "# *****************************************************************************\n",
    "    \n",
    "#%% Plotting\n",
    "fig, (ax) = plt.subplots(1,1)\n",
    "ax.plot(time,N,'b-')\n",
    "ax.plot(time,P,'g-')\n",
    "ax.plot(time,Z,'r-')\n",
    "ax.set_xlabel('Time (days)')\n",
    "ax.set_ylabel('Nitrogen (mmol N m$^{-3}$)')\n",
    "ax.set_title('NPZ Model Simulation')\n",
    "plt.legend(['N','P','Z'])\n",
    "plt.show()"
   ]
  },
  {
   "cell_type": "markdown",
   "metadata": {},
   "source": [
    "<div class=\"Q\"><br>\n",
    "\n",
    "From the code above... in the line:\n",
    "    \n",
    "    days = 10\n",
    "    \n",
    "What is <b>days</b>?\n",
    "\n",
    "<br><br><div class=\"qhelp\"></div></div>"
   ]
  },
  {
   "cell_type": "markdown",
   "metadata": {},
   "source": [
    "<div class=\"Q\"><br>\n",
    "\n",
    "From the code above... in the line:\n",
    "    \n",
    "    mu     = 0.5  # growth rate of pythoplankton (units: d^-1)\n",
    "    \n",
    "What is <b>mu</b>?\n",
    "\n",
    "<br><br><div class=\"qhelp\"></div></div>"
   ]
  },
  {
   "cell_type": "markdown",
   "metadata": {},
   "source": [
    "<div class=\"Q\"><br>\n",
    "\n",
    "From the code above... in the line:\n",
    "    \n",
    "    Zinitial = 2  # initial zooplankton concentration (units: mmolN m^-3)\n",
    "    \n",
    "What is <b>Zinitial</b>?\n",
    "\n",
    "<br><br><div class=\"qhelp\"></div></div>"
   ]
  },
  {
   "cell_type": "markdown",
   "metadata": {},
   "source": [
    "<div class=\"Q\"><br>\n",
    "\n",
    "From the code above... in the line:\n",
    "    \n",
    "    NoSTEPS = int(days / dt) # Calculates the number of steps by dividing days by dt and rounding down\n",
    "    \n",
    "What is <b>int</b>?\n",
    "\n",
    "<br><br><div class=\"qhelp\"></div></div>"
   ]
  },
  {
   "cell_type": "markdown",
   "metadata": {},
   "source": [
    "<div class=\"Q\"><br>\n",
    "\n",
    "From the code above... in the line:\n",
    "    \n",
    "    time = np.linspace(0,days,NoSTEPS) # Makes and vector array of equally spaced numbers from zero to \"days\"\n",
    "    \n",
    "What is <b>np</b>?\n",
    "\n",
    "<br><br><div class=\"qhelp\"></div></div>"
   ]
  },
  {
   "cell_type": "markdown",
   "metadata": {},
   "source": [
    "<div class=\"Q\"><br>\n",
    "\n",
    "From the code above... in the line:\n",
    "    \n",
    "    time = np.linspace(0,days,NoSTEPS) # Makes and vector array of equally spaced numbers from zero to \"days\"\n",
    "    \n",
    "What is <b>.linspace</b>?\n",
    "\n",
    "<br><br><div class=\"qhelp\"></div></div>"
   ]
  },
  {
   "cell_type": "markdown",
   "metadata": {},
   "source": [
    "<div class=\"Q\"><br>\n",
    "\n",
    "From the code above... in the line:\n",
    "    \n",
    "    N = np.zeros((NoSTEPS,),float) # makes a vector array of zeros (size: NoSTEPS rows by ONE column)\n",
    "    \n",
    "What is <b>.zeros</b>?\n",
    "\n",
    "<br><br><div class=\"qhelp\"></div></div>"
   ]
  },
  {
   "cell_type": "markdown",
   "metadata": {},
   "source": [
    "<div class=\"Q\"><br>\n",
    "\n",
    "From the code above... in the line:\n",
    "    \n",
    "    P = np.zeros((NoSTEPS,),float) # same as above\n",
    "    \n",
    "What is <b>P</b>?\n",
    "\n",
    "<br><br><div class=\"qhelp\"></div></div>"
   ]
  },
  {
   "cell_type": "markdown",
   "metadata": {},
   "source": [
    "<div class=\"Q\"><br>\n",
    "\n",
    "From the code above... \n",
    "    \n",
    "What <b>type</b> of variable is <b>P</b>?\n",
    "\n",
    "<br><br><div class=\"qhelp\"></div></div>"
   ]
  },
  {
   "cell_type": "markdown",
   "metadata": {},
   "source": [
    "<div class=\"Q\"><br>\n",
    "\n",
    "From the code above... \n",
    "    \n",
    "What is the <b>length</b> of <b>P</b>?\n",
    "\n",
    "<br><br><div class=\"qhelp\"></div></div>"
   ]
  },
  {
   "cell_type": "markdown",
   "metadata": {},
   "source": [
    "-----------------\n",
    "\n",
    "## Anatomy of a model\n",
    "\n",
    "Take another look at the code above (another example would be the file you did in LAB2, <span class='file'>NPZmodel.py</span>)\n",
    "\n",
    "As you can see there are \"sections\". Below is a diagram of an model example. In this case the model file is called <span class='file'>my_model.py</span>, and the different sections are color-coded. I'll explain each section below."
   ]
  },
  {
   "cell_type": "markdown",
   "metadata": {},
   "source": [
    "<img src=\"./media/Slide2.PNG\" width=\"900px\">"
   ]
  },
  {
   "cell_type": "markdown",
   "metadata": {},
   "source": [
    "### Section: Define Parameters\n",
    "\n",
    "Usually comments and module imports go at the top... but right after that, the first code of the model is where we create variables defining all the parameters that the model will use."
   ]
  },
  {
   "cell_type": "markdown",
   "metadata": {},
   "source": [
    "<img src=\"./media/Slide3.PNG\" width=\"900px\">"
   ]
  },
  {
   "cell_type": "markdown",
   "metadata": {},
   "source": [
    "### Section: \"Chores\"\n",
    "\n",
    "Here we do a bit of math to figure out how many time-steps do we need (i.e. compute NoSTEPS), and we use NoSTEPS to create a `time` array of the correct length and empty arrays for each state variable. We also initialize the first element of each state variable."
   ]
  },
  {
   "cell_type": "markdown",
   "metadata": {},
   "source": [
    "<img src=\"./media/Slide4.PNG\" width=\"900px\">"
   ]
  },
  {
   "cell_type": "markdown",
   "metadata": {},
   "source": [
    "### Section: MAIN MODEL LOOP\n",
    "\n",
    "Here we have a `FOR` loop where we estimate the future value of all state variables. This is the \"meat\" of the model... where all the magic happens. Note that all the sections above are there just to create and set up everything that the `MAIN MODEL LOOP` needs."
   ]
  },
  {
   "cell_type": "markdown",
   "metadata": {},
   "source": [
    "<img src=\"./media/Slide5.PNG\" width=\"900px\">"
   ]
  },
  {
   "cell_type": "markdown",
   "metadata": {},
   "source": [
    "### Section: Print graphs\n",
    "\n",
    "Here we use model output to create graphs."
   ]
  },
  {
   "cell_type": "markdown",
   "metadata": {},
   "source": [
    "<img src=\"./media/Slide6.PNG\" width=\"900px\">"
   ]
  },
  {
   "cell_type": "markdown",
   "metadata": {},
   "source": [
    "### Back to the MAIN MODEL LOOP\n",
    "\n",
    "Lets go back to the `MAIN MODEL LOOP`, which is where all the calculations are done (i.e. the \"magic\"). Note that in the first part we **estimate Limitations**."
   ]
  },
  {
   "cell_type": "markdown",
   "metadata": {},
   "source": [
    "<img src=\"./media/Slide8.PNG\" width=\"900px\">"
   ]
  },
  {
   "cell_type": "markdown",
   "metadata": {},
   "source": [
    "For charity we can split the second section..."
   ]
  },
  {
   "cell_type": "markdown",
   "metadata": {},
   "source": [
    "<img src=\"./media/Slide9.PNG\" width=\"900px\">"
   ]
  },
  {
   "cell_type": "markdown",
   "metadata": {},
   "source": [
    "...into two sections (1) to estimate the \"time rate of change\" for all variables, and (2) to update and step all the variables (i.e. time-stepping)"
   ]
  },
  {
   "cell_type": "markdown",
   "metadata": {},
   "source": [
    "<img src=\"./media/Slide10.PNG\" width=\"900px\">"
   ]
  },
  {
   "cell_type": "markdown",
   "metadata": {},
   "source": [
    "Note that the section to \"estimate the time-rate of change for all variables\" can be further divided into 2 sections..."
   ]
  },
  {
   "cell_type": "markdown",
   "metadata": {},
   "source": [
    "<img src=\"./media/Slide11.PNG\" width=\"900px\">"
   ]
  },
  {
   "cell_type": "markdown",
   "metadata": {},
   "source": [
    "...these sections are (1) process estimation and (2) actual estimation of time-rate of change for all variables. This way you can easily see what part of the code estimates each biological process (e.g. `P_uptake_of_N`)"
   ]
  },
  {
   "cell_type": "markdown",
   "metadata": {},
   "source": [
    "<img src=\"./media/Slide12.PNG\" width=\"900px\">"
   ]
  },
  {
   "cell_type": "markdown",
   "metadata": {},
   "source": [
    "### (almost) final product\n",
    "\n",
    "That is it! Below is the anatomy of a \"generic\" model. The next step is to divide the sections into functions. But before we do that, I have to go on a tangent to explain \"user-made\" functions."
   ]
  },
  {
   "cell_type": "markdown",
   "metadata": {},
   "source": [
    "<img src=\"./media/Slide13.PNG\" width=\"900px\">"
   ]
  },
  {
   "cell_type": "markdown",
   "metadata": {},
   "source": [
    "## Tangent: User-made Functions and modules\n",
    "\n",
    "So far we talked about: \n",
    "\n",
    "(1) built-in Python functions, e.g."
   ]
  },
  {
   "cell_type": "code",
   "execution_count": 16,
   "metadata": {},
   "outputs": [
    {
     "data": {
      "text/plain": [
       "3"
      ]
     },
     "execution_count": 16,
     "metadata": {},
     "output_type": "execute_result"
    }
   ],
   "source": [
    "int(3.79086)"
   ]
  },
  {
   "cell_type": "markdown",
   "metadata": {},
   "source": [
    "(2) Functions imported from a module"
   ]
  },
  {
   "cell_type": "code",
   "execution_count": 17,
   "metadata": {},
   "outputs": [
    {
     "data": {
      "text/plain": [
       "-0.7568024953079282"
      ]
     },
     "execution_count": 17,
     "metadata": {},
     "output_type": "execute_result"
    }
   ],
   "source": [
    "import math\n",
    "\n",
    "math.sin(4)"
   ]
  },
  {
   "cell_type": "markdown",
   "metadata": {},
   "source": [
    "However, you can make your own **functions!** Actually, you can make your own **module** with a bunch of included functions.\n",
    "\n",
    "Lets try it!"
   ]
  },
  {
   "cell_type": "markdown",
   "metadata": {},
   "source": [
    "In **Spyder**, make 2 new empty files and save them with the names <span class='file'>my_module.py</span> and <span class='file'>experiment_test.py</span>\n",
    "\n",
    "<div class=\"important\"></div> Make sure your \"module\" file and the \"experiment\" file are in THE SAME directory\n",
    "\n",
    "Copy-paste the following in <span class='file'>my_module.py</span>, then save the file:"
   ]
  },
  {
   "cell_type": "code",
   "execution_count": 18,
   "metadata": {},
   "outputs": [],
   "source": [
    "def my_function():\n",
    "\n",
    "    print(\"This is just a test!\")\n",
    "    \n",
    "    return"
   ]
  },
  {
   "cell_type": "markdown",
   "metadata": {},
   "source": [
    "Then, copy-paste the following into <span class='file'>experiment_test.py</span> and click <span class='run'></span>"
   ]
  },
  {
   "cell_type": "code",
   "execution_count": 19,
   "metadata": {},
   "outputs": [
    {
     "name": "stdout",
     "output_type": "stream",
     "text": [
      "This is just a test!\n"
     ]
    }
   ],
   "source": [
    "import my_module as mm\n",
    "\n",
    "mm.my_function()"
   ]
  },
  {
   "cell_type": "markdown",
   "metadata": {},
   "source": [
    "As you can see, when you ran <span class='file'>experiment_test.py</span>, it loaded the `my_module` module (and nicknamed it `mm`), then it executed the function `my_function`... which in turn printed \"This is just a test!\" to the console's screen. Congratulations, you just wrote your first Python module!\n",
    "\n",
    "\n",
    "Lets add another function. Copy-paste the following (overwriting its contents) to <span class='file'>my_module.py</span>... and click **Save**. Now we have 2 functions."
   ]
  },
  {
   "cell_type": "code",
   "execution_count": 20,
   "metadata": {},
   "outputs": [],
   "source": [
    "def my_function():\n",
    "\n",
    "    print(\"This is just a test!\")\n",
    "    \n",
    "    return\n",
    "\n",
    "\n",
    "def my_name(name):\n",
    "\n",
    "    print(\"My name is \" + name)\n",
    "    \n",
    "    return"
   ]
  },
  {
   "cell_type": "markdown",
   "metadata": {},
   "source": [
    "Copy-paste the following (overwriting its contents) to <span class='file'>experiment_test.py</span>, the click <span class='run'></span>"
   ]
  },
  {
   "cell_type": "code",
   "execution_count": 21,
   "metadata": {},
   "outputs": [
    {
     "name": "stdout",
     "output_type": "stream",
     "text": [
      "This is just a test!\n",
      "My name is John Smith\n"
     ]
    }
   ],
   "source": [
    "import my_module as mm\n",
    "\n",
    "mm.my_function()\n",
    "\n",
    "mm.my_name('John Smith')"
   ]
  },
  {
   "cell_type": "markdown",
   "metadata": {},
   "source": [
    "In addition to what you did before, you also called the function `mm.my_name` with the input `'John Smith'` and as a result you got the following output printed to the console: `My name is John Smith`\n",
    "\n",
    "One more. Change the input name to `'Frida'` and click <span class='run'></span>"
   ]
  },
  {
   "cell_type": "code",
   "execution_count": 22,
   "metadata": {},
   "outputs": [
    {
     "name": "stdout",
     "output_type": "stream",
     "text": [
      "This is just a test!\n",
      "My name is Friday\n"
     ]
    }
   ],
   "source": [
    "import my_module as mm\n",
    "\n",
    "mm.my_function()\n",
    "\n",
    "mm.my_name('Friday')"
   ]
  },
  {
   "cell_type": "markdown",
   "metadata": {},
   "source": [
    "### Developing modules ( if __name__ == '__main__' )\n",
    "\n",
    "When developing modules it is annoying to have write code in one file, and then have run a different file to run and test your module code. However, there is the `if __name__ == '__main__'` trick, which allows you to have some code that will only be executed if you **RUN** the \"module\" file, and it will **NOT** be executed if the module files is called (i.e. imported) by another file. \n",
    "\n",
    "Copy-paste the following (overwriting its contents) to <span class='file'>my_module.py</span>... and click Save."
   ]
  },
  {
   "cell_type": "code",
   "execution_count": 13,
   "metadata": {},
   "outputs": [
    {
     "name": "stdout",
     "output_type": "stream",
     "text": [
      "********************************\n",
      "You are running my_module.py\n",
      "-------------------------------\n",
      "This is just a test!\n",
      "My name is Batman\n",
      "********************************\n"
     ]
    }
   ],
   "source": [
    "def my_function():\n",
    "\n",
    "    print(\"This is just a test!\")\n",
    "    \n",
    "    return\n",
    "\n",
    "\n",
    "def my_name(name):\n",
    "\n",
    "    print(\"My name is \" + name)\n",
    "    \n",
    "    return\n",
    "    \n",
    "if __name__ == \"__main__\":\n",
    "    # Testing code\n",
    "    # This will only be executed if you \"RUN\" this file \n",
    "    print('********************************')\n",
    "    print('You are running my_module.py')\n",
    "    print('-------------------------------')\n",
    "    my_function()\n",
    "    my_name('Batman')\n",
    "    print('********************************')"
   ]
  },
  {
   "cell_type": "markdown",
   "metadata": {},
   "source": [
    "<span class='important'></span> If you don't place your code inside the `if __name__ == \"__main__\":` statement, it will be executed when another file \"imports\" the `my_module` module. "
   ]
  },
  {
   "cell_type": "markdown",
   "metadata": {},
   "source": [
    "## END of TANGENT:  Back to \"Anatomy of a model\"\n",
    "\n",
    "## How to pack out model code into functions\n",
    "\n",
    "Now that you know how to make user-made functions and modules, we can explain the process of turning your <span class='file'>my_module.py</span> model file into a Python **module** with a bunch of functions."
   ]
  },
  {
   "cell_type": "markdown",
   "metadata": {},
   "source": [
    "<img src=\"./media/Slide14.PNG\" width=\"900px\">"
   ]
  },
  {
   "cell_type": "markdown",
   "metadata": {},
   "source": [
    "### Why?\n",
    "\n",
    "After you finish coding your model and you make sure it works, **you really want to leave it alone, and never touch that file again**. You don't want to change your <span class='file'>my_module.py</span> file every time you want to run a model experiment, because you risk breaking your model. You want to do have a separate file (e.g. <span class='file'>PLAYING_with_my_model.py</span> where you **import** your model as a module and then use it to run experiments. In this second example your <span class='file'>my_module.py</span> model file remains safe and untouched!"
   ]
  },
  {
   "cell_type": "markdown",
   "metadata": {},
   "source": [
    "<img src=\"./media/Slide15.PNG\" width=\"900px\">"
   ]
  },
  {
   "cell_type": "markdown",
   "metadata": {},
   "source": [
    "In LAB3 we will create a model file that follows the anatomy explained above.\n",
    "\n",
    "### Please go to LAB3"
   ]
  },
  {
   "cell_type": "markdown",
   "metadata": {},
   "source": [
    "\n",
    "# **This is the end of the DEMO**\n",
    "\n",
    "*******************\n",
    "*******************\n",
    "\n",
    "Code below is for formatting of this lab. Do not alter!"
   ]
  },
  {
   "cell_type": "code",
   "execution_count": 14,
   "metadata": {},
   "outputs": [
    {
     "data": {
      "text/html": [
       "<style>\n",
       "\n",
       "body {\n",
       "  counter-reset: question_num;                     /* Set a counter named 'section', and it`s initial value is 0. */\n",
       "}\n",
       "\n",
       "/* Question Box */\n",
       ".Q {\n",
       "    background-color:#ff9900;\n",
       "    color:black;\n",
       "    font-size:17px;\n",
       "    width:100%;\n",
       "    border:1px solid #666666;\n",
       "    padding:5px;\n",
       "}\n",
       "\n",
       ".Q::before {\n",
       "    counter-increment: question_num;\n",
       "    content: \"QUESTION \" counter(question_num) '\\A';\n",
       "    white-space: pre;\n",
       "}\n",
       "\n",
       ".qhelp {\n",
       "    color:#666666;\n",
       "    font-size:15px\n",
       "}\n",
       "\n",
       ".qhelp::after {\n",
       "    content: \"Answer this question in the corresponding Brightspace LAB quiz\"\n",
       "}\n",
       "\n",
       "\n",
       "\n",
       "/* code */\n",
       ".rendered_html pre, .rendered_html code {\n",
       "    font-family: \"SF Mono\",\"Segoe UI Mono\",\"Roboto Mono\",\"Ubuntu Mono\",Menlo,Courier,monospace;\n",
       "    padding: 1px 3px;\n",
       "    border: 1px solid #e6e6e6;\n",
       "    border-radius: 3px;\n",
       "    background: #e6e6e6;\n",
       "    font-size: 12px;\n",
       "    line-height: 1.4;\n",
       "    color: #0052CC;\n",
       "}\n",
       "\n",
       "\n",
       "/* Copy to CONSOLE */\n",
       ".c2c {\n",
       "    background-color:#d2d2d2;\n",
       "    color:#ff8080;\n",
       "    font-size:13px;\n",
       "    border:1px solid #bfbfbf;\n",
       "    padding:1px 3px;\n",
       "    border-radius: 3px;\n",
       "    margin-top: 10px;\n",
       "    display: inline-block;\n",
       "}\n",
       "\n",
       ".c2c::before {\n",
       "    content: \"Copy-paste into Spyder's Console\";\n",
       "}\n",
       "\n",
       "/* Type in CONSOLE */\n",
       ".t2c {\n",
       "    background-color:#d2d2d2;\n",
       "    color:#ff8080;\n",
       "    font-size:13px;\n",
       "    border:1px solid #bfbfbf;\n",
       "    padding:1px 3px;\n",
       "    border-radius: 3px;\n",
       "    margin-top: 10px;\n",
       "    display: inline-block;\n",
       "}\n",
       "\n",
       ".t2c::before {\n",
       "    content: \"Type into Spyder's Console\";\n",
       "}\n",
       "\n",
       "\n",
       "/* RUN */\n",
       ".run {\n",
       "    background-color:#d2d2d2;\n",
       "    color:#00b300;\n",
       "    font-size: 12px;\n",
       "    line-height: 1.4;\n",
       "    font-weight: bold;\n",
       "    border:1px solid #bfbfbf;\n",
       "    padding-top:0px;\n",
       "    padding-bottom:0px;\n",
       "    padding-left:3px;\n",
       "    padding-right:3px;\n",
       "    border-radius: 3px;\n",
       "    display: inline-block;\n",
       "}\n",
       ".run::before {\n",
       "    content: \"\\25B6\" \"RUN\";\n",
       "}\n",
       "\n",
       "/* RUN */\n",
       ".runcell {\n",
       "    background-color:#d2d2d2;\n",
       "    color:#00b300;\n",
       "    font-size: 12px;\n",
       "    line-height: 1.4;\n",
       "    border:1px solid #bfbfbf;\n",
       "    padding-top:0px;\n",
       "    padding-bottom:0px;\n",
       "    padding-left:3px;\n",
       "    padding-right:3px;\n",
       "    border-radius: 3px;\n",
       "    display: inline-block;\n",
       "}\n",
       ".runcell::before {\n",
       "    content: \"RUN current cell\";\n",
       "}\n",
       "\n",
       "/* FILE */\n",
       ".file {\n",
       "    color:#b36b00;\n",
       "    font-size: 12px;\n",
       "    line-height: 1.4;\n",
       "    font-weight: bold;\n",
       "    border:1px solid #bfbfbf;\n",
       "    padding-top:0px;\n",
       "    padding-bottom:0px;\n",
       "    padding-left:3px;\n",
       "    padding-right:3px;\n",
       "    border-radius: 3px;\n",
       "    display: inline-block;\n",
       "}\n",
       "\n",
       "/* important */\n",
       ".important {\n",
       "    background-color:#ff4d4d;\n",
       "    color:black;\n",
       "    font-size: 13px;\n",
       "    line-height: 1.4;\n",
       "    font-weight: bold;\n",
       "    border:1px solid #bfbfbf;\n",
       "    padding-top:0px;\n",
       "    padding-bottom:0px;\n",
       "    padding-left:3px;\n",
       "    padding-right:3px;\n",
       "    border-radius: 3px;\n",
       "    display: inline-block;\n",
       "    margin-top:5px;\n",
       "}\n",
       ".important::before {\n",
       "    content: \"Important:\";\n",
       "}\n",
       "\n",
       "/* important */\n",
       ".note {\n",
       "    background-color:#ffff80;\n",
       "    color:black;\n",
       "    font-size: 13px;\n",
       "    line-height: 1.4;\n",
       "    font-weight: bold;\n",
       "    border:1px solid #bfbfbf;\n",
       "    padding-top:0px;\n",
       "    padding-bottom:0px;\n",
       "    padding-left:3px;\n",
       "    padding-right:3px;\n",
       "    border-radius: 3px;\n",
       "    display: inline-block;\n",
       "    margin-top:5px;\n",
       "}\n",
       ".note::before {\n",
       "    content: \"Note:\";\n",
       "}\n",
       "\n",
       "\n",
       ".nomenclature {\n",
       "    font-family: \"SF Mono\",\"Segoe UI Mono\",\"Roboto Mono\",\"Ubuntu Mono\",Menlo,Courier,monospace;\n",
       "    background-color:#ffff80;\n",
       "    color:black;\n",
       "    font-size: 20px;\n",
       "    line-height: 1.4;\n",
       "    font-weight: bold;\n",
       "    border:1px solid #bfbfbf;\n",
       "    padding:15px;\n",
       "    display: inline-block;\n",
       "    margin-top:5px;\n",
       "}\n",
       "\n",
       "\n",
       "/* checkpoint */\n",
       ".checkpoint {\n",
       "    background-color:yellow;\n",
       "    color:blue;\n",
       "    font-size: 15px;\n",
       "    line-height: 1.4;\n",
       "    font-weight: bold;\n",
       "    border:1px solid #bfbfbf;\n",
       "    padding-top:0px;\n",
       "    padding-bottom:0px;\n",
       "    padding-left:3px;\n",
       "    padding-right:3px;\n",
       "    border-radius: 3px;\n",
       "    display: inline-block;\n",
       "    margin-top:5px;\n",
       "}\n",
       "\n",
       ".codeerror {\n",
       "    background-color:#ffb3b3;\n",
       "    color:red;\n",
       "    font-size: 13px;\n",
       "    line-height: 1.4;\n",
       "    border:1px solid #ffb3b3;\n",
       "    padding-top:7px;\n",
       "    padding-bottom:7px;\n",
       "    padding-left:7px;\n",
       "    padding-right:7px;\n",
       "    border-radius: 3px;\n",
       "    margin:20px;\n",
       "    margin-left:25px;\n",
       "}\n",
       "\n",
       ".lineerror {\n",
       "    background-color:#ffb3b3;\n",
       "    color:red;\n",
       "    font-size: 13px;\n",
       "    line-height: 1.4;\n",
       "    border:1px solid #ffb3b3;\n",
       "    padding-top:0px;\n",
       "    padding-bottom:0px;\n",
       "    padding-left:3px;\n",
       "    padding-right:3px;\n",
       "    border-radius: 3px;\n",
       "    display: inline-block;\n",
       "    margin-top:5px;\n",
       "}\n",
       "\n",
       "\n",
       "/* terminal */\n",
       ".terminal {\n",
       "    background-color:black;\n",
       "    color:white;\n",
       "    font-size: 12px;\n",
       "    line-height: 1.4;\n",
       "    border:1px solid black;\n",
       "    padding-top:0px;\n",
       "    padding-bottom:0px;\n",
       "    padding-left:3px;\n",
       "    padding-right:3px;\n",
       "    border-radius: 3px;\n",
       "    display: inline-block;\n",
       "}\n",
       ".terminal::before {\n",
       "    content: \"Terminal (i.e. Anaconda Promt)\";\n",
       "}\n",
       ".terminalBlock {\n",
       "    background-color:black;\n",
       "    color:white;\n",
       "    font-size: 14px;\n",
       "    line-height: 1.4;\n",
       "    border:1px solid black;\n",
       "    padding-top:7px;\n",
       "    padding-bottom:7px;\n",
       "    padding-left:7px;\n",
       "    padding-right:7px;\n",
       "    border-radius: 3px;\n",
       "    margin:20px;\n",
       "    margin-left:25px;\n",
       "}\n",
       "\n",
       "/* Headers */\n",
       "h2 {\n",
       "    background-color:#99d6ff;\n",
       "    border:1px solid #007acc;\n",
       "    padding:8px;\n",
       "}\n",
       "\n",
       "h3 {\n",
       "    background-color:#ccebff;\n",
       "    border:1px solid #b3e0ff;\n",
       "    padding:2px;\n",
       "}\n",
       "\n",
       "</style>"
      ],
      "text/plain": [
       "<IPython.core.display.HTML object>"
      ]
     },
     "execution_count": 14,
     "metadata": {},
     "output_type": "execute_result"
    }
   ],
   "source": [
    "# Loads css file and applies it to lab HTML\n",
    "from IPython.core.display import HTML\n",
    "def css():\n",
    "    style = open(\"../css/custom.css\", \"r\").read()\n",
    "    return HTML(style)\n",
    "css()"
   ]
  },
  {
   "cell_type": "code",
   "execution_count": null,
   "metadata": {},
   "outputs": [],
   "source": []
  }
 ],
 "metadata": {
  "kernelspec": {
   "display_name": "Python 3",
   "language": "python",
   "name": "python3"
  },
  "language_info": {
   "codemirror_mode": {
    "name": "ipython",
    "version": 3
   },
   "file_extension": ".py",
   "mimetype": "text/x-python",
   "name": "python",
   "nbconvert_exporter": "python",
   "pygments_lexer": "ipython3",
   "version": "3.8.3"
  }
 },
 "nbformat": 4,
 "nbformat_minor": 2
}
