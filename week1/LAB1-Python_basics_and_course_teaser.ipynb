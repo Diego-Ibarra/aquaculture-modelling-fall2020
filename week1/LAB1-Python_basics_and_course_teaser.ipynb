{
 "cells": [
  {
   "cell_type": "code",
   "execution_count": 146,
   "metadata": {},
   "outputs": [],
   "source": [
    "%matplotlib inline"
   ]
  },
  {
   "cell_type": "markdown",
   "metadata": {},
   "source": [
    "# LAB 1 - Python basics and course teaser\n",
    "MARI4600/BIO5600: Ecosystem Modelling for Aquaculture (Dalhousie University) \n",
    "\n",
    "--------------------------------"
   ]
  },
  {
   "cell_type": "markdown",
   "metadata": {
    "collapsed": true
   },
   "source": [
    "## Lab mechanics (how to work through the labs of this course)\n",
    "\n",
    "For the labs in this course you will need 3 programs (sometimes 4):\n",
    "\n",
    "1. ***Lab manual***: It is a web-page with instructions on what to do in the lab. If you are reading \"this\" you already found lab manual. The ***Lab manual*** is viewed inside your browser (e.g. Firefox, Chrome, Safari, etc).\n",
    "2. Brightspace ***LAB Quiz***: In the ***Lab manual*** there are several questions that you will need to answer in the corresponding quiz in Brightspace. Same as ***Lab manual***, the Brightspace ***LAB Quiz*** is viewed inside your browser (e.g. Firefox, Chrome, Safari, etc). You can get to the Quizzes section in Brightspace following **Assessment > Quizzes** \n",
    "3. ***Spyder***: This is the main program where you will use to write and run Python code. We'll talk more about Spyder below.\n",
    "4. ***Terminal***: Every once in a while you will need to install additional Python modules. This is done in the ***Terminal***. More on this below.\n",
    "\n",
    "### Work flow in a typical Lab\n",
    "In most labs, you will be required to read along the ***Lab manual*** and copy-paste code from the ***lab manual*** into ***Spyder*** to run it. This will create output in the form of numbers, graphs, maps, etc. Every once in a while you will need to answer <span style=\"background-color:#ff9900;color:balck;font-size:15px;border:1px solid #666666;padding:1px\">questions</span>, which are written inside orange boxes like the one below. The questions need to be answered in the corresponding Brightspace ***LAB quiz***. So you will be jumping back and forth between the ***Lab manual***, ***Spyder*** and the ***LAB quiz*** throughout the lab.\n",
    "\n",
    "Lets do a test question...\n",
    "\n",
    "\n"
   ]
  },
  {
   "cell_type": "markdown",
   "metadata": {},
   "source": [
    "<div class=\"Q\"><br>\n",
    "\n",
    "Sample question: Can you see THIS question in your Brightspace **LAB quiz?**\n",
    "\n",
    "<br><br><div class=\"qhelp\"></div></div>\n"
   ]
  },
  {
   "cell_type": "markdown",
   "metadata": {},
   "source": [
    "## Where is my code?\n",
    "\n",
    "Data, code and the results produced by the code can be stored in many places, including **\"the cloud\"** (e.g. BrightSpace, your OneDrive, GitHub, a website, etc) and physical computers including the computer that you are working on at this moment. Additionally, within your computer, data and code can be stored in the **hard-drive**, in **memory** and on the **screen**.\n",
    "\n",
    "<img src=\"./cloud_computer.png\" width=\"500px\">\n",
    "\n",
    "Note that:\n",
    "* **Computers** can ONLY see and work with code and data stored in **memory**\n",
    "* **Humans** can ONLY see code and data shown on the **screen**\n",
    "* When turning your computer off, code/data in both the **memory** and the **screen** are <span style='color:red'>lost forever!</span> Therefore, make sure that you save your work on your **hard-drive** or **the cloud**, before turning your computer off. \n",
    "\n",
    "We will see below how to move code (and data) between all these storage areas (i.e. memory, hard-drive, screen, cloud). <span class=\"important\"></span> keeping track of where is your code/data stored, is one of the most common sources of errors during coding.\n"
   ]
  },
  {
   "cell_type": "markdown",
   "metadata": {},
   "source": [
    "## Anaconda\n",
    "`Anaconda` is a free \"bundle\" of Python and many modules, libraries and other programs commonly used in scientific research. `Anaconda` was preinstalled in all Lab computers; however, if you want to follow along in your own laptop, you can install Anaconda (make sure you download the version with **Python 3.8**) from here: https://www.anaconda.com/products/individual#Downloads\n",
    "\n",
    "Note that when you installed `Anaconda`, a lot of code was copied from **\"The Cloud\"** into your **hard-drive**, in a location that we will call \"the Python Directory\". The actual location of \"the Python Directory\" is not important to us in this course. However if you are curious and try to find it, just make sure that you **DO NOT** move, delete or add anything within \"the Python Directory\"! You can break Python's proper functioning. "
   ]
  },
  {
   "cell_type": "markdown",
   "metadata": {},
   "source": [
    "## Spyder\n",
    "Spyder is a free \"Integrated Development Environment\" that comes included in `Anaconda` and that is especially designed to work with Python. \n",
    "\n",
    "* To open ***Spyder***, search in the taskbar for \"Spyder\", the program looks as follows:\n",
    "\n",
    "<img src=\"./spyder.png\" width=\"1000px\">\n",
    "\n",
    "Note that when you open **Spyder**, behind the scenes a bunch of code was loaded into **memory** from \"the Python Directory\" (i.e. **hard-drive**). \n",
    "\n",
    "The Spyder screen is divided in multiple panels. The two most important are the ***Console*** and the ***Editor***. \n",
    "\n",
    "<img src=\"./editor_console.png\" width=\"1000px\">"
   ]
  },
  {
   "cell_type": "markdown",
   "metadata": {},
   "source": [
    "\n",
    "### Spyder's \"Console\"\n",
    "The ***Console*** (also known as the interpreter) is a live instance of Python. It is the most direct way to connect your computer's **memory** (i.e. where python is loaded) to your **screen**. This is the place where Python will display error messages, warnings, and some code output. The ***Console*** is also where you can quickly interact with Python by writing code and then clicking [Enter] (note that when you click [Enter], anything you wrote on the ***Console*** will be loaded to memory and executed immediately). Let's try it:\n",
    "\n",
    "Type the following code in the ***Console***, then press [Enter]\n"
   ]
  },
  {
   "cell_type": "code",
   "execution_count": 147,
   "metadata": {},
   "outputs": [
    {
     "name": "stdout",
     "output_type": "stream",
     "text": [
      "hello world!\n"
     ]
    }
   ],
   "source": [
    "print('hello world!')"
   ]
  },
  {
   "cell_type": "markdown",
   "metadata": {},
   "source": [
    "<div class=\"Q\"><br>\n",
    "\n",
    "After you typed print('hello world!')...\n",
    "What got displayed on the screen?\n",
    "\n",
    "<br><br><div class=\"qhelp\"></div></div>\n"
   ]
  },
  {
   "cell_type": "markdown",
   "metadata": {},
   "source": [
    "### Spyder's \"Working Directory\"\n",
    "\n",
    "In the top right corner (usually) Spyder will show you its ***working directory***.\n",
    "\n",
    "<img src=\"./working_directory.png\" width=\"800px\">\n",
    "\n",
    "The ***working directory*** is the location in your computer where Python is reading and writing files. \n",
    "\n",
    "<span class=\"important\"></span> When you are working on a lab that requires ancillary data files or ancillary python code files, you need to make sure these files are in the ***working directory***. You can download them directly to the ***working directory***, or you can change the ***working directory*** to be folder where you downloaded your files.\n",
    "\n",
    "To change the ***working directory***, simply chick on the \"folder\" icon and select the new location. When you execute Python code with instructions to write data or figure to a file, this file will be save in the ***working directory***.\n",
    "\n",
    "You can also see the location of the ***working directory*** by typing in the ***Console*** the following (then press [Enter]):"
   ]
  },
  {
   "cell_type": "code",
   "execution_count": 148,
   "metadata": {},
   "outputs": [
    {
     "data": {
      "text/plain": [
       "'C:\\\\Users\\\\Diego\\\\Documents\\\\2.Marine Ecology\\\\aquaculture-modelling\\\\Week1'"
      ]
     },
     "execution_count": 148,
     "metadata": {},
     "output_type": "execute_result"
    }
   ],
   "source": [
    "%pwd"
   ]
  },
  {
   "cell_type": "markdown",
   "metadata": {},
   "source": [
    "<div class=\"Q\"><br>\n",
    "\n",
    "You are starting to work on a lab that requires 2 ancillary data files and 3 ancillary python code files. You download all of these files from BrightSpace into you Laptop. Which of the following describes best what happened to the data/code?\n",
    "\n",
    "<br><br><div class=\"qhelp\"></div></div>\n"
   ]
  },
  {
   "cell_type": "markdown",
   "metadata": {},
   "source": [
    "<div class=\"Q\"><br>\n",
    "\n",
    "You are starting to work on a lab that requires 2 ancillary data files and 3 ancillary python code files. **Where** in your laptop do you have to put these files?\n",
    "\n",
    "<br><br><div class=\"qhelp\"></div></div>\n"
   ]
  },
  {
   "cell_type": "markdown",
   "metadata": {},
   "source": [
    "### Spyder's \"Editor\"\n",
    "The ***Editor*** is the space where you write your code so that you can execute it later. The ***Editor*** is shown below inside the green box.\n",
    "\n",
    "<img src=\"./editor_console.png\" width=\"800px\">\n",
    "\n",
    "The ***Editor*** is just a text editor like Notepad (in Windows) or TextEdit (in Mac). However, note that Spyder's ***Editor*** color-codes your text so that it can be read with ease. It will also perform some basic quality control and will tell you if you made a mistake (more on this later).\n",
    "\n",
    "You can run the code you wrote in the editor by clicking on the \"run\" button (i.e. green triangular button shown below).\n",
    "\n",
    "<img src=\"./run_button.png\" width=\"500px\">\n",
    "\n",
    "Note that the first time you run your code the ***Editor*** will prompt you to save your file. You can name your file anything you want, but the extension will be automatically set as `.py`, which is the default extension for Python files. Also note that, by default, you will be prompt to save your file in the current ***working directory***.\n",
    "\n",
    "After you write some code in the ***Editor***, note that clicking the \"save\" button technically transfers code from the **Screen** into a file in your **hard-drive**. Also, if you click the \"run\" button, it automatically saves your code and then loads it into **memory** for execution.\n",
    "\n",
    "Lets do a test. Type the following in the ***Editor*** and click <span class=\"run\"></span>"
   ]
  },
  {
   "cell_type": "code",
   "execution_count": 149,
   "metadata": {},
   "outputs": [
    {
     "name": "stdout",
     "output_type": "stream",
     "text": [
      "hello world!\n"
     ]
    }
   ],
   "source": [
    "print('hello world!')"
   ]
  },
  {
   "cell_type": "markdown",
   "metadata": {},
   "source": [
    "As you see, when you run the code in the ***Editor***, the output is displayed in the ***Console***"
   ]
  },
  {
   "cell_type": "markdown",
   "metadata": {},
   "source": [
    "<div class=\"Q\"><br>\n",
    "\n",
    "After you write some code in the **Editor**, what happens when you click the **\"save\"** button?\n",
    "\n",
    "<br><br><div class=\"qhelp\"></div></div>\n"
   ]
  },
  {
   "cell_type": "markdown",
   "metadata": {},
   "source": [
    "<div class=\"Q\"><br>\n",
    "\n",
    "After you write some code in the **Editor**, what happens when you click the **\"run\"** button?\n",
    "\n",
    "<br><br><div class=\"qhelp\"></div></div>\n"
   ]
  },
  {
   "cell_type": "markdown",
   "metadata": {},
   "source": [
    "## The Terminal (Anaconda Prompt)\n",
    "\n",
    "When you need to install additional Python modules or libraries, you will need the ***Terminal***. To open it (if you are in Windows), search in the task bar for \"Anaconda Prompt\", it should look like this:\n",
    "\n",
    "<img src=\"./terminal.png\" width=\"600px\">\n",
    "\n",
    "If you are a Mac user, you can simply use Mac's built it terminal, instead of the \"Anaconda promot\".\n",
    "\n",
    "We will use the ***Terminal*** a bit later (at the end of this lab). For now, you can close ***Terminal***, we'll open it again when we need it."
   ]
  },
  {
   "cell_type": "markdown",
   "metadata": {},
   "source": [
    "-------------------------------\n",
    "## Comments and statements\n",
    "\n",
    "* **Comments** are lines of text meant to be read ONLY by humans (i.e. the computer ignores these lines). Comments usually contain annotations and additional information to make easier to understand the code to the programmer. **Comments** are preceded by a **#** (hashtag)\n",
    "\n",
    "* A **Statement** is a line of text read by the computer. This is \"the code\". A statement contains instructions for the computer to do a simple task\n",
    "\n",
    "Take a look to the sequence of statements below:\n"
   ]
  },
  {
   "cell_type": "code",
   "execution_count": 150,
   "metadata": {},
   "outputs": [
    {
     "name": "stdout",
     "output_type": "stream",
     "text": [
      "2\n"
     ]
    }
   ],
   "source": [
    "# This is a Comment because it is preceded by a # (hashtag)\n",
    "a = 2\n",
    "\n",
    "# Lets print our variables to screen\n",
    "print(a) # Note that comments can be written after a statement (but not before)"
   ]
  },
  {
   "cell_type": "markdown",
   "metadata": {},
   "source": [
    "Above...\n",
    "* The first line is a **comment**\n",
    "* The second line is a **statement** assigning the value of `a` to be equal to 2\n",
    "* Then there is a blank line. Blank lines are ignored by Python (they exist to space the code and make it easier to read).\n",
    "* The forth line is a **comment**\n",
    "* The fifth line is a **statement** asking Python to print the value of `a` to screen. After the statement, there is another comment \n",
    "\n",
    "If you copy-paste the code above to the ***Spyder's Editor*** and click [run], it will print a `2` to the console.\n"
   ]
  },
  {
   "cell_type": "markdown",
   "metadata": {},
   "source": [
    "<div class=\"note\"> Once `a = 2` has been executed, the value of `a` will be stored \"in memory\" until you turn off python, until you delete `a`, or until you update `a` with a different value.</div>"
   ]
  },
  {
   "cell_type": "markdown",
   "metadata": {},
   "source": [
    "## Variables\n",
    "A **Variable** is a user-defined label that can be used to name anything. For example, in the **statement** above (`a = 2`) \"a\" is a variable. You can name variables anything you want (no punctuation thought), for example:"
   ]
  },
  {
   "cell_type": "code",
   "execution_count": 151,
   "metadata": {},
   "outputs": [
    {
     "name": "stdout",
     "output_type": "stream",
     "text": [
      "35\n"
     ]
    }
   ],
   "source": [
    "my_cute_variable = 35\n",
    "\n",
    "print(my_cute_variable)"
   ]
  },
  {
   "cell_type": "markdown",
   "metadata": {},
   "source": [
    "Note that it is a good practice to choose variable names that describe what is stored within the variable. "
   ]
  },
  {
   "cell_type": "markdown",
   "metadata": {},
   "source": [
    "Also note that you can use Spyder's ***Variable explorer*** to see what variables are currently loaded into **memory**.\n",
    "\n",
    "<img src=\"./variable_explorer.png\" width=\"800px\">"
   ]
  },
  {
   "cell_type": "markdown",
   "metadata": {},
   "source": [
    "-------------------------------\n",
    "\n",
    "##  Basic data types\n",
    "\n",
    "In every computer language there are many data types. Each data type behaves under different rules, thus it is important to always be aware of what data type each statement is working with. Below are some of the most common data types used in Python:\n",
    "\n",
    "### Integers\n",
    "\n",
    "**Integers** are \"round\" numbers (i.e. no decimal point) "
   ]
  },
  {
   "cell_type": "code",
   "execution_count": 152,
   "metadata": {},
   "outputs": [
    {
     "name": "stdout",
     "output_type": "stream",
     "text": [
      "2\n"
     ]
    }
   ],
   "source": [
    "my_int = 2\n",
    "\n",
    "print(my_int)"
   ]
  },
  {
   "cell_type": "markdown",
   "metadata": {},
   "source": [
    "### Floats\n",
    "**Floats** are numbers with a decimal point"
   ]
  },
  {
   "cell_type": "code",
   "execution_count": 153,
   "metadata": {},
   "outputs": [
    {
     "name": "stdout",
     "output_type": "stream",
     "text": [
      "2.3\n"
     ]
    }
   ],
   "source": [
    "my_float = 2.3\n",
    "\n",
    "print(my_float)"
   ]
  },
  {
   "cell_type": "markdown",
   "metadata": {},
   "source": [
    "### Strings\n",
    "**Strings** are letters. Note that you need to wrap the content of the string within quotes to tell Python they are a string "
   ]
  },
  {
   "cell_type": "code",
   "execution_count": 154,
   "metadata": {},
   "outputs": [
    {
     "name": "stdout",
     "output_type": "stream",
     "text": [
      "hello\n",
      "2.3\n"
     ]
    }
   ],
   "source": [
    "# You can use single quotes ' or double quotes \" to create strings\n",
    "my_string_1 = 'hello'\n",
    "\n",
    "my_string_2 = \"2.3\"\n",
    "\n",
    "print(my_string_1)\n",
    "print(my_string_2)"
   ]
  },
  {
   "cell_type": "markdown",
   "metadata": {},
   "source": [
    "Note that even though \"2.3\" is a number, it will be treated by Python as \"letters\". Therefore you won't be able to do math with \"2.3\""
   ]
  },
  {
   "cell_type": "markdown",
   "metadata": {},
   "source": [
    "<div class=\"Q\"><br>\n",
    "\n",
    "What data type is the following: <br><br>\n",
    "324.91\n",
    "\n",
    "<br><br><div class=\"qhelp\"></div></div>\n"
   ]
  },
  {
   "cell_type": "markdown",
   "metadata": {},
   "source": [
    "<div class=\"Q\"><br>\n",
    "\n",
    "What data type is the following: <br><br>\n",
    "'the house is green'\n",
    "\n",
    "<br><br><div class=\"qhelp\"></div></div>"
   ]
  },
  {
   "cell_type": "markdown",
   "metadata": {},
   "source": [
    "<div class=\"Q\"><br>\n",
    "\n",
    "What data type is the following: <br><br>\n",
    "87572\n",
    "\n",
    "<br><br><div class=\"qhelp\"></div></div>"
   ]
  },
  {
   "cell_type": "markdown",
   "metadata": {},
   "source": [
    "<div class=\"Q\"><br>\n",
    "\n",
    "If you execute the following line in Python... <br><br>\n",
    "    \n",
    "    a = 32\n",
    "\n",
    "Then, what is \"**32**\"?\n",
    "\n",
    "<br><br><div class=\"qhelp\"></div></div>"
   ]
  },
  {
   "cell_type": "markdown",
   "metadata": {},
   "source": [
    "<div class=\"Q\"><br>\n",
    "\n",
    "If you execute the following line in Python... <br><br>\n",
    "    \n",
    "    a = 32\n",
    "\n",
    "Then, what is \"**a**\"?\n",
    "\n",
    "<br><br><div class=\"qhelp\"></div></div>"
   ]
  },
  {
   "cell_type": "markdown",
   "metadata": {},
   "source": [
    "### Simple operations between different data types\n",
    "\n",
    "Adding an **integer** plus a **float** yields a float"
   ]
  },
  {
   "cell_type": "code",
   "execution_count": 155,
   "metadata": {},
   "outputs": [
    {
     "data": {
      "text/plain": [
       "4.3"
      ]
     },
     "execution_count": 155,
     "metadata": {},
     "output_type": "execute_result"
    }
   ],
   "source": [
    "my_int + my_float"
   ]
  },
  {
   "cell_type": "markdown",
   "metadata": {},
   "source": [
    "... but, operations between strings and floats (or integers) <span style=\"color:red;\">is not allowed</span> and therefore if you try to do this operation, Python will yield an ERROR"
   ]
  },
  {
   "cell_type": "code",
   "execution_count": 156,
   "metadata": {},
   "outputs": [
    {
     "ename": "TypeError",
     "evalue": "unsupported operand type(s) for +: 'float' and 'str'",
     "output_type": "error",
     "traceback": [
      "\u001b[1;31m---------------------------------------------------------------------------\u001b[0m",
      "\u001b[1;31mTypeError\u001b[0m                                 Traceback (most recent call last)",
      "\u001b[1;32m<ipython-input-156-47d68115815b>\u001b[0m in \u001b[0;36m<module>\u001b[1;34m\u001b[0m\n\u001b[1;32m----> 1\u001b[1;33m \u001b[0mmy_float\u001b[0m \u001b[1;33m+\u001b[0m \u001b[0mmy_string_1\u001b[0m\u001b[1;33m\u001b[0m\u001b[1;33m\u001b[0m\u001b[0m\n\u001b[0m",
      "\u001b[1;31mTypeError\u001b[0m: unsupported operand type(s) for +: 'float' and 'str'"
     ]
    }
   ],
   "source": [
    "my_float + my_string_1"
   ]
  },
  {
   "cell_type": "markdown",
   "metadata": {},
   "source": [
    "\"Summing\" two strings simply concatenates them together:"
   ]
  },
  {
   "cell_type": "code",
   "execution_count": 157,
   "metadata": {},
   "outputs": [
    {
     "data": {
      "text/plain": [
       "'hello2.3'"
      ]
     },
     "execution_count": 157,
     "metadata": {},
     "output_type": "execute_result"
    }
   ],
   "source": [
    "my_string_1 + my_string_2"
   ]
  },
  {
   "cell_type": "markdown",
   "metadata": {},
   "source": [
    "<div class=\"Q\"><br>\n",
    "\n",
    "If you execute the following lines in Python...\n",
    "    \n",
    "    a = 3\n",
    "    b = 1\n",
    "\n",
    "Then, what is the result of: *a + b*\n",
    "\n",
    "<br><br><div class=\"qhelp\"></div></div>"
   ]
  },
  {
   "cell_type": "markdown",
   "metadata": {},
   "source": [
    "<div class=\"Q\"><br>\n",
    "\n",
    "If you execute the following lines in Python...\n",
    "    \n",
    "    a = '3'\n",
    "    b = '1'\n",
    "\n",
    "Then, what is the result of: *a + b*\n",
    "\n",
    "<br><br><div class=\"qhelp\"></div></div>"
   ]
  },
  {
   "cell_type": "markdown",
   "metadata": {},
   "source": [
    "-------------------------------------------\n",
    "\n",
    "## Objects (lists and dictionaries)\n",
    "\n",
    "Everything in Python is an object! Even the basic data types are objects: Integers are \"Integer Objects\", floats are \"Float Objects\" etc. Each type of object behaves under its own set of rules, therefore it is ESSENTIAL to be aware of what type of object is each of your variables. \n",
    "\n",
    "We already talked about the sometimes called \"primitive objects\" (i.e. integers, floats, strings), however python comes included with some more advanced objects (e.g. lists and dictionaries). Also, when you install new modules, often they come with their own objects (each with their own rules). \n",
    "\n",
    "Following a \"cooking analogy\", I like to think \"primitive objects\" as types of raw ingredients (e.g. liquid, powder, solid) and the more advanced objects can be thought as containers (e.g. bag, basket, jar, shelf).\n",
    "\n",
    "If you don't know what type of object is a variable, just type **`type(variableName)`**, for example:"
   ]
  },
  {
   "cell_type": "code",
   "execution_count": 158,
   "metadata": {},
   "outputs": [
    {
     "data": {
      "text/plain": [
       "float"
      ]
     },
     "execution_count": 158,
     "metadata": {},
     "output_type": "execute_result"
    }
   ],
   "source": [
    "my_var = 12.8\n",
    "\n",
    "type(my_var)"
   ]
  },
  {
   "cell_type": "markdown",
   "metadata": {},
   "source": [
    "### Lists\n",
    "Lists are similar to \"cell-arrays\" in Matlab. \"Lists\" are great when you just want to append items at the end of the list, but you don't care too much about retrieving a particular item within the list.\n",
    "\n",
    "Let's do a \"list\""
   ]
  },
  {
   "cell_type": "code",
   "execution_count": 159,
   "metadata": {},
   "outputs": [
    {
     "data": {
      "text/plain": [
       "[2, 5, 8, 7, 1, 2, 7]"
      ]
     },
     "execution_count": 159,
     "metadata": {},
     "output_type": "execute_result"
    }
   ],
   "source": [
    "my_list = [2,5,8,7,1,2,7]\n",
    "\n",
    "my_list"
   ]
  },
  {
   "cell_type": "markdown",
   "metadata": {},
   "source": [
    "To see if a variable is a `list`, you can also use `type`. See below: \n"
   ]
  },
  {
   "cell_type": "code",
   "execution_count": 160,
   "metadata": {},
   "outputs": [
    {
     "data": {
      "text/plain": [
       "list"
      ]
     },
     "execution_count": 160,
     "metadata": {},
     "output_type": "execute_result"
    }
   ],
   "source": [
    "type(my_list)"
   ]
  },
  {
   "cell_type": "markdown",
   "metadata": {},
   "source": [
    "To access an item within the list, type its index within square brackets:"
   ]
  },
  {
   "cell_type": "code",
   "execution_count": 161,
   "metadata": {},
   "outputs": [
    {
     "data": {
      "text/plain": [
       "2"
      ]
     },
     "execution_count": 161,
     "metadata": {},
     "output_type": "execute_result"
    }
   ],
   "source": [
    "my_list[0]"
   ]
  },
  {
   "cell_type": "markdown",
   "metadata": {},
   "source": [
    "<span class=\"important\"></span> Note that in Python, the first index is **zero!**"
   ]
  },
  {
   "cell_type": "code",
   "execution_count": 162,
   "metadata": {},
   "outputs": [
    {
     "data": {
      "text/plain": [
       "5"
      ]
     },
     "execution_count": 162,
     "metadata": {},
     "output_type": "execute_result"
    }
   ],
   "source": [
    "my_list[1]"
   ]
  },
  {
   "cell_type": "code",
   "execution_count": 163,
   "metadata": {},
   "outputs": [
    {
     "data": {
      "text/plain": [
       "8"
      ]
     },
     "execution_count": 163,
     "metadata": {},
     "output_type": "execute_result"
    }
   ],
   "source": [
    "my_list[2]"
   ]
  },
  {
   "cell_type": "markdown",
   "metadata": {},
   "source": [
    "Negative indices are counted backwards from the last item:"
   ]
  },
  {
   "cell_type": "code",
   "execution_count": 164,
   "metadata": {},
   "outputs": [
    {
     "data": {
      "text/plain": [
       "7"
      ]
     },
     "execution_count": 164,
     "metadata": {},
     "output_type": "execute_result"
    }
   ],
   "source": [
    "my_list[-1]"
   ]
  },
  {
   "cell_type": "code",
   "execution_count": 165,
   "metadata": {},
   "outputs": [
    {
     "data": {
      "text/plain": [
       "2"
      ]
     },
     "execution_count": 165,
     "metadata": {},
     "output_type": "execute_result"
    }
   ],
   "source": [
    "my_list[-2]"
   ]
  },
  {
   "cell_type": "markdown",
   "metadata": {},
   "source": [
    "To access several items within the list, use a colon (i.e. :)"
   ]
  },
  {
   "cell_type": "code",
   "execution_count": 166,
   "metadata": {},
   "outputs": [
    {
     "data": {
      "text/plain": [
       "[8, 7]"
      ]
     },
     "execution_count": 166,
     "metadata": {},
     "output_type": "execute_result"
    }
   ],
   "source": [
    "my_list[2:4]"
   ]
  },
  {
   "cell_type": "code",
   "execution_count": 167,
   "metadata": {},
   "outputs": [
    {
     "data": {
      "text/plain": [
       "[2, 5, 8]"
      ]
     },
     "execution_count": 167,
     "metadata": {},
     "output_type": "execute_result"
    }
   ],
   "source": [
    "my_list[:3]"
   ]
  },
  {
   "cell_type": "code",
   "execution_count": 168,
   "metadata": {},
   "outputs": [
    {
     "data": {
      "text/plain": [
       "[1, 2, 7]"
      ]
     },
     "execution_count": 168,
     "metadata": {},
     "output_type": "execute_result"
    }
   ],
   "source": [
    "my_list[-3:]"
   ]
  },
  {
   "cell_type": "markdown",
   "metadata": {},
   "source": [
    "Note that you can put anything you want in a list (i.e. not only integers). For example:"
   ]
  },
  {
   "cell_type": "code",
   "execution_count": 169,
   "metadata": {},
   "outputs": [
    {
     "data": {
      "text/plain": [
       "[2.88, 7, 'x']"
      ]
     },
     "execution_count": 169,
     "metadata": {},
     "output_type": "execute_result"
    }
   ],
   "source": [
    "my_other_list = ['a','5',8,'b',1,2.88,7,'x']\n",
    "\n",
    "my_other_list[-3:]"
   ]
  },
  {
   "cell_type": "markdown",
   "metadata": {},
   "source": [
    "<div class=\"Q\"><br>\n",
    "\n",
    "Given the following List: <br><br>\n",
    "my_list = [2,5,8,7,1,2,7] <br><br>\n",
    "How do you access the 3rd item in the list (i.e. 8)? \n",
    "\n",
    "<br><br><div class=\"qhelp\"></div></div>"
   ]
  },
  {
   "cell_type": "markdown",
   "metadata": {},
   "source": [
    "<div class=\"Q\"><br>\n",
    "\n",
    "Given the following List: <br><br>\n",
    "my_list = [2,5,8,7,1,2,7] <br><br>\n",
    "How do you access the last 4 items in the list (i.e. 7,1,2,7)? \n",
    "\n",
    "<br><br><div class=\"qhelp\"></div></div>"
   ]
  },
  {
   "cell_type": "markdown",
   "metadata": {},
   "source": [
    "### Dictionaries\n",
    "\n",
    "Dictionaries are similar to \"structure-arrays\" in Matlab. A \"Dictionary\" stores items in a way that resembles a dictionary. You look up a \"keyword\" (e.g. \"apple\") and your immediately get the contents (i.e. \"Red round fruit that tastes good\").\n",
    "\n",
    "Dictionaries are great to quickly find a specific item within the dictionary.\n",
    "\n",
    "Lets make a dictionary:"
   ]
  },
  {
   "cell_type": "code",
   "execution_count": 170,
   "metadata": {},
   "outputs": [
    {
     "data": {
      "text/plain": [
       "{'name': 'Juan', 'age': 27, 'gender': 'male'}"
      ]
     },
     "execution_count": 170,
     "metadata": {},
     "output_type": "execute_result"
    }
   ],
   "source": [
    "my_dict = {'name':'Juan', 'age':27, 'gender':'male'}\n",
    "\n",
    "my_dict"
   ]
  },
  {
   "cell_type": "markdown",
   "metadata": {},
   "source": [
    "To see if a variable is a `Dictionary`, you can also use `type`. See below: \n"
   ]
  },
  {
   "cell_type": "code",
   "execution_count": 171,
   "metadata": {},
   "outputs": [
    {
     "data": {
      "text/plain": [
       "dict"
      ]
     },
     "execution_count": 171,
     "metadata": {},
     "output_type": "execute_result"
    }
   ],
   "source": [
    "type(my_dict)"
   ]
  },
  {
   "cell_type": "markdown",
   "metadata": {},
   "source": [
    "Let's query the dictionary using the keywords:"
   ]
  },
  {
   "cell_type": "code",
   "execution_count": 172,
   "metadata": {},
   "outputs": [
    {
     "data": {
      "text/plain": [
       "27"
      ]
     },
     "execution_count": 172,
     "metadata": {},
     "output_type": "execute_result"
    }
   ],
   "source": [
    "my_dict['age']"
   ]
  },
  {
   "cell_type": "code",
   "execution_count": 173,
   "metadata": {},
   "outputs": [
    {
     "data": {
      "text/plain": [
       "'Juan'"
      ]
     },
     "execution_count": 173,
     "metadata": {},
     "output_type": "execute_result"
    }
   ],
   "source": [
    "my_dict['name']"
   ]
  },
  {
   "cell_type": "markdown",
   "metadata": {},
   "source": [
    "<div class=\"Q\"><br>\n",
    "\n",
    "Given the following Dictionary: <br><br>\n",
    "my_dict = {'name':'Juan', 'age':27, 'gender':'male'} <br><br>\n",
    "How do you access the contents stored under the 'age' key (i.e. 27)? \n",
    "\n",
    "<br><br><div class=\"qhelp\"></div></div>"
   ]
  },
  {
   "cell_type": "markdown",
   "metadata": {},
   "source": [
    "<div class=\"Q\"><br>\n",
    "\n",
    "If you execute the following lines in Python...\n",
    "    \n",
    "    a = [3,7,1,9]\n",
    "    b = {'1':3, '2':7, '3':1, '4':9 }\n",
    "\n",
    "Then, what type of object is **a**?\n",
    "\n",
    "<br><br><div class=\"qhelp\"></div></div>"
   ]
  },
  {
   "cell_type": "markdown",
   "metadata": {},
   "source": [
    "<div class=\"Q\"><br>\n",
    "\n",
    "If you execute the following lines in Python...\n",
    "    \n",
    "    a = [3,7,1,9]\n",
    "    b = {'1':3, '2':7, '3':1, '4':9 }\n",
    "\n",
    "Then, what type of object is **b**?\n",
    "\n",
    "<br><br><div class=\"qhelp\"></div></div>"
   ]
  },
  {
   "cell_type": "markdown",
   "metadata": {},
   "source": [
    "---------------------------------------------\n",
    "\n",
    "## Functions and methods\n",
    "\n",
    "**Functions** and **methods** are how you \"do stuff\" in Python. With one line of code you can do things like calculate a mean, or do a plot, or do a complicated statistical analysis. In essence, both **functions** and **methods** are code that accept an \"input\", do something to the input, and spits out an \"output\". The only thing you need to know and remember is the name of the function (or method). Arguably, learning Python is mostly learning the names of the available functions and methods.\n",
    "\n",
    "### Functions\n",
    "\n",
    "Functions are used following the \"nomenclature\" below:\n",
    "\n",
    "\n",
    "<div class=\"nomenclature\">output = FunctionName(input)</div>\n",
    "\n",
    "\n",
    "We already used a few functions above, namely the \"print\" function..."
   ]
  },
  {
   "cell_type": "code",
   "execution_count": 174,
   "metadata": {},
   "outputs": [
    {
     "name": "stdout",
     "output_type": "stream",
     "text": [
      "hello world!\n"
     ]
    }
   ],
   "source": [
    "print('hello world!')"
   ]
  },
  {
   "cell_type": "markdown",
   "metadata": {},
   "source": [
    "...and the \"type\" function "
   ]
  },
  {
   "cell_type": "code",
   "execution_count": 175,
   "metadata": {},
   "outputs": [
    {
     "data": {
      "text/plain": [
       "float"
      ]
     },
     "execution_count": 175,
     "metadata": {},
     "output_type": "execute_result"
    }
   ],
   "source": [
    "type(124.87)"
   ]
  },
  {
   "cell_type": "markdown",
   "metadata": {},
   "source": [
    "In both case the output was simply displayed to screen, which happens when you do not specify what to do with the output. Below are a few examples where the output is saved to a variable:\n",
    "\n",
    "First lets do a list... and then apply some functions to it."
   ]
  },
  {
   "cell_type": "code",
   "execution_count": 176,
   "metadata": {},
   "outputs": [
    {
     "data": {
      "text/plain": [
       "61"
      ]
     },
     "execution_count": 176,
     "metadata": {},
     "output_type": "execute_result"
    }
   ],
   "source": [
    "mylist = [4,7,2,9,6,3,7,8,5,10]\n",
    "\n",
    "\n",
    "# Calcualte the sum\n",
    "sum(mylist)"
   ]
  },
  {
   "cell_type": "markdown",
   "metadata": {},
   "source": [
    "In the case above, ***FunctionName*** is `sum`, ***input*** is `mylist`, and ***output*** is `61`"
   ]
  },
  {
   "cell_type": "code",
   "execution_count": 177,
   "metadata": {},
   "outputs": [
    {
     "data": {
      "text/plain": [
       "10"
      ]
     },
     "execution_count": 177,
     "metadata": {},
     "output_type": "execute_result"
    }
   ],
   "source": [
    "# Figure out the maximum of a list\n",
    "a = max(mylist)\n",
    "\n",
    "a"
   ]
  },
  {
   "cell_type": "markdown",
   "metadata": {},
   "source": [
    "In the case above, ***FunctionName*** is `max`, ***input*** is `mylist`, and ***output*** is `a`"
   ]
  },
  {
   "cell_type": "code",
   "execution_count": 178,
   "metadata": {},
   "outputs": [
    {
     "data": {
      "text/plain": [
       "2"
      ]
     },
     "execution_count": 178,
     "metadata": {},
     "output_type": "execute_result"
    }
   ],
   "source": [
    "# Figure out the minimum of a list\n",
    "min(mylist)"
   ]
  },
  {
   "cell_type": "code",
   "execution_count": 179,
   "metadata": {},
   "outputs": [
    {
     "data": {
      "text/plain": [
       "10"
      ]
     },
     "execution_count": 179,
     "metadata": {},
     "output_type": "execute_result"
    }
   ],
   "source": [
    "# Get the \"length\" of a list\n",
    "len(mylist)"
   ]
  },
  {
   "cell_type": "code",
   "execution_count": 180,
   "metadata": {},
   "outputs": [
    {
     "data": {
      "text/plain": [
       "list"
      ]
     },
     "execution_count": 180,
     "metadata": {},
     "output_type": "execute_result"
    }
   ],
   "source": [
    "# Get the \"type\" of Object\n",
    "type(mylist)"
   ]
  },
  {
   "cell_type": "markdown",
   "metadata": {},
   "source": [
    "<div class=\"note\">\n",
    "\n",
    "<br>\n",
    "    \n",
    "Here is a list of the basic Functions built-in within Python:\n",
    "\n",
    "https://docs.python.org/3/library/functions.html\n",
    "    \n",
    "<br>\n",
    "\n",
    "</div>\n"
   ]
  },
  {
   "cell_type": "markdown",
   "metadata": {},
   "source": [
    "<div class=\"Q\"><br>\n",
    "\n",
    "Given the following statement: <br><br>\n",
    "c = max(my_list)<br><br>\n",
    "What is the name of the function? \n",
    "\n",
    "<br><br><div class=\"qhelp\"></div></div>"
   ]
  },
  {
   "cell_type": "markdown",
   "metadata": {},
   "source": [
    "<div class=\"Q\"><br>\n",
    "\n",
    "Given the following statement: <br><br>\n",
    "c = max(my_list)<br><br>\n",
    "What is the \"input\"? \n",
    "\n",
    "<br><br><div class=\"qhelp\"></div></div>"
   ]
  },
  {
   "cell_type": "markdown",
   "metadata": {},
   "source": [
    "<div class=\"Q\"><br>\n",
    "\n",
    "Given the following statement: <br><br>\n",
    "c = max(my_list)<br><br>\n",
    "What is the \"output\"? \n",
    "\n",
    "<br><br><div class=\"qhelp\"></div></div>"
   ]
  },
  {
   "cell_type": "markdown",
   "metadata": {},
   "source": [
    "<div class=\"Q\"><br>\n",
    "\n",
    "Given the following List: <br><br>\n",
    "my_list = [2,3,1] <br><br>\n",
    "... and the following statement:<br><br>\n",
    "output =  max(my_list)<br><br>\n",
    "What is the value of \"output\"? \n",
    "\n",
    "<br><br><div class=\"qhelp\"></div></div>"
   ]
  },
  {
   "cell_type": "markdown",
   "metadata": {},
   "source": [
    "<div class=\"Q\"><br>\n",
    "\n",
    "Given the following List: <br><br>\n",
    "my_list = [2,3,1] <br><br>\n",
    "... and the following statement:<br><br>\n",
    "output =  len(my_list)<br><br>\n",
    "What is the value of \"output\"? \n",
    "\n",
    "<br><br><div class=\"qhelp\"></div></div>"
   ]
  },
  {
   "cell_type": "markdown",
   "metadata": {},
   "source": [
    "### Methods\n",
    "\n",
    "Methods are similar to functions, but they follow a different \"nomenclature\":\n",
    "\n",
    "<div class=\"nomenclature\">output = input.MethodName(arguments)</div>\n",
    "\n",
    "The ***arguments*** are additional information sometimes required by the method.\n",
    "\n",
    "Note that before you can \"apply\" ***MethodName*** to the ***input*** object, we first need to create the ***input*** object.\n",
    "\n",
    "For example..."
   ]
  },
  {
   "cell_type": "code",
   "execution_count": 181,
   "metadata": {},
   "outputs": [
    {
     "name": "stdout",
     "output_type": "stream",
     "text": [
      "[4, 7, 2, 9, 6, 3, 3, 8, 5, 10, 2]\n"
     ]
    }
   ],
   "source": [
    "# First we create a \"list\" object\n",
    "mylist = [4,7,2,9,6,3,3,8,5,10]\n",
    "\n",
    "# Then, this appends the number \"2\" to the end of mylist\n",
    "mylist.append(2)\n",
    "\n",
    "print(mylist)"
   ]
  },
  {
   "cell_type": "markdown",
   "metadata": {},
   "source": [
    "Here the number 2 in the parenthesis is an ***argument***.\n",
    "\n",
    "Let do some more..."
   ]
  },
  {
   "cell_type": "code",
   "execution_count": 182,
   "metadata": {},
   "outputs": [
    {
     "name": "stdout",
     "output_type": "stream",
     "text": [
      "[4, 2, 9, 6, 3, 3, 8, 5, 10, 2]\n"
     ]
    }
   ],
   "source": [
    "# This finds the number \"7\" in mylist, and removes it\n",
    "mylist.remove(7)\n",
    "\n",
    "print(mylist)"
   ]
  },
  {
   "cell_type": "code",
   "execution_count": 183,
   "metadata": {},
   "outputs": [
    {
     "name": "stdout",
     "output_type": "stream",
     "text": [
      "[2, 2, 3, 3, 4, 5, 6, 8, 9, 10]\n"
     ]
    }
   ],
   "source": [
    "#This sorts mylist. Note that this method does not require any arguments, thus the parenthesis are left empty ()\n",
    "mylist.sort()\n",
    "\n",
    "print(mylist)"
   ]
  },
  {
   "cell_type": "code",
   "execution_count": 184,
   "metadata": {},
   "outputs": [
    {
     "data": {
      "text/plain": [
       "7"
      ]
     },
     "execution_count": 184,
     "metadata": {},
     "output_type": "execute_result"
    }
   ],
   "source": [
    "#This finds the number \"5\" in mylist and returns its index\n",
    "mylist.index(8)"
   ]
  },
  {
   "cell_type": "markdown",
   "metadata": {},
   "source": [
    "By now you probably figured out that each object type (e.g. lists or dictionaries) has its own built in `methods`. Use Google to find out the available methods for a particular object type. For example, if you want to see the available methods for \"list\" objects, Google: `python methods list`"
   ]
  },
  {
   "cell_type": "markdown",
   "metadata": {},
   "source": [
    "<div class=\"Q\"><br>\n",
    "\n",
    "Given the following statement: <br><br>\n",
    "c = mylist.remove(7)<br><br>\n",
    "What is the \"input\"?\n",
    "\n",
    "<br><br><div class=\"qhelp\"></div></div>"
   ]
  },
  {
   "cell_type": "markdown",
   "metadata": {},
   "source": [
    "<div class=\"Q\"><br>\n",
    "\n",
    "Given the following statement: <br><br>\n",
    "c = mylist.remove(7)<br><br>\n",
    "What is the \"output\"? \n",
    "\n",
    "<br><br><div class=\"qhelp\"></div></div>"
   ]
  },
  {
   "cell_type": "markdown",
   "metadata": {},
   "source": [
    "<div class=\"Q\"><br>\n",
    "\n",
    "Given the following statement: <br><br>\n",
    "c = mylist.remove(7)<br><br>\n",
    "What is the \"MethodName\"? \n",
    "\n",
    "<br><br><div class=\"qhelp\"></div></div>"
   ]
  },
  {
   "cell_type": "markdown",
   "metadata": {},
   "source": [
    "<div class=\"Q\"><br>\n",
    "\n",
    "Given the following statement: <br><br>\n",
    "c = mylist.remove(7)<br><br>\n",
    "What is the \"argument\"? \n",
    "\n",
    "<br><br><div class=\"qhelp\"></div></div>"
   ]
  },
  {
   "cell_type": "markdown",
   "metadata": {},
   "source": [
    "## Modules"
   ]
  },
  {
   "cell_type": "markdown",
   "metadata": {},
   "source": [
    "So far we used some of the built-in functions of Python (e.g. `type`, `len`, `max`), as well as some methods of Python's built-in objects (e.g. methods of the `list` object); however, there are **A LOT MORE!**. You can import functions and objects (with its associated methods) from external **\"modules\"** (or \"packages\")... therefore you have **thousands** of functions and methods at your disposal.\n",
    "\n",
    "To be able to use a **\"module\"**, you first need to **(1) install the module**, and then you need to **(2) import the module**. \n",
    "\n",
    "<img src=\"./install_import.png\" width=\"500px\">\n",
    "\n",
    "1. When you **\"install\"** a module, behind the scenes the module's code is downloaded from the cloud and written in the default \"Python Directory\" in your hard-drive. <span style=\"color:red;\">This step only needs to be done once.</span> The module will remained installed in your hard-drive \"forever\" (or until you decide to uninstall it).\n",
    "\n",
    "2. When you **\"import\"** a module, behind the scenes the module's code is loaded into **Memory** (from the default \"Python Directory\" where it was installed in step 1). This step needs to be done every time you run the program that needs the module. Conveniently, you can simply use an `import` statement at the beginning of your code so the required module is loaded automatically every time you run your code.\n",
    "\n",
    "When you install `Anaconda`, the Anaconda installer **\"installs\"** Python and also **\"installs\"** a bunch of commonly used **modules**. Therefore you can simply `import` them and use them right away. Below is an example about how to import the Module `math` and use one of its functions (note that we'll learn how to **\"install\"** new modules at the end of this lab)."
   ]
  },
  {
   "cell_type": "code",
   "execution_count": 185,
   "metadata": {},
   "outputs": [
    {
     "data": {
      "text/plain": [
       "0.9092974268256817"
      ]
     },
     "execution_count": 185,
     "metadata": {},
     "output_type": "execute_result"
    }
   ],
   "source": [
    "# First import the module \"math\"\n",
    "import math\n",
    "\n",
    "# Then use the function \"sin\" within the module \"math\"\n",
    "math.sin(mylist[0])"
   ]
  },
  {
   "cell_type": "markdown",
   "metadata": {},
   "source": [
    "<span class=\"important\"></span> When using a function from an imported module, you need to add the **module name** to the **function name**. Thus the \"nomenclature\" is slightly modified as shown below:\n",
    "\n",
    "<div class=\"nomenclature\">output = ModuleName.FunctionName(input)</div>"
   ]
  },
  {
   "cell_type": "markdown",
   "metadata": {},
   "source": [
    "## To \"Editor\" or to \"Console\"?\n",
    "\n",
    "<img src=\"./editor_console.png\" width=\"500px\">\n",
    "\n",
    "To execute Python code, you can (1) write code in the **Editor** and click <span class=\"run\"></span>, or (2) you can write code in the **Console** and click [Enter]. The question is when do you use the **Editor** and when do you use the **Console**?\n",
    "\n",
    "#### Editor\n",
    "When you use **Editor** you most save your code in a `.py` file before you can <span class=\"run\"></span> it. The advantage of this is that you can re-use your code at a later date. Simply open your `.py` file and <span class=\"run\"></span> it again!\n",
    "\n",
    "Use the **Editor** to write self-contained code (i.e. scripts or little programs) that you may want to re-use a later date. Examples of these self-contained scripts are shown in the real-life case studies below.\n",
    "\n",
    "#### Console\n",
    "The **Console** is the quickest way to enter code into Python's **\"memory\"** and the quickest way to query or inspect something that is already in Python's **\"memory\"**. The drawback is that code written in **Console** quickly dissapears as you write new code... or when you turn off Spyder or your computer. <span style=\"color:red;\">Code written in the **Console** is not very re-usable.</span> Therefore, use the **Console** when you need to do \"one-offs\". \n",
    "\n",
    "<br><br>\n",
    "\n",
    "In the real-life case studies below we'll use both, the **Editor** and the **Console**. To make things easier...\n",
    "\n",
    "* I will explicitly tell you to write (or copy-paste) code in a specific <span class=\"file\">.py</span> file and then <span class=\"run\"></span> when you need to use the **Editor**\n",
    "* I will explicitly tell you to <span class=\"t2c\"></span> when you need to use the **Console**\n",
    "\n",
    "\n",
    "\n"
   ]
  },
  {
   "cell_type": "markdown",
   "metadata": {},
   "source": [
    "------------------------------\n",
    "## Real-life case study #1: Downloading real-time data from an oceanographic buoy in Oregon\n",
    "\n",
    "Up to here, everything probably sounds easy, but not really that useful. Lets put it all together in a real-life application using 1 function and 1 method.\n",
    "\n",
    "There is an autonomous buoy in the Columbia River (Oregon, USA) that broadcasts real-time ocean data via the following server: http://columbia.loboviz.com/\n",
    "\n",
    "<table>\n",
    "  <tr>\n",
    "    <td><img src=\"./lobo.jpg\" width=\"300px\">LOBO Buoy</td>\n",
    "    <td><img src=\"./columbia_river.jpg\" width=\"400px\">Columbia River (Oregon, USA)</td>\n",
    "  </tr>\n",
    "</table>\n",
    "\n",
    "The following code connects to the buoy's server, downloads data, and makes a simple plot.\n",
    "\n",
    "In Spyder's ***Editor*** open a new file and save it as <span class=\"file\">buoy.py</span>. Copy-paste the code below to your new file and click <span class='run'></span>"
   ]
  },
  {
   "cell_type": "code",
   "execution_count": 186,
   "metadata": {},
   "outputs": [
    {
     "data": {
      "text/plain": [
       "<matplotlib.axes._subplots.AxesSubplot at 0x1f0d754cb20>"
      ]
     },
     "execution_count": 186,
     "metadata": {},
     "output_type": "execute_result"
    },
    {
     "data": {
      "image/png": "[encoded data removed]",
      "text/plain": [
       "<Figure size 432x288 with 1 Axes>"
      ]
     },
     "metadata": {
      "needs_background": "light"
     },
     "output_type": "display_data"
    }
   ],
   "source": [
    "# Import Pandas module\n",
    "import pandas as pd\n",
    "\n",
    "# Define URL buoy\n",
    "URL = 'http://columbia.loboviz.com/cgi-data/nph-data.cgi?x=date&y=temperature&min_date=20180820&max_date=20180907&node=32&data_format=text'\n",
    "\n",
    "# Read data from buoy\n",
    "buoy_data = pd.read_csv(URL,sep='\\t',header=2)\n",
    "\n",
    "# Do quick plot\n",
    "buoy_data.plot(x='date [PST]',y='temperature [C]', rot=90)"
   ]
  },
  {
   "cell_type": "markdown",
   "metadata": {},
   "source": [
    "To see the plot you just made, click on the \"Plot\" tab (beside your \"Variable explorer\"). See below...\n",
    "\n",
    "<img src=\"./plot_explorer.png\" width=\"800px\">\n",
    "\n"
   ]
  },
  {
   "cell_type": "markdown",
   "metadata": {},
   "source": [
    "### Code Explanation:\n",
    "\n",
    "#### Line 1: "
   ]
  },
  {
   "cell_type": "code",
   "execution_count": 187,
   "metadata": {},
   "outputs": [],
   "source": [
    "import pandas as pd"
   ]
  },
  {
   "cell_type": "markdown",
   "metadata": {},
   "source": [
    "Here we imported the `pandas` module, which is a fantastic data analysis library (learn more: http://pandas.pydata.org/ ). Note that we also \"nicknamed\" the module `pd` so that we don't have to write the long name \"pandas\" before each function. \n",
    "\n",
    "#### Line 2: "
   ]
  },
  {
   "cell_type": "code",
   "execution_count": 212,
   "metadata": {},
   "outputs": [],
   "source": [
    "URL = 'http://columbia.loboviz.com/cgi-data/nph-data.cgi?x=date&y=temperature&min_date=20180820&max_date=20180907&node=32&data_format=text'"
   ]
  },
  {
   "cell_type": "markdown",
   "metadata": {},
   "source": [
    "Here we assigned a string to a new variable that we decided to call `URL`. Note that if you just copy-paste the full url into a browser, you would actually display the data in your browser as text. Of course, the tricky part is to figure out what url to query?... It is not hard, but I'll show you how to do this in another lab.  \n",
    "\n",
    "#### Line 3: "
   ]
  },
  {
   "cell_type": "code",
   "execution_count": 213,
   "metadata": {},
   "outputs": [],
   "source": [
    "buoy_data = pd.read_csv(URL,sep='\\t',header=2)"
   ]
  },
  {
   "cell_type": "markdown",
   "metadata": {},
   "source": [
    "This line queries the server, **downloads the data** and puts it into a new variable that we called `buoy_data`. Below is the breakdown:\n",
    "* **MethodName.FunctionName:** `pd.read_csv`\n",
    "* **Input:** `URL`\n",
    "* **Argument 1:** `sep='\\t'` (this specifies that the .csv file uses tabs as separators instead of commas)\n",
    "* **Argument 2:** `header=2` (this specifies that the first 2 rows are headers)\n",
    "* **output:** `buoy_data`\n",
    "\n",
    "So, we used 2 arguments in this example (i.e. `sep` and `header`), but **how do we know what arguments are available and how to use them?**\n",
    "\n",
    "**ANSWER:** Google the function name (i.e. Google: `pd.read_csv`)\n",
    "\n",
    "\n",
    "Note that the output, `buoy_data`, is a pandas DataFrame object. We'll talk more about this below. \n",
    "\n",
    "#### Line 4:"
   ]
  },
  {
   "cell_type": "code",
   "execution_count": 218,
   "metadata": {},
   "outputs": [
    {
     "data": {
      "text/plain": [
       "<matplotlib.axes._subplots.AxesSubplot at 0x1f0d75df460>"
      ]
     },
     "execution_count": 218,
     "metadata": {},
     "output_type": "execute_result"
    },
    {
     "data": {
      "image/png": "[encoded data removed]",
      "text/plain": [
       "<Figure size 432x288 with 1 Axes>"
      ]
     },
     "metadata": {
      "needs_background": "light"
     },
     "output_type": "display_data"
    }
   ],
   "source": [
    "buoy_data.plot(x='date [PST]',y='temperature [C]', rot=90)"
   ]
  },
  {
   "cell_type": "markdown",
   "metadata": {},
   "source": [
    "Here we applied the method **plot** to the pandas DataFrame object **buoy_data**. The output is a plot!\n",
    "\n",
    "-------------------------\n"
   ]
  },
  {
   "cell_type": "markdown",
   "metadata": {},
   "source": [
    "### Inspecting your code\n",
    "\n",
    "Before we do anything with our newly downloaded data, lets take a minute to examine our code..."
   ]
  },
  {
   "cell_type": "markdown",
   "metadata": {},
   "source": [
    "<div class=\"Q\"><br>\n",
    "\n",
    "In the code above (i.e. Real-life case study 1: Downloading real-time data from an oceanographic buoy in Oregon)...\n",
    "    \n",
    "<br><br>\n",
    "...What is: URL\n",
    "\n",
    "<br><br><div class=\"qhelp\"></div></div>"
   ]
  },
  {
   "cell_type": "markdown",
   "metadata": {},
   "source": [
    "<div class=\"Q\"><br>\n",
    "\n",
    "In the code above (i.e. Real-life case study 1: Downloading real-time data from an oceanographic buoy in Oregon)...\n",
    "    \n",
    "<br><br>\n",
    "...What is: pandas\n",
    "\n",
    "<br><br><div class=\"qhelp\"></div></div>"
   ]
  },
  {
   "cell_type": "markdown",
   "metadata": {},
   "source": [
    "<div class=\"Q\"><br>\n",
    "\n",
    "In the code above (i.e. Real-life case study 1: Downloading real-time data from an oceanographic buoy in Oregon)...\n",
    "    \n",
    "<br><br>\n",
    "...What is: pd.read_csv\n",
    "\n",
    "<br><br><div class=\"qhelp\"></div></div>"
   ]
  },
  {
   "cell_type": "markdown",
   "metadata": {},
   "source": [
    "<div class=\"Q\"><br>\n",
    "\n",
    "In the code above (i.e. Real-life case study 1: Downloading real-time data from an oceanographic buoy in Oregon)...\n",
    "    \n",
    "<br><br>\n",
    "...What is: buoy_data\n",
    "\n",
    "<br><br><div class=\"qhelp\"></div></div>"
   ]
  },
  {
   "cell_type": "markdown",
   "metadata": {},
   "source": [
    "<div class=\"Q\"><br>\n",
    "\n",
    "In the code above (i.e. Real-life case study 1: Downloading real-time data from an oceanographic buoy in Oregon)...\n",
    "    \n",
    "<br><br>\n",
    "...What is: .plot\n",
    "\n",
    "<br><br><div class=\"qhelp\"></div></div>"
   ]
  },
  {
   "cell_type": "markdown",
   "metadata": {},
   "source": [
    "<div class=\"Q\"><br>\n",
    "\n",
    "Take a look to the plot of temperature in the Colorado River (Oregon, USA).   <br><br>\n",
    "\n",
    "What do you think causes the oscillations in temperature?\n",
    "\n",
    "<br><br><div class=\"qhelp\"></div></div>"
   ]
  },
  {
   "cell_type": "markdown",
   "metadata": {},
   "source": [
    "### Inspecting buoy_data:\n",
    "\n",
    "Making a quick plot is useful, but we likely also want to look at the actual data. Lets start by inspecting what type of object is **buoy_data**\n",
    "\n",
    "<div class=\"t2c\"></div>"
   ]
  },
  {
   "cell_type": "code",
   "execution_count": 219,
   "metadata": {},
   "outputs": [
    {
     "data": {
      "text/plain": [
       "pandas.core.frame.DataFrame"
      ]
     },
     "execution_count": 219,
     "metadata": {},
     "output_type": "execute_result"
    }
   ],
   "source": [
    "type(buoy_data)"
   ]
  },
  {
   "cell_type": "markdown",
   "metadata": {},
   "source": [
    "As I said above, **buoy_data**, is a pandas DataFrame object (a *pandas.core.frame.DataFrame* to be specific). It is very similar to the core DataFrame in R. If you are not familiar with R, a good way to describe a pandas DataFrame is a table like an Excel spread-sheet, with rows and columns.\n",
    "\n",
    "To actually take look into **buoy_data**, simply <span class=\"t2c\"></span>:\n",
    "\n"
   ]
  },
  {
   "cell_type": "code",
   "execution_count": 220,
   "metadata": {},
   "outputs": [
    {
     "data": {
      "text/html": [
       "<div>\n",
       "<style scoped>\n",
       "    .dataframe tbody tr th:only-of-type {\n",
       "        vertical-align: middle;\n",
       "    }\n",
       "\n",
       "    .dataframe tbody tr th {\n",
       "        vertical-align: top;\n",
       "    }\n",
       "\n",
       "    .dataframe thead th {\n",
       "        text-align: right;\n",
       "    }\n",
       "</style>\n",
       "<table border=\"1\" class=\"dataframe\">\n",
       "  <thead>\n",
       "    <tr style=\"text-align: right;\">\n",
       "      <th></th>\n",
       "      <th>date [PST]</th>\n",
       "      <th>temperature [C]</th>\n",
       "    </tr>\n",
       "  </thead>\n",
       "  <tbody>\n",
       "    <tr>\n",
       "      <th>0</th>\n",
       "      <td>2018-08-20 00:00:00</td>\n",
       "      <td>22.31</td>\n",
       "    </tr>\n",
       "    <tr>\n",
       "      <th>1</th>\n",
       "      <td>2018-08-20 01:00:00</td>\n",
       "      <td>22.29</td>\n",
       "    </tr>\n",
       "    <tr>\n",
       "      <th>2</th>\n",
       "      <td>2018-08-20 02:00:00</td>\n",
       "      <td>22.24</td>\n",
       "    </tr>\n",
       "    <tr>\n",
       "      <th>3</th>\n",
       "      <td>2018-08-20 03:00:00</td>\n",
       "      <td>22.18</td>\n",
       "    </tr>\n",
       "    <tr>\n",
       "      <th>4</th>\n",
       "      <td>2018-08-20 04:00:00</td>\n",
       "      <td>22.13</td>\n",
       "    </tr>\n",
       "    <tr>\n",
       "      <th>...</th>\n",
       "      <td>...</td>\n",
       "      <td>...</td>\n",
       "    </tr>\n",
       "    <tr>\n",
       "      <th>451</th>\n",
       "      <td>2018-09-07 19:00:00</td>\n",
       "      <td>20.21</td>\n",
       "    </tr>\n",
       "    <tr>\n",
       "      <th>452</th>\n",
       "      <td>2018-09-07 20:00:00</td>\n",
       "      <td>20.18</td>\n",
       "    </tr>\n",
       "    <tr>\n",
       "      <th>453</th>\n",
       "      <td>2018-09-07 21:00:00</td>\n",
       "      <td>20.16</td>\n",
       "    </tr>\n",
       "    <tr>\n",
       "      <th>454</th>\n",
       "      <td>2018-09-07 22:00:00</td>\n",
       "      <td>20.18</td>\n",
       "    </tr>\n",
       "    <tr>\n",
       "      <th>455</th>\n",
       "      <td>2018-09-07 23:00:00</td>\n",
       "      <td>20.29</td>\n",
       "    </tr>\n",
       "  </tbody>\n",
       "</table>\n",
       "<p>456 rows × 2 columns</p>\n",
       "</div>"
      ],
      "text/plain": [
       "              date [PST]  temperature [C]\n",
       "0    2018-08-20 00:00:00            22.31\n",
       "1    2018-08-20 01:00:00            22.29\n",
       "2    2018-08-20 02:00:00            22.24\n",
       "3    2018-08-20 03:00:00            22.18\n",
       "4    2018-08-20 04:00:00            22.13\n",
       "..                   ...              ...\n",
       "451  2018-09-07 19:00:00            20.21\n",
       "452  2018-09-07 20:00:00            20.18\n",
       "453  2018-09-07 21:00:00            20.16\n",
       "454  2018-09-07 22:00:00            20.18\n",
       "455  2018-09-07 23:00:00            20.29\n",
       "\n",
       "[456 rows x 2 columns]"
      ]
     },
     "execution_count": 220,
     "metadata": {},
     "output_type": "execute_result"
    }
   ],
   "source": [
    "buoy_data"
   ]
  },
  {
   "cell_type": "markdown",
   "metadata": {},
   "source": [
    "This shows you the top and bottom of the table as well as some descriptors (e.g. 192 rows × 2 columns). If you only want to show the first few rows, apply the method **.head** to the **buoy_data** object:\n",
    "\n",
    "<div class=\"t2c\"></div>"
   ]
  },
  {
   "cell_type": "code",
   "execution_count": 221,
   "metadata": {},
   "outputs": [
    {
     "data": {
      "text/html": [
       "<div>\n",
       "<style scoped>\n",
       "    .dataframe tbody tr th:only-of-type {\n",
       "        vertical-align: middle;\n",
       "    }\n",
       "\n",
       "    .dataframe tbody tr th {\n",
       "        vertical-align: top;\n",
       "    }\n",
       "\n",
       "    .dataframe thead th {\n",
       "        text-align: right;\n",
       "    }\n",
       "</style>\n",
       "<table border=\"1\" class=\"dataframe\">\n",
       "  <thead>\n",
       "    <tr style=\"text-align: right;\">\n",
       "      <th></th>\n",
       "      <th>date [PST]</th>\n",
       "      <th>temperature [C]</th>\n",
       "    </tr>\n",
       "  </thead>\n",
       "  <tbody>\n",
       "    <tr>\n",
       "      <th>0</th>\n",
       "      <td>2018-08-20 00:00:00</td>\n",
       "      <td>22.31</td>\n",
       "    </tr>\n",
       "    <tr>\n",
       "      <th>1</th>\n",
       "      <td>2018-08-20 01:00:00</td>\n",
       "      <td>22.29</td>\n",
       "    </tr>\n",
       "    <tr>\n",
       "      <th>2</th>\n",
       "      <td>2018-08-20 02:00:00</td>\n",
       "      <td>22.24</td>\n",
       "    </tr>\n",
       "    <tr>\n",
       "      <th>3</th>\n",
       "      <td>2018-08-20 03:00:00</td>\n",
       "      <td>22.18</td>\n",
       "    </tr>\n",
       "    <tr>\n",
       "      <th>4</th>\n",
       "      <td>2018-08-20 04:00:00</td>\n",
       "      <td>22.13</td>\n",
       "    </tr>\n",
       "  </tbody>\n",
       "</table>\n",
       "</div>"
      ],
      "text/plain": [
       "            date [PST]  temperature [C]\n",
       "0  2018-08-20 00:00:00            22.31\n",
       "1  2018-08-20 01:00:00            22.29\n",
       "2  2018-08-20 02:00:00            22.24\n",
       "3  2018-08-20 03:00:00            22.18\n",
       "4  2018-08-20 04:00:00            22.13"
      ]
     },
     "execution_count": 221,
     "metadata": {},
     "output_type": "execute_result"
    }
   ],
   "source": [
    "buoy_data.head()"
   ]
  },
  {
   "cell_type": "markdown",
   "metadata": {},
   "source": [
    "<div class=\"Q\"><br>\n",
    "\n",
    "After you ran the following statement  <br><br>\n",
    "buoy_data.head()<br><br>\n",
    "What is the temperature (C) in the first record?\n",
    "\n",
    "<br><br><div class=\"qhelp\"></div></div>"
   ]
  },
  {
   "cell_type": "markdown",
   "metadata": {},
   "source": [
    "Similarly you can show only the end of the table by applying the **.tail** method to the **buoy_data** object:\n",
    "<div class=\"t2c\"></div>"
   ]
  },
  {
   "cell_type": "code",
   "execution_count": 222,
   "metadata": {},
   "outputs": [
    {
     "data": {
      "text/html": [
       "<div>\n",
       "<style scoped>\n",
       "    .dataframe tbody tr th:only-of-type {\n",
       "        vertical-align: middle;\n",
       "    }\n",
       "\n",
       "    .dataframe tbody tr th {\n",
       "        vertical-align: top;\n",
       "    }\n",
       "\n",
       "    .dataframe thead th {\n",
       "        text-align: right;\n",
       "    }\n",
       "</style>\n",
       "<table border=\"1\" class=\"dataframe\">\n",
       "  <thead>\n",
       "    <tr style=\"text-align: right;\">\n",
       "      <th></th>\n",
       "      <th>date [PST]</th>\n",
       "      <th>temperature [C]</th>\n",
       "    </tr>\n",
       "  </thead>\n",
       "  <tbody>\n",
       "    <tr>\n",
       "      <th>451</th>\n",
       "      <td>2018-09-07 19:00:00</td>\n",
       "      <td>20.21</td>\n",
       "    </tr>\n",
       "    <tr>\n",
       "      <th>452</th>\n",
       "      <td>2018-09-07 20:00:00</td>\n",
       "      <td>20.18</td>\n",
       "    </tr>\n",
       "    <tr>\n",
       "      <th>453</th>\n",
       "      <td>2018-09-07 21:00:00</td>\n",
       "      <td>20.16</td>\n",
       "    </tr>\n",
       "    <tr>\n",
       "      <th>454</th>\n",
       "      <td>2018-09-07 22:00:00</td>\n",
       "      <td>20.18</td>\n",
       "    </tr>\n",
       "    <tr>\n",
       "      <th>455</th>\n",
       "      <td>2018-09-07 23:00:00</td>\n",
       "      <td>20.29</td>\n",
       "    </tr>\n",
       "  </tbody>\n",
       "</table>\n",
       "</div>"
      ],
      "text/plain": [
       "              date [PST]  temperature [C]\n",
       "451  2018-09-07 19:00:00            20.21\n",
       "452  2018-09-07 20:00:00            20.18\n",
       "453  2018-09-07 21:00:00            20.16\n",
       "454  2018-09-07 22:00:00            20.18\n",
       "455  2018-09-07 23:00:00            20.29"
      ]
     },
     "execution_count": 222,
     "metadata": {},
     "output_type": "execute_result"
    }
   ],
   "source": [
    "buoy_data.tail()"
   ]
  },
  {
   "cell_type": "markdown",
   "metadata": {},
   "source": [
    "<div class=\"Q\"><br>\n",
    "\n",
    "After running the following statement  <br><br>\n",
    "buoy_data.tail()<br><br>\n",
    "What is the last temperature in your table?\n",
    "\n",
    "<br><br><div class=\"qhelp\"></div></div>"
   ]
  },
  {
   "cell_type": "markdown",
   "metadata": {},
   "source": [
    "Instead of referring to the entire table (**buoy_data**), you can just refer to one column. The table is a Python dictionary where the \"header\" of each column is the dictionary key which will return the entire column. For example, to refer ONLY to the temperature column, <span class=\"t2c\"></span>:"
   ]
  },
  {
   "cell_type": "code",
   "execution_count": 223,
   "metadata": {},
   "outputs": [
    {
     "data": {
      "text/plain": [
       "0      22.31\n",
       "1      22.29\n",
       "2      22.24\n",
       "3      22.18\n",
       "4      22.13\n",
       "       ...  \n",
       "451    20.21\n",
       "452    20.18\n",
       "453    20.16\n",
       "454    20.18\n",
       "455    20.29\n",
       "Name: temperature [C], Length: 456, dtype: float64"
      ]
     },
     "execution_count": 223,
     "metadata": {},
     "output_type": "execute_result"
    }
   ],
   "source": [
    "buoy_data['temperature [C]']"
   ]
  },
  {
   "cell_type": "markdown",
   "metadata": {},
   "source": [
    "Lets calculate the average temperature by applying the **.mean** method only to the 'temperature [C]' column:\n",
    "\n",
    "<div class=\"t2c\"></div>"
   ]
  },
  {
   "cell_type": "code",
   "execution_count": 224,
   "metadata": {},
   "outputs": [
    {
     "data": {
      "text/plain": [
       "20.861206140350866"
      ]
     },
     "execution_count": 224,
     "metadata": {},
     "output_type": "execute_result"
    }
   ],
   "source": [
    "buoy_data['temperature [C]'].mean()"
   ]
  },
  {
   "cell_type": "markdown",
   "metadata": {},
   "source": [
    "Similarly, you can calculate the minimum, maximum, median, standard deviation, mode, etc...\n",
    "<div class=\"t2c\"></div>"
   ]
  },
  {
   "cell_type": "code",
   "execution_count": 225,
   "metadata": {},
   "outputs": [
    {
     "data": {
      "text/plain": [
       "19.64"
      ]
     },
     "execution_count": 225,
     "metadata": {},
     "output_type": "execute_result"
    }
   ],
   "source": [
    "buoy_data['temperature [C]'].min()\n"
   ]
  },
  {
   "cell_type": "code",
   "execution_count": 226,
   "metadata": {},
   "outputs": [
    {
     "data": {
      "text/plain": [
       "22.42"
      ]
     },
     "execution_count": 226,
     "metadata": {},
     "output_type": "execute_result"
    }
   ],
   "source": [
    "buoy_data['temperature [C]'].max()\n"
   ]
  },
  {
   "cell_type": "code",
   "execution_count": 227,
   "metadata": {},
   "outputs": [
    {
     "data": {
      "text/plain": [
       "20.74"
      ]
     },
     "execution_count": 227,
     "metadata": {},
     "output_type": "execute_result"
    }
   ],
   "source": [
    "buoy_data['temperature [C]'].median()\n"
   ]
  },
  {
   "cell_type": "code",
   "execution_count": 228,
   "metadata": {},
   "outputs": [
    {
     "data": {
      "text/plain": [
       "0.731239256140188"
      ]
     },
     "execution_count": 228,
     "metadata": {},
     "output_type": "execute_result"
    }
   ],
   "source": [
    "buoy_data['temperature [C]'].std()\n"
   ]
  },
  {
   "cell_type": "code",
   "execution_count": 229,
   "metadata": {},
   "outputs": [
    {
     "data": {
      "text/plain": [
       "0    20.12\n",
       "dtype: float64"
      ]
     },
     "execution_count": 229,
     "metadata": {},
     "output_type": "execute_result"
    }
   ],
   "source": [
    "buoy_data['temperature [C]'].mode()\n"
   ]
  },
  {
   "cell_type": "markdown",
   "metadata": {},
   "source": [
    "---------------------------------\n",
    "\n",
    "## Real-life case study #2: Downloading real-time data from a Glider (Autonomous Underwater Vehicle) from Nova Scotia\n",
    "\n",
    "<table>\n",
    "  <tr>\n",
    "    <td><img src=\"slocum_glider.jpg\" width=\"400px\">Slocum Glider</td>\n",
    "    <td><img src=\"./otn200.png\" width=\"500px\">Current deployment</td>\n",
    "  </tr>\n",
    "</table>\n",
    "\n",
    "\n",
    "\n",
    "The code below pulls data from a glider currently deployed off the coast of Nova Scotia (http://gliders.oceantrack.org/). The code also does a simple quality control and makes a rough depth-vs-time scatter plot.\n",
    "\n",
    "In ***Spyder*** open a new file, name it <span class=\"file\">glider.py</span>, copy-paste the code below and click <span class=\"run\"></span>."
   ]
  },
  {
   "cell_type": "code",
   "execution_count": 230,
   "metadata": {},
   "outputs": [
    {
     "data": {
      "text/plain": [
       "<matplotlib.axes._subplots.AxesSubplot at 0x1f0d55ca8b0>"
      ]
     },
     "execution_count": 230,
     "metadata": {},
     "output_type": "execute_result"
    },
    {
     "data": {
      "image/png": "[encoded data removed]",
      "text/plain": [
       "<Figure size 1368x648 with 2 Axes>"
      ]
     },
     "metadata": {
      "needs_background": "light"
     },
     "output_type": "display_data"
    }
   ],
   "source": [
    "# Import Pandas module\n",
    "import pandas as pd\n",
    "\n",
    "# Define URL of glider\n",
    "URL = 'http://gliders.oceantrack.org/data/live/otn201_sci_water_temp_live.csv'\n",
    "\n",
    "# Read data from glider server\n",
    "glider_data = pd.read_csv(URL,sep=',')\n",
    "\n",
    "# Quality Control: Filter out data above 40oC and below -8oC\n",
    "glider_data = glider_data[(glider_data.sci_water_temp < 40) & (glider_data.sci_water_temp > -8)]\n",
    "\n",
    "# Make a scatter plot\n",
    "glider_data.plot.scatter('unixtime',\n",
    "                         'depth',\n",
    "                         c='sci_water_temp',\n",
    "                         marker='o',\n",
    "                         edgecolor='none',\n",
    "                         cmap='viridis',\n",
    "                         ylim=[glider_data['depth'].max(),0],\n",
    "                         figsize=[19,9])"
   ]
  },
  {
   "cell_type": "markdown",
   "metadata": {},
   "source": [
    "The left side of the graph shows the data collected at the beginning of the deployment. The right side of the graph shows the most recently collected data. The top of the graph shows the temperature close to the surface (0 m) while data points at the bottom of the graph represent temperature near the bottom (~150 m). "
   ]
  },
  {
   "cell_type": "markdown",
   "metadata": {},
   "source": [
    "Take a look inside `glider_data`\n",
    "\n",
    "<div class=\"t2c\"></div>"
   ]
  },
  {
   "cell_type": "code",
   "execution_count": 231,
   "metadata": {},
   "outputs": [
    {
     "data": {
      "text/html": [
       "<div>\n",
       "<style scoped>\n",
       "    .dataframe tbody tr th:only-of-type {\n",
       "        vertical-align: middle;\n",
       "    }\n",
       "\n",
       "    .dataframe tbody tr th {\n",
       "        vertical-align: top;\n",
       "    }\n",
       "\n",
       "    .dataframe thead th {\n",
       "        text-align: right;\n",
       "    }\n",
       "</style>\n",
       "<table border=\"1\" class=\"dataframe\">\n",
       "  <thead>\n",
       "    <tr style=\"text-align: right;\">\n",
       "      <th></th>\n",
       "      <th>unixtime</th>\n",
       "      <th>lat</th>\n",
       "      <th>lon</th>\n",
       "      <th>depth</th>\n",
       "      <th>sci_water_temp</th>\n",
       "    </tr>\n",
       "  </thead>\n",
       "  <tbody>\n",
       "    <tr>\n",
       "      <th>0</th>\n",
       "      <td>1.469369e+09</td>\n",
       "      <td>48.337975</td>\n",
       "      <td>-64.175423</td>\n",
       "      <td>0.000000</td>\n",
       "      <td>0.0000</td>\n",
       "    </tr>\n",
       "    <tr>\n",
       "      <th>1</th>\n",
       "      <td>1.469369e+09</td>\n",
       "      <td>48.337438</td>\n",
       "      <td>-64.171928</td>\n",
       "      <td>90.088686</td>\n",
       "      <td>0.9753</td>\n",
       "    </tr>\n",
       "    <tr>\n",
       "      <th>2</th>\n",
       "      <td>1.469369e+09</td>\n",
       "      <td>48.337437</td>\n",
       "      <td>-64.171921</td>\n",
       "      <td>90.123090</td>\n",
       "      <td>0.9856</td>\n",
       "    </tr>\n",
       "    <tr>\n",
       "      <th>3</th>\n",
       "      <td>1.469369e+09</td>\n",
       "      <td>48.337436</td>\n",
       "      <td>-64.171909</td>\n",
       "      <td>90.179436</td>\n",
       "      <td>0.9772</td>\n",
       "    </tr>\n",
       "    <tr>\n",
       "      <th>4</th>\n",
       "      <td>1.469369e+09</td>\n",
       "      <td>48.337435</td>\n",
       "      <td>-64.171897</td>\n",
       "      <td>90.240740</td>\n",
       "      <td>0.9767</td>\n",
       "    </tr>\n",
       "  </tbody>\n",
       "</table>\n",
       "</div>"
      ],
      "text/plain": [
       "       unixtime        lat        lon      depth  sci_water_temp\n",
       "0  1.469369e+09  48.337975 -64.175423   0.000000          0.0000\n",
       "1  1.469369e+09  48.337438 -64.171928  90.088686          0.9753\n",
       "2  1.469369e+09  48.337437 -64.171921  90.123090          0.9856\n",
       "3  1.469369e+09  48.337436 -64.171909  90.179436          0.9772\n",
       "4  1.469369e+09  48.337435 -64.171897  90.240740          0.9767"
      ]
     },
     "execution_count": 231,
     "metadata": {},
     "output_type": "execute_result"
    }
   ],
   "source": [
    "glider_data.head()"
   ]
  },
  {
   "cell_type": "markdown",
   "metadata": {},
   "source": [
    "Tough question: What is the maximum depth recorded in this dataset? Hint: Apply the **.max** method on the \"depth\" column."
   ]
  },
  {
   "cell_type": "markdown",
   "metadata": {},
   "source": [
    "<div class=\"Q\"><br>\n",
    "\n",
    "What is the **maximum** depth recorded in glider_data?  <br><br>\n",
    "\n",
    "<br><br><div class=\"qhelp\"></div></div>"
   ]
  },
  {
   "cell_type": "markdown",
   "metadata": {},
   "source": [
    "More tough questions:"
   ]
  },
  {
   "cell_type": "markdown",
   "metadata": {},
   "source": [
    "<div class=\"Q\"><br>\n",
    "\n",
    "What is the **maximum** water temperature recorded in the \"sci_water_temp\" column within glider_data?  <br><br>\n",
    "\n",
    "<br><br><div class=\"qhelp\"></div></div>\n"
   ]
  },
  {
   "cell_type": "markdown",
   "metadata": {},
   "source": [
    "<div class=\"Q\"><br>\n",
    "\n",
    "What is the **minimum** water temperature recorded in the \"sci_water_temp\" column within glider_data?  <br><br>\n",
    "\n",
    "<br><br><div class=\"qhelp\"></div></div>\n"
   ]
  },
  {
   "cell_type": "markdown",
   "metadata": {},
   "source": [
    "\n",
    "<div class=\"Q\"><br>\n",
    "\n",
    "How many records are in the \"sci_water_temp\" column within glider_data?   <br><br>\n",
    "\n",
    "<br><br><div class=\"qhelp\"></div></div>"
   ]
  },
  {
   "cell_type": "markdown",
   "metadata": {},
   "source": [
    "## Installing new modules\n",
    "\n",
    "\n",
    "<img src=\"./install_import.png\" width=\"400px\">\n",
    "\n",
    "Before we do our last \"Real-life case study\", we need to install 3 modules that do not come pre-installed with `Anaconda`. There are several ways to install Python modules and libraries, here we will use `conda`. Note that normally you only need to install a module once (it will remain installed until you manually remove it). However, because the lab computers are wiped out clean every night, you may need to install the same module several times during this course. Lets install 3 modules (i.e. netcdf4, cartopy and cmocean). I'll explain what these modules do later.\n",
    "\n",
    "* Open the <span class='terminal'></span> by typing in the Window's Task Bar the term **\"Anaconda Promt\"** (in Mac, you can search in the Launchpad for \"Terminal\")\n",
    "* To install `netcdf4`, type in the ***Terminal***: \n",
    "<div class='terminalBlock'>conda install -c anaconda netcdf4</div>\n",
    "* Click [Enter]\n",
    "* If it asks you \"are you sure?\", type \"y\" and click [Enter] again.\n",
    "* To install `cartopy`, type in the ***Terminal***:\n",
    "<div class='terminalBlock'>conda install -c conda-forge cartopy</div>\n",
    "* Click [Enter]\n",
    "* If it asks you \"are you sure?\", type \"y\" and click [Enter] again.\n",
    "* To install `cmocean`, type in the ***Terminal***:\n",
    "<div class='terminalBlock'>conda install -c conda-forge cmocean</div>\n",
    "* Click [Enter]\n",
    "* If it asks you \"are you sure?\", type \"y\" and click [Enter] again.\n",
    "\n",
    "Done! The new modules are now installed (again, I'll explain how to use these new modules below)."
   ]
  },
  {
   "cell_type": "markdown",
   "metadata": {},
   "source": [
    "---------------------------\n",
    "\n",
    "## Real-life case study #3: Downloading Satellite data from an ERDDAP server\n",
    "\n",
    "\n",
    "<img src=\"poes-750.jpg\" width=\"600px\">\n",
    "\n",
    "ERDDAP is a data server that simplifies the download of subsets of scientific datasets to make graphs and maps (We'll learn more about ERDDAP in another lab).\n",
    "\n",
    "Here we will be using one of NOAA's ERDDAP: https://coastwatch.pfeg.noaa.gov/erddap/info/index.html?page=1&itemsPerPage=2000\n",
    "\n",
    "\n",
    "<br>\n",
    "\n",
    "<span class=\"important\"></span> If you haven't installed `netcdf4`, `catopy` and `cmocean` yet.... take a look at the section above.\n",
    "\n",
    "----------\n",
    "\n",
    "First, lets get ourselves some Sea Surface Temperature (SST) from the Nova Scotia region. For this we will use an ERDDAP product consisting on 6-month averages of several POES satellites.\n",
    "\n",
    "In Spyder's ***Editor*** open a new file and save it as `satellite.py`. Copy-paste the code below and click <span class='run'></span>\n",
    "\n",
    "Note that the code below is pretty much \"the real deal\". It is as complicated as it gets with Python, yet it is just a series of statements declaring variables and applying functions and methods. Note that, **by convention**, at the top of the file you import all the modules you need."
   ]
  },
  {
   "cell_type": "code",
   "execution_count": 232,
   "metadata": {},
   "outputs": [
    {
     "data": {
      "text/plain": [
       "<cartopy.mpl.feature_artist.FeatureArtist at 0x1f0d56a0100>"
      ]
     },
     "execution_count": 232,
     "metadata": {},
     "output_type": "execute_result"
    },
    {
     "data": {
      "image/png": "[encoded data removed]",
      "text/plain": [
       "<Figure size 936x936 with 1 Axes>"
      ]
     },
     "metadata": {
      "needs_background": "light"
     },
     "output_type": "display_data"
    }
   ],
   "source": [
    "import urllib.request\n",
    "import netCDF4\n",
    "import numpy as np \n",
    "import matplotlib.pyplot as plt \n",
    "import cartopy.crs as ccrs \n",
    "import cartopy.feature as cfeature \n",
    "import cmocean \n",
    "\n",
    "# Define the spatial and temporal box of interest\n",
    "year = 2015\n",
    "month = 8\n",
    "minlat = 38\n",
    "maxlat = 48\n",
    "minlon = -67\n",
    "maxlon = -50\n",
    "isub = 0.5\n",
    "\n",
    "# Make \"minday\" and \"maxday\" strings by concatenating several pieces\n",
    "minday = str(year)+'-'+str(month).zfill(2)+'-11T12:00:00Z'\n",
    "maxday = str(year)+'-'+str(month+1).zfill(2)+'-11T12:00:00Z'\n",
    "\n",
    "# Create the URL\n",
    "base_url='http://coastwatch.pfeg.noaa.gov/erddap/griddap/erdAGsstamday_LonPM180.nc?'\n",
    "query='sst[('+minday+'):'+str(isub)+':('+maxday+')][(0.0):'+str(isub)+':(0.0)][('+str(minlat)+'):'+str(isub)+':('+str(maxlat)+')][('+str(minlon)+'):'+str(isub)+':('+str(maxlon)+')]'\n",
    "url = base_url+query\n",
    "\n",
    "# Download data and store it in a NetCDF file\n",
    "filename='satellite_data_tempfile.nc'\n",
    "urllib.request.urlretrieve (url, filename)\n",
    "\n",
    "# open NetCDF data\n",
    "nc = netCDF4.Dataset(filename)\n",
    "ncv = nc.variables\n",
    "\n",
    "# Extract variables of interest from inside the NetCDF file\n",
    "lon = ncv['longitude'][:]\n",
    "lat = ncv['latitude'][:]\n",
    "sst = ncv['sst'][0,0,:,:]\n",
    "\n",
    "# Make grids of lats and lons for later use to make maps\n",
    "lons, lats = np.meshgrid(lon,lat)\n",
    "\n",
    "\n",
    "#%% Create map (PlateCarree Projection) \n",
    "fig = plt.figure(figsize=(13,13)) # Create figure\n",
    "ax = plt.axes(projection=ccrs.PlateCarree()) # Create axis within figure (with projection)\n",
    "ax.pcolormesh(lons, lats, sst, transform=ccrs.PlateCarree()) # Add colormap to axis (specifying projection of data) \n",
    "ax.coastlines(resolution='10m') # Add coastline to axis\n"
   ]
  },
  {
   "cell_type": "markdown",
   "metadata": {},
   "source": [
    "Take a look at the generated map. You can see the Gulf Stream in the south (bottom of the graph), which has temperatures in excess of 25$^\\circ$C. You can also see that in the Bay of Fundy (Nova Scotia) the temperature is cold (about 13$^\\circ$C), likely because the extreme tides cause a lot of vertical mixing which brings cold water to the surface. \n",
    "\n",
    "What do you think is the average temperature in the whole map?\n",
    "\n",
    "Luckily this is easy to find by applying the **.mean** method to out Sea Surface Temperature data (sst):\n",
    "<div class=\"t2c\"></div>"
   ]
  },
  {
   "cell_type": "code",
   "execution_count": 233,
   "metadata": {},
   "outputs": [
    {
     "data": {
      "text/plain": [
       "21.849518880725444"
      ]
     },
     "execution_count": 233,
     "metadata": {},
     "output_type": "execute_result"
    }
   ],
   "source": [
    "sst.mean()"
   ]
  },
  {
   "cell_type": "markdown",
   "metadata": {},
   "source": [
    "Lets see if you can figure out what are the minimum and the maximum temperatures is sst.\n",
    "<div class=\"t2c\"></div>"
   ]
  },
  {
   "cell_type": "code",
   "execution_count": 237,
   "metadata": {},
   "outputs": [
    {
     "data": {
      "text/plain": [
       "10.875"
      ]
     },
     "execution_count": 237,
     "metadata": {},
     "output_type": "execute_result"
    }
   ],
   "source": [
    "sst.min()"
   ]
  },
  {
   "cell_type": "markdown",
   "metadata": {},
   "source": [
    "<div class=\"Q\"><br>\n",
    "\n",
    "What is the **minimum** recorded Sea Surface Temperature in the sst data?   <br><br>\n",
    "\n",
    "<br><br><div class=\"qhelp\"></div></div>\n"
   ]
  },
  {
   "cell_type": "markdown",
   "metadata": {},
   "source": [
    "<div class=\"Q\"><br>\n",
    "\n",
    "What is the **maximum** recorded Sea Surface Temperature in the sst data?   <br><br>\n",
    "\n",
    "<br><br><div class=\"qhelp\"></div></div>"
   ]
  },
  {
   "cell_type": "markdown",
   "metadata": {},
   "source": [
    "Lets do another map, this time using a \"Lamber Conformal Conic Projection\". Luckily, you can use the same data (i.e. no need to download data again), and simply create the new map with the new projection.\n",
    "\n",
    "In this map I added some extra labels, colorbar and shadeRelief.\n",
    "\n",
    "We'll only use this map once, thus <span class=\"c2c\"></span> and click [Enter]."
   ]
  },
  {
   "cell_type": "code",
   "execution_count": 235,
   "metadata": {},
   "outputs": [
    {
     "data": {
      "text/plain": [
       "Text(0.5, 1.0, 'Satellite SST (Monthly composite for 2015/8)')"
      ]
     },
     "execution_count": 235,
     "metadata": {},
     "output_type": "execute_result"
    },
    {
     "data": {
      "image/png": "[encoded data removed]",
      "text/plain": [
       "<Figure size 936x936 with 2 Axes>"
      ]
     },
     "metadata": {
      "needs_background": "light"
     },
     "output_type": "display_data"
    }
   ],
   "source": [
    "import matplotlib.pyplot as plt\n",
    "\n",
    "#%% Create map (LambertConformal Projection)\n",
    "# Create figure\n",
    "fig = plt.figure(figsize=(13,13))\n",
    "# Create axis within figure (with projection)\n",
    "ax = plt.axes(projection=ccrs.LambertConformal(central_longitude=(maxlon+minlon)/2, central_latitude=(maxlat+minlat)/2)) \n",
    "# Add colormap to axis (specifying projection of data) \n",
    "cs = ax.pcolormesh(lons, lats, sst, cmap=cmocean.cm.thermal, transform=ccrs.PlateCarree()) \n",
    "# Add colorbar\n",
    "cbar = fig.colorbar(cs, shrink=0.6, orientation='vertical', extend='both') \n",
    "# Add legend to colorbar\n",
    "cbar.set_label('Sea Surface Temperature ($^\\circ$C)') \n",
    " # Add land to axis\n",
    "ax.add_feature(cfeature.NaturalEarthFeature(category='physical', scale='10m',facecolor='none', name='coastline'),\n",
    "               edgecolor='#666666', facecolor='#bfbfbf')\n",
    "# Add gridlines to axis\n",
    "ax.gridlines()\n",
    "# Add title to figure\n",
    "plt.title('Satellite SST (Monthly composite for '+str(year)+'/'+str(month)+')') "
   ]
  },
  {
   "cell_type": "markdown",
   "metadata": {},
   "source": [
    "We will have a more in depth Lab about making maps with Cartopy. In the mean time, feel free to explore other projections and make some extra maps. Here are some Galleries:\n",
    "\n",
    "https://scitools.org.uk/cartopy/docs/latest/crs/projections.html\n",
    "\n",
    "https://scitools.org.uk/cartopy/docs/latest/gallery/index.html\n"
   ]
  },
  {
   "cell_type": "markdown",
   "metadata": {},
   "source": [
    "<div class=\"Q\"><br>\n",
    "\n",
    "From the code above... which of the following are **\"functions\"** or **\"methods\"**? \n",
    "    \n",
    "Note that these **\"functions\"** or **\"methods\"** have fixed names, the coder has no choice but to use the correct **\"function\"** or **\"method\"** names.\n",
    "\n",
    "<br><br><div class=\"qhelp\"></div></div>"
   ]
  },
  {
   "cell_type": "markdown",
   "metadata": {},
   "source": [
    "<div class=\"Q\"><br>\n",
    "\n",
    "From the code above... which of the following are **\"variables\"**? \n",
    "    \n",
    "Note that these **variables** have names that the coder chose (e.g. a coder can write **a** = 1  ... or **b** = 1 ... or **alpha** = 1 ... or **my_variable** = 1).\n",
    "\n",
    "<br><br><div class=\"qhelp\"></div></div>"
   ]
  },
  {
   "cell_type": "markdown",
   "metadata": {},
   "source": [
    "<div class=\"Q\"><br>\n",
    "\n",
    "From the code above... in the line  <br>\n",
    "    \n",
    "    fig = plt.figure(figsize=(13,13))\n",
    "    \n",
    "What is **fig**?\n",
    "\n",
    "<br><br><div class=\"qhelp\"></div></div>"
   ]
  },
  {
   "cell_type": "markdown",
   "metadata": {},
   "source": [
    "<div class=\"Q\"><br>\n",
    "\n",
    "From the code above... in the line  <br>\n",
    "    \n",
    "    fig = plt.figure(figsize=(13,13))\n",
    "    \n",
    "What is **plt.figure**?\n",
    "\n",
    "<br><br><div class=\"qhelp\"></div></div>"
   ]
  },
  {
   "cell_type": "markdown",
   "metadata": {},
   "source": [
    "<div class=\"Q\"><br>\n",
    "\n",
    "From the code above... in the line  <br>\n",
    "    \n",
    "    cbar = fig.colorbar(cs, shrink=0.6, orientation='vertical', extend='both') )\n",
    "    \n",
    "What is **.colorbar**?\n",
    "\n",
    "<br><br><div class=\"qhelp\"></div></div>"
   ]
  },
  {
   "cell_type": "markdown",
   "metadata": {
    "collapsed": true
   },
   "source": [
    "\n",
    "# **This is the end of lab**\n",
    "\n",
    "*******************\n",
    "*******************\n",
    "\n",
    "Code below is for formatting of this lab. Do not alter!"
   ]
  },
  {
   "cell_type": "code",
   "execution_count": 240,
   "metadata": {},
   "outputs": [
    {
     "data": {
      "text/html": [
       "<style>\n",
       "\n",
       "body {\n",
       "  counter-reset: question_num;                     /* Set a counter named 'section', and it`s initial value is 0. */\n",
       "}\n",
       "\n",
       "/* Question Box */\n",
       ".Q {\n",
       "    background-color:#ff9900;\n",
       "    color:black;\n",
       "    font-size:17px;\n",
       "    width:100%;\n",
       "    border:1px solid #666666;\n",
       "    padding:5px;\n",
       "}\n",
       "\n",
       ".Q::before {\n",
       "    counter-increment: question_num;\n",
       "    content: \"QUESTION \" counter(question_num) '\\A';\n",
       "    white-space: pre;\n",
       "}\n",
       "\n",
       ".qhelp {\n",
       "    color:#666666;\n",
       "    font-size:15px\n",
       "}\n",
       "\n",
       ".qhelp::after {\n",
       "    content: \"Answer this question in the corresponding Brightspace LAB quiz\"\n",
       "}\n",
       "\n",
       "\n",
       "\n",
       "/* code */\n",
       ".rendered_html pre, .rendered_html code {\n",
       "    font-family: \"SF Mono\",\"Segoe UI Mono\",\"Roboto Mono\",\"Ubuntu Mono\",Menlo,Courier,monospace;\n",
       "    padding: 1px 3px;\n",
       "    border: 1px solid #e6e6e6;\n",
       "    border-radius: 3px;\n",
       "    background: #e6e6e6;\n",
       "    font-size: 12px;\n",
       "    line-height: 1.4;\n",
       "    color: #0052CC;\n",
       "}\n",
       "\n",
       "\n",
       "/* Copy to CONSOLE */\n",
       ".c2c {\n",
       "    background-color:#d2d2d2;\n",
       "    color:#ff8080;\n",
       "    font-size:13px;\n",
       "    border:1px solid #bfbfbf;\n",
       "    padding:1px 3px;\n",
       "    border-radius: 3px;\n",
       "    margin-top: 10px;\n",
       "    display: inline-block;\n",
       "}\n",
       "\n",
       ".c2c::before {\n",
       "    content: \"Copy-paste into Spyder's Console\";\n",
       "}\n",
       "\n",
       "/* Type in CONSOLE */\n",
       ".t2c {\n",
       "    background-color:#d2d2d2;\n",
       "    color:#ff8080;\n",
       "    font-size:13px;\n",
       "    border:1px solid #bfbfbf;\n",
       "    padding:1px 3px;\n",
       "    border-radius: 3px;\n",
       "    margin-top: 10px;\n",
       "    display: inline-block;\n",
       "}\n",
       "\n",
       ".t2c::before {\n",
       "    content: \"Type into Spyder's Console\";\n",
       "}\n",
       "\n",
       "\n",
       "/* RUN */\n",
       ".run {\n",
       "    background-color:#d2d2d2;\n",
       "    color:#00b300;\n",
       "    font-size: 12px;\n",
       "    line-height: 1.4;\n",
       "    font-weight: bold;\n",
       "    border:1px solid #bfbfbf;\n",
       "    padding-top:0px;\n",
       "    padding-bottom:0px;\n",
       "    padding-left:3px;\n",
       "    padding-right:3px;\n",
       "    border-radius: 3px;\n",
       "    display: inline-block;\n",
       "}\n",
       ".run::before {\n",
       "    content: \"\\25B6\" \"RUN\";\n",
       "}\n",
       "\n",
       "/* RUN */\n",
       ".runcell {\n",
       "    background-color:#d2d2d2;\n",
       "    color:#00b300;\n",
       "    font-size: 12px;\n",
       "    line-height: 1.4;\n",
       "    border:1px solid #bfbfbf;\n",
       "    padding-top:0px;\n",
       "    padding-bottom:0px;\n",
       "    padding-left:3px;\n",
       "    padding-right:3px;\n",
       "    border-radius: 3px;\n",
       "    display: inline-block;\n",
       "}\n",
       ".runcell::before {\n",
       "    content: \"RUN current cell\";\n",
       "}\n",
       "\n",
       "/* FILE */\n",
       ".file {\n",
       "    color:#b36b00;\n",
       "    font-size: 12px;\n",
       "    line-height: 1.4;\n",
       "    font-weight: bold;\n",
       "    border:1px solid #bfbfbf;\n",
       "    padding-top:0px;\n",
       "    padding-bottom:0px;\n",
       "    padding-left:3px;\n",
       "    padding-right:3px;\n",
       "    border-radius: 3px;\n",
       "    display: inline-block;\n",
       "}\n",
       "\n",
       "/* important */\n",
       ".important {\n",
       "    background-color:#ff4d4d;\n",
       "    color:black;\n",
       "    font-size: 13px;\n",
       "    line-height: 1.4;\n",
       "    font-weight: bold;\n",
       "    border:1px solid #bfbfbf;\n",
       "    padding-top:0px;\n",
       "    padding-bottom:0px;\n",
       "    padding-left:3px;\n",
       "    padding-right:3px;\n",
       "    border-radius: 3px;\n",
       "    display: inline-block;\n",
       "    margin-top:5px;\n",
       "}\n",
       ".important::before {\n",
       "    content: \"Important:\";\n",
       "}\n",
       "\n",
       "/* important */\n",
       ".note {\n",
       "    background-color:#ffff80;\n",
       "    color:black;\n",
       "    font-size: 13px;\n",
       "    line-height: 1.4;\n",
       "    font-weight: bold;\n",
       "    border:1px solid #bfbfbf;\n",
       "    padding-top:0px;\n",
       "    padding-bottom:0px;\n",
       "    padding-left:3px;\n",
       "    padding-right:3px;\n",
       "    border-radius: 3px;\n",
       "    display: inline-block;\n",
       "    margin-top:5px;\n",
       "}\n",
       ".note::before {\n",
       "    content: \"Note:\";\n",
       "}\n",
       "\n",
       "\n",
       ".nomenclature {\n",
       "    font-family: \"SF Mono\",\"Segoe UI Mono\",\"Roboto Mono\",\"Ubuntu Mono\",Menlo,Courier,monospace;\n",
       "    background-color:#ffff80;\n",
       "    color:black;\n",
       "    font-size: 20px;\n",
       "    line-height: 1.4;\n",
       "    font-weight: bold;\n",
       "    border:1px solid #bfbfbf;\n",
       "    padding:15px;\n",
       "    display: inline-block;\n",
       "    margin-top:5px;\n",
       "}\n",
       "\n",
       "\n",
       "/* checkpoint */\n",
       ".checkpoint {\n",
       "    background-color:yellow;\n",
       "    color:blue;\n",
       "    font-size: 15px;\n",
       "    line-height: 1.4;\n",
       "    font-weight: bold;\n",
       "    border:1px solid #bfbfbf;\n",
       "    padding-top:0px;\n",
       "    padding-bottom:0px;\n",
       "    padding-left:3px;\n",
       "    padding-right:3px;\n",
       "    border-radius: 3px;\n",
       "    display: inline-block;\n",
       "    margin-top:5px;\n",
       "}\n",
       "\n",
       ".codeerror {\n",
       "    background-color:#ffb3b3;\n",
       "    color:red;\n",
       "    font-size: 13px;\n",
       "    line-height: 1.4;\n",
       "    border:1px solid #ffb3b3;\n",
       "    padding-top:7px;\n",
       "    padding-bottom:7px;\n",
       "    padding-left:7px;\n",
       "    padding-right:7px;\n",
       "    border-radius: 3px;\n",
       "    margin:20px;\n",
       "    margin-left:25px;\n",
       "}\n",
       "\n",
       ".lineerror {\n",
       "    background-color:#ffb3b3;\n",
       "    color:red;\n",
       "    font-size: 13px;\n",
       "    line-height: 1.4;\n",
       "    border:1px solid #ffb3b3;\n",
       "    padding-top:0px;\n",
       "    padding-bottom:0px;\n",
       "    padding-left:3px;\n",
       "    padding-right:3px;\n",
       "    border-radius: 3px;\n",
       "    display: inline-block;\n",
       "    margin-top:5px;\n",
       "}\n",
       "\n",
       "\n",
       "/* terminal */\n",
       ".terminal {\n",
       "    background-color:black;\n",
       "    color:white;\n",
       "    font-size: 12px;\n",
       "    line-height: 1.4;\n",
       "    border:1px solid black;\n",
       "    padding-top:0px;\n",
       "    padding-bottom:0px;\n",
       "    padding-left:3px;\n",
       "    padding-right:3px;\n",
       "    border-radius: 3px;\n",
       "    display: inline-block;\n",
       "}\n",
       ".terminal::before {\n",
       "    content: \"Terminal (i.e. Anaconda Promt)\";\n",
       "}\n",
       ".terminalBlock {\n",
       "    background-color:black;\n",
       "    color:white;\n",
       "    font-size: 14px;\n",
       "    line-height: 1.4;\n",
       "    border:1px solid black;\n",
       "    padding-top:7px;\n",
       "    padding-bottom:7px;\n",
       "    padding-left:7px;\n",
       "    padding-right:7px;\n",
       "    border-radius: 3px;\n",
       "    margin:20px;\n",
       "    margin-left:25px;\n",
       "}\n",
       "\n",
       "/* Headers */\n",
       "h2 {\n",
       "    background-color:#99d6ff;\n",
       "    border:1px solid #007acc;\n",
       "    padding:8px;\n",
       "}\n",
       "\n",
       "h3 {\n",
       "    background-color:#ccebff;\n",
       "    border:1px solid #b3e0ff;\n",
       "    padding:2px;\n",
       "}\n",
       "\n",
       "</style>"
      ],
      "text/plain": [
       "<IPython.core.display.HTML object>"
      ]
     },
     "execution_count": 240,
     "metadata": {},
     "output_type": "execute_result"
    }
   ],
   "source": [
    "# Loads css file and applies it to lab HTML\n",
    "from IPython.core.display import HTML\n",
    "def css():\n",
    "    style = open(\"../css/custom.css\", \"r\").read()\n",
    "    return HTML(style)\n",
    "css()"
   ]
  },
  {
   "cell_type": "code",
   "execution_count": null,
   "metadata": {},
   "outputs": [],
   "source": []
  }
 ],
 "metadata": {
  "anaconda-cloud": {},
  "kernelspec": {
   "display_name": "Python 3",
   "language": "python",
   "name": "python3"
  },
  "language_info": {
   "codemirror_mode": {
    "name": "ipython",
    "version": 3
   },
   "file_extension": ".py",
   "mimetype": "text/x-python",
   "name": "python",
   "nbconvert_exporter": "python",
   "pygments_lexer": "ipython3",
   "version": "3.8.3"
  }
 },
 "nbformat": 4,
 "nbformat_minor": 1
}
